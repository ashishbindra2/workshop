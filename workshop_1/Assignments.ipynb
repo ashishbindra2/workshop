{
 "cells": [
  {
   "cell_type": "code",
   "execution_count": null,
   "id": "a4c4cc14",
   "metadata": {},
   "outputs": [],
   "source": [
    "#### Assingnments\n"
   ]
  },
  {
   "cell_type": "markdown",
   "id": "84f23c60",
   "metadata": {},
   "source": [
    "#### 1. Python Program to Print Hello world!\n"
   ]
  },
  {
   "cell_type": "code",
   "execution_count": 1,
   "id": "9d24b2a6",
   "metadata": {},
   "outputs": [
    {
     "name": "stdout",
     "output_type": "stream",
     "text": [
      "Hello world!\n"
     ]
    }
   ],
   "source": [
    "print(\"Hello world!\")"
   ]
  },
  {
   "cell_type": "markdown",
   "id": "0b621538",
   "metadata": {},
   "source": [
    "#### 2. Python Program to Add Two Numbers\n"
   ]
  },
  {
   "cell_type": "code",
   "execution_count": 3,
   "id": "ad4da46b",
   "metadata": {},
   "outputs": [
    {
     "data": {
      "text/plain": [
       "23"
      ]
     },
     "execution_count": 3,
     "metadata": {},
     "output_type": "execute_result"
    }
   ],
   "source": [
    "num1 = 11\n",
    "num2 = 12\n",
    "\n",
    "num1 + num2"
   ]
  },
  {
   "cell_type": "markdown",
   "id": "dfc35475",
   "metadata": {},
   "source": [
    "#### 3. Python Program to Find the Square Root\n"
   ]
  },
  {
   "cell_type": "code",
   "execution_count": 111,
   "id": "7f30cef1",
   "metadata": {},
   "outputs": [
    {
     "name": "stdout",
     "output_type": "stream",
     "text": [
      "The square root of 8.000 is 2.828\n"
     ]
    }
   ],
   "source": [
    "# Python Program to calculate the square root\n",
    "\n",
    "# Note: change this value for a different result\n",
    "num = 8 \n",
    "\n",
    "# To take the input from the user\n",
    "#num = float(input('Enter a number: '))\n",
    "\n",
    "num_sqrt = num ** 0.5\n",
    "print('The square root of %0.3f is %0.3f'%(num ,num_sqrt))\n"
   ]
  },
  {
   "cell_type": "code",
   "execution_count": 112,
   "id": "5b84ebe1",
   "metadata": {},
   "outputs": [
    {
     "name": "stdout",
     "output_type": "stream",
     "text": [
      "The square root of (1+2j) is 1.272+0.786j\n"
     ]
    }
   ],
   "source": [
    "# Find square root of real or complex numbers\n",
    "# Importing the complex math module\n",
    "import cmath\n",
    "\n",
    "num = 1+2j\n",
    "\n",
    "# To take input from the user\n",
    "#num = eval(input('Enter a number: '))\n",
    "\n",
    "num_sqrt = cmath.sqrt(num)\n",
    "print('The square root of {0} is {1:0.3f}+{2:0.3f}j'.format(num ,num_sqrt.real,num_sqrt.imag))\n"
   ]
  },
  {
   "cell_type": "code",
   "execution_count": 4,
   "id": "cd2c8c9c",
   "metadata": {},
   "outputs": [
    {
     "data": {
      "text/plain": [
       "2.0"
      ]
     },
     "execution_count": 4,
     "metadata": {},
     "output_type": "execute_result"
    }
   ],
   "source": [
    "import math\n",
    "\n",
    "math.sqrt(4)"
   ]
  },
  {
   "cell_type": "code",
   "execution_count": 5,
   "id": "7034cb90",
   "metadata": {},
   "outputs": [
    {
     "data": {
      "text/plain": [
       "6.4031242374328485"
      ]
     },
     "execution_count": 5,
     "metadata": {},
     "output_type": "execute_result"
    }
   ],
   "source": [
    "math.sqrt(41)"
   ]
  },
  {
   "cell_type": "code",
   "execution_count": 7,
   "id": "c6b3950c",
   "metadata": {},
   "outputs": [
    {
     "name": "stdout",
     "output_type": "stream",
     "text": [
      "enter number 33\n"
     ]
    },
    {
     "data": {
      "text/plain": [
       "5.744562646538029"
      ]
     },
     "execution_count": 7,
     "metadata": {},
     "output_type": "execute_result"
    }
   ],
   "source": [
    "num1 = float(input(\"enter number \"))\n",
    "math.sqrt(num1)"
   ]
  },
  {
   "attachments": {
    "3.PNG": {
     "image/png": "[encoded data removed]"
    }
   },
   "cell_type": "markdown",
   "id": "3f1f79a1",
   "metadata": {},
   "source": [
    "#### 4. Python Program to Calculate the Area of a Triangle\n",
    "![3.PNG](attachment:3.PNG)"
   ]
  },
  {
   "cell_type": "code",
   "execution_count": 113,
   "id": "01c9b661",
   "metadata": {},
   "outputs": [
    {
     "name": "stdout",
     "output_type": "stream",
     "text": [
      "The area of the triangle is 14.70\n"
     ]
    }
   ],
   "source": [
    "# Python Program to find the area of triangle\n",
    "\n",
    "a = 5\n",
    "b = 6\n",
    "c = 7\n",
    "\n",
    "# Uncomment below to take inputs from the user\n",
    "# a = float(input('Enter first side: '))\n",
    "# b = float(input('Enter second side: '))\n",
    "# c = float(input('Enter third side: '))\n",
    "\n",
    "# calculate the semi-perimeter\n",
    "s = (a + b + c) / 2\n",
    "\n",
    "# calculate the area\n",
    "area = (s*(s-a)*(s-b)*(s-c)) ** 0.5\n",
    "print('The area of the triangle is %0.2f' %area)"
   ]
  },
  {
   "cell_type": "code",
   "execution_count": 8,
   "id": "b66067bf",
   "metadata": {},
   "outputs": [
    {
     "data": {
      "text/plain": [
       "75.30999999999999"
      ]
     },
     "execution_count": 8,
     "metadata": {},
     "output_type": "execute_result"
    }
   ],
   "source": [
    "base = 3.4\n",
    "height = 44.3\n",
    "\n",
    "area_of_trangle = 0.5 * base * height\n",
    "area_of_trangle"
   ]
  },
  {
   "cell_type": "markdown",
   "id": "1aa9e167",
   "metadata": {},
   "source": [
    "#### 5. Python Program to Solve Quadratic Equation"
   ]
  },
  {
   "cell_type": "code",
   "execution_count": 114,
   "id": "aa44df8b",
   "metadata": {},
   "outputs": [
    {
     "name": "stdout",
     "output_type": "stream",
     "text": [
      "The solution are (-3+0j) and (-2+0j)\n"
     ]
    }
   ],
   "source": [
    "# Solve the quadratic equation ax**2 + bx + c = 0\n",
    "\n",
    "# import complex math module\n",
    "import cmath\n",
    "\n",
    "a = 1\n",
    "b = 5\n",
    "c = 6\n",
    "\n",
    "# calculate the discriminant\n",
    "d = (b**2) - (4*a*c)\n",
    "\n",
    "# find two solutions\n",
    "sol1 = (-b-cmath.sqrt(d))/(2*a)\n",
    "sol2 = (-b+cmath.sqrt(d))/(2*a)\n",
    "\n",
    "print('The solution are {0} and {1}'.format(sol1,sol2))\n"
   ]
  },
  {
   "cell_type": "markdown",
   "id": "1872c540",
   "metadata": {},
   "source": [
    "#### 6. Python Program to Swap Two Variables\n"
   ]
  },
  {
   "cell_type": "code",
   "execution_count": 9,
   "id": "1dec806f",
   "metadata": {},
   "outputs": [
    {
     "name": "stdout",
     "output_type": "stream",
     "text": [
      "20 10\n"
     ]
    }
   ],
   "source": [
    "a=10\n",
    "b=20\n",
    "\n",
    "a,b = b,a\n",
    "\n",
    "print(a,b)"
   ]
  },
  {
   "cell_type": "code",
   "execution_count": 115,
   "id": "71b15952",
   "metadata": {},
   "outputs": [
    {
     "name": "stdout",
     "output_type": "stream",
     "text": [
      "The value of x after swapping: 10\n",
      "The value of y after swapping: 5\n"
     ]
    }
   ],
   "source": [
    "# Python program to swap two variables\n",
    "\n",
    "x = 5\n",
    "y = 10\n",
    "\n",
    "# To take inputs from the user\n",
    "#x = input('Enter value of x: ')\n",
    "#y = input('Enter value of y: ')\n",
    "\n",
    "# create a temporary variable and swap the values\n",
    "temp = x\n",
    "x = y\n",
    "y = temp\n",
    "\n",
    "print('The value of x after swapping: {}'.format(x))\n",
    "print('The value of y after swapping: {}'.format(y))\n"
   ]
  },
  {
   "cell_type": "code",
   "execution_count": 120,
   "id": "2810629a",
   "metadata": {
    "scrolled": true
   },
   "outputs": [
    {
     "data": {
      "text/plain": [
       "(10, 5)"
      ]
     },
     "execution_count": 120,
     "metadata": {},
     "output_type": "execute_result"
    }
   ],
   "source": [
    "x = 5\n",
    "y = 10\n",
    "x = x + y\n",
    "y = x - y\n",
    "x = x - y\n",
    "x,y"
   ]
  },
  {
   "cell_type": "code",
   "execution_count": 119,
   "id": "8ea9b35b",
   "metadata": {},
   "outputs": [
    {
     "ename": "TypeError",
     "evalue": "unsupported operand type(s) for ^: 'float' and 'float'",
     "output_type": "error",
     "traceback": [
      "\u001b[1;31m---------------------------------------------------------------------------\u001b[0m",
      "\u001b[1;31mTypeError\u001b[0m                                 Traceback (most recent call last)",
      "Cell \u001b[1;32mIn[119], line 1\u001b[0m\n\u001b[1;32m----> 1\u001b[0m x \u001b[38;5;241m=\u001b[39m x \u001b[38;5;241m^\u001b[39m y\n\u001b[0;32m      2\u001b[0m y \u001b[38;5;241m=\u001b[39m x \u001b[38;5;241m^\u001b[39m y\n\u001b[0;32m      3\u001b[0m x \u001b[38;5;241m=\u001b[39m x \u001b[38;5;241m^\u001b[39m y\n",
      "\u001b[1;31mTypeError\u001b[0m: unsupported operand type(s) for ^: 'float' and 'float'"
     ]
    }
   ],
   "source": [
    "x = x ^ y\n",
    "y = x ^ y\n",
    "x = x ^ y\n",
    "x,y"
   ]
  },
  {
   "cell_type": "code",
   "execution_count": 118,
   "id": "fb0a177a",
   "metadata": {},
   "outputs": [
    {
     "data": {
      "text/plain": [
       "(5.0, 10.0)"
      ]
     },
     "execution_count": 118,
     "metadata": {},
     "output_type": "execute_result"
    }
   ],
   "source": [
    "x = x * y\n",
    "y = x / y\n",
    "x = x / y\n",
    "x,y"
   ]
  },
  {
   "cell_type": "markdown",
   "id": "10df7fa0",
   "metadata": {},
   "source": [
    "#### 7. Python Program to Generate a Random Number\n"
   ]
  },
  {
   "cell_type": "code",
   "execution_count": 121,
   "id": "1dcd0e44",
   "metadata": {},
   "outputs": [
    {
     "name": "stdout",
     "output_type": "stream",
     "text": [
      "3\n"
     ]
    }
   ],
   "source": [
    "# Program to generate a random number between 0 and 9\n",
    "\n",
    "# importing the random module\n",
    "import random\n",
    "\n",
    "print(random.randint(0,9))\n"
   ]
  },
  {
   "cell_type": "code",
   "execution_count": 15,
   "id": "05ced329",
   "metadata": {
    "scrolled": true
   },
   "outputs": [
    {
     "data": {
      "text/plain": [
       "8"
      ]
     },
     "execution_count": 15,
     "metadata": {},
     "output_type": "execute_result"
    }
   ],
   "source": [
    "from random import randint,random\n",
    "\n",
    "randint(1,11)"
   ]
  },
  {
   "cell_type": "code",
   "execution_count": 50,
   "id": "445bc736",
   "metadata": {},
   "outputs": [
    {
     "data": {
      "text/plain": [
       "9.016801225180211"
      ]
     },
     "execution_count": 50,
     "metadata": {},
     "output_type": "execute_result"
    }
   ],
   "source": [
    "random_float = random()*10\n",
    "random_float"
   ]
  },
  {
   "cell_type": "markdown",
   "id": "d4c7cbcd",
   "metadata": {},
   "source": [
    "#### 8. Python Program to Convert Kilometers to Miles\n"
   ]
  },
  {
   "cell_type": "code",
   "execution_count": 122,
   "id": "084bb781",
   "metadata": {},
   "outputs": [
    {
     "name": "stdout",
     "output_type": "stream",
     "text": [
      "Enter value in kilometers: 100\n",
      "100.00 kilometers is equal to 62.14 miles\n"
     ]
    }
   ],
   "source": [
    "# Taking kilometers input from the user\n",
    "kilometers = float(input(\"Enter value in kilometers: \"))\n",
    "\n",
    "# conversion factor\n",
    "conv_fac = 0.621371\n",
    "\n",
    "# calculate miles\n",
    "miles = kilometers * conv_fac\n",
    "print('%0.2f kilometers is equal to %0.2f miles' %(kilometers,miles))\n"
   ]
  },
  {
   "cell_type": "code",
   "execution_count": 68,
   "id": "eabdfa4f",
   "metadata": {},
   "outputs": [
    {
     "data": {
      "text/plain": [
       "62.137100000000004"
      ]
     },
     "execution_count": 68,
     "metadata": {},
     "output_type": "execute_result"
    }
   ],
   "source": [
    "kilometers = 100\n",
    "conversion_factor = 0.621371\n",
    "kilometers * conversion_factor"
   ]
  },
  {
   "cell_type": "code",
   "execution_count": 70,
   "id": "3b5fcb67",
   "metadata": {
    "scrolled": true
   },
   "outputs": [
    {
     "data": {
      "text/plain": [
       "62.13711922373339"
      ]
     },
     "execution_count": 70,
     "metadata": {},
     "output_type": "execute_result"
    }
   ],
   "source": [
    "miles = kilometers/1.609344\n",
    "miles"
   ]
  },
  {
   "cell_type": "code",
   "execution_count": 78,
   "id": "74bdf985",
   "metadata": {},
   "outputs": [
    {
     "name": "stdout",
     "output_type": "stream",
     "text": [
      "62.14\n"
     ]
    }
   ],
   "source": [
    "print(f\"{miles:.2f}\")"
   ]
  },
  {
   "attachments": {
    "5.PNG": {
     "image/png": "[encoded data removed]"
    }
   },
   "cell_type": "markdown",
   "id": "e0e7e132",
   "metadata": {},
   "source": [
    "#### 9. Python Program to Convert Celsius To Fahrenheit\n",
    "![5.PNG](attachment:5.PNG)"
   ]
  },
  {
   "cell_type": "code",
   "execution_count": 123,
   "id": "b6e1e318",
   "metadata": {},
   "outputs": [
    {
     "name": "stdout",
     "output_type": "stream",
     "text": [
      "37.5 degree Celsius is equal to 99.5 degree Fahrenheit\n"
     ]
    }
   ],
   "source": [
    "# Python Program to convert temperature in celsius to fahrenheit\n",
    "\n",
    "# change this value for a different result\n",
    "celsius = 37.5\n",
    "\n",
    "# calculate fahrenheit\n",
    "fahrenheit = (celsius * 1.8) + 32\n",
    "print('%0.1f degree Celsius is equal to %0.1f degree Fahrenheit' %(celsius,fahrenheit))\n"
   ]
  },
  {
   "cell_type": "code",
   "execution_count": 81,
   "id": "6862a6db",
   "metadata": {},
   "outputs": [
    {
     "data": {
      "text/plain": [
       "98.6"
      ]
     },
     "execution_count": 81,
     "metadata": {},
     "output_type": "execute_result"
    }
   ],
   "source": [
    "celsius = 37\n",
    "fahrenheit =(celsius * 9/5) + 32\n",
    "fahrenheit"
   ]
  },
  {
   "cell_type": "markdown",
   "id": "550824fe",
   "metadata": {},
   "source": [
    "#### 10. Python Program to Check if a Number is Positive, Negative or 0\n"
   ]
  },
  {
   "cell_type": "code",
   "execution_count": 124,
   "id": "8580f741",
   "metadata": {},
   "outputs": [
    {
     "name": "stdout",
     "output_type": "stream",
     "text": [
      "Enter a number: 22\n",
      "Positive number\n"
     ]
    }
   ],
   "source": [
    "num = float(input(\"Enter a number: \"))\n",
    "if num > 0:\n",
    "   print(\"Positive number\")\n",
    "elif num == 0:\n",
    "   print(\"Zero\")\n",
    "else:\n",
    "   print(\"Negative number\")\n"
   ]
  },
  {
   "cell_type": "code",
   "execution_count": 125,
   "id": "146cb8f9",
   "metadata": {},
   "outputs": [
    {
     "name": "stdout",
     "output_type": "stream",
     "text": [
      "Enter a number: 12\n",
      "Positive number\n"
     ]
    }
   ],
   "source": [
    "num = float(input(\"Enter a number: \"))\n",
    "if num >= 0:\n",
    "   if num == 0:\n",
    "       print(\"Zero\")\n",
    "   else:\n",
    "       print(\"Positive number\")\n",
    "else:\n",
    "   print(\"Negative number\")\n"
   ]
  },
  {
   "cell_type": "code",
   "execution_count": 83,
   "id": "f9db1031",
   "metadata": {},
   "outputs": [
    {
     "name": "stdout",
     "output_type": "stream",
     "text": [
      "The number is negative.\n"
     ]
    }
   ],
   "source": [
    "num = -2\n",
    "if num > 0:\n",
    "    print(\"The number is positive.\")\n",
    "elif num < 0:\n",
    "    print(\"The number is negative.\")\n",
    "else:\n",
    "    print(\"The number is zero.\")"
   ]
  },
  {
   "cell_type": "markdown",
   "id": "bb528082",
   "metadata": {},
   "source": [
    "#### 11. Python Program to Check if a Number is Odd or Even\n"
   ]
  },
  {
   "cell_type": "code",
   "execution_count": 85,
   "id": "8573fce2",
   "metadata": {},
   "outputs": [
    {
     "name": "stdout",
     "output_type": "stream",
     "text": [
      "even\n"
     ]
    }
   ],
   "source": [
    "num =22\n",
    "\n",
    "if num % 2:\n",
    "    print(\"odd\")\n",
    "else:\n",
    "    print(\"even\")"
   ]
  },
  {
   "cell_type": "markdown",
   "id": "4e12e43c",
   "metadata": {},
   "source": [
    "#### 12. Python Program to Check Leap Year\n"
   ]
  },
  {
   "cell_type": "code",
   "execution_count": 86,
   "id": "d8cddd81",
   "metadata": {},
   "outputs": [
    {
     "name": "stdout",
     "output_type": "stream",
     "text": [
      "2020 is a leap year.\n"
     ]
    }
   ],
   "source": [
    "# Function to check if a year is a leap year\n",
    "def is_leap_year(year):\n",
    "    if (year % 4 == 0):\n",
    "        if (year % 100 == 0):\n",
    "            if (year % 400 == 0):\n",
    "                return True\n",
    "            else:\n",
    "                return False\n",
    "        else:\n",
    "            return True\n",
    "    else:\n",
    "        return False\n",
    "\n",
    "# Input: Year to be checked\n",
    "year = 2020\n",
    "\n",
    "# Output: Result of the leap year check\n",
    "if is_leap_year(year):\n",
    "    print(f\"{year} is a leap year.\")\n",
    "else:\n",
    "    print(f\"{year} is not a leap year.\")\n"
   ]
  },
  {
   "cell_type": "markdown",
   "id": "cb6be1b5",
   "metadata": {},
   "source": [
    "#### 13. Python Program to Find the Largest Among Three Numbers\n"
   ]
  },
  {
   "cell_type": "code",
   "execution_count": 100,
   "id": "4f08ec85",
   "metadata": {},
   "outputs": [
    {
     "name": "stdout",
     "output_type": "stream",
     "text": [
      "8\n"
     ]
    }
   ],
   "source": [
    "a=5\n",
    "b=6\n",
    "c=8\n",
    "\n",
    "if a >= b and a >= c:\n",
    "    print(a)\n",
    "elif b >= a and b >= c:\n",
    "    print(b)\n",
    "else:\n",
    "    print(c)"
   ]
  },
  {
   "cell_type": "code",
   "execution_count": 109,
   "id": "923c0b1c",
   "metadata": {},
   "outputs": [
    {
     "name": "stdout",
     "output_type": "stream",
     "text": [
      "8\n"
     ]
    }
   ],
   "source": [
    "# The wrong way \n",
    "\n",
    "a=5\n",
    "b=6\n",
    "c=8\n",
    "\n",
    "if a>b>c:\n",
    "    print(a)\n",
    "elif b>a>c:\n",
    "    print(b)\n",
    "else:\n",
    "    print(c)\n"
   ]
  },
  {
   "cell_type": "markdown",
   "id": "4f9c2edc",
   "metadata": {},
   "source": [
    "#### 14. Python Program to Check Prime Number\n"
   ]
  },
  {
   "cell_type": "code",
   "execution_count": 110,
   "id": "fe54581e",
   "metadata": {},
   "outputs": [
    {
     "name": "stdout",
     "output_type": "stream",
     "text": [
      "63 is not a prime number.\n"
     ]
    }
   ],
   "source": [
    "# Function to check if a number is prime\n",
    "def is_prime(number):\n",
    "    if number <= 1:\n",
    "        return False\n",
    "    elif number <= 3:\n",
    "        return True\n",
    "    elif number % 2 == 0 or number % 3 == 0:\n",
    "        return False\n",
    "    i = 5\n",
    "    while i * i <= number:\n",
    "        if number % i == 0 or number % (i + 2) == 0:\n",
    "            return False\n",
    "        i += 6\n",
    "    return True\n",
    "\n",
    "# Input: Number to be checked\n",
    "num = 63\n",
    "\n",
    "# Output: Result of the prime check\n",
    "if is_prime(num):\n",
    "    print(f\"{num} is a prime number.\")\n",
    "else:\n",
    "    print(f\"{num} is not a prime number.\")\n"
   ]
  },
  {
   "cell_type": "code",
   "execution_count": 112,
   "id": "94b7485d",
   "metadata": {
    "collapsed": true
   },
   "outputs": [
    {
     "data": {
      "text/plain": [
       "False"
      ]
     },
     "execution_count": 112,
     "metadata": {},
     "output_type": "execute_result"
    }
   ],
   "source": [
    "from sympy import *\n",
    "\n",
    "# calling isprime function on different numbers\n",
    "geek1 = isprime(30)\n",
    "geek1"
   ]
  },
  {
   "cell_type": "code",
   "execution_count": 114,
   "id": "48880301",
   "metadata": {},
   "outputs": [
    {
     "name": "stdout",
     "output_type": "stream",
     "text": [
      "True\n"
     ]
    }
   ],
   "source": [
    "import math\n",
    "\n",
    "def is_prime(n):\n",
    "    if n <= 1:\n",
    "        return False\n",
    "    for i in range(2, int(math.sqrt(n)) + 1):\n",
    "        if n % i == 0:\n",
    "            return False\n",
    "    return True\n",
    "n = 11\n",
    "print(is_prime(n))"
   ]
  },
  {
   "cell_type": "code",
   "execution_count": 115,
   "id": "82e987a3",
   "metadata": {
    "collapsed": true
   },
   "outputs": [
    {
     "name": "stdout",
     "output_type": "stream",
     "text": [
      "True\n",
      "False\n"
     ]
    }
   ],
   "source": [
    "import math\n",
    "\n",
    "def is_prime(n):\n",
    "    if n < 2:\n",
    "        return False\n",
    "    i = 2\n",
    "    while i*i <= n:\n",
    "        if n % i == 0:\n",
    "            return False\n",
    "        i += 1\n",
    "    return True\n",
    "\n",
    "print(is_prime(11))  # True\n",
    "print(is_prime(1))   # False"
   ]
  },
  {
   "cell_type": "code",
   "execution_count": 116,
   "id": "2486a16e",
   "metadata": {},
   "outputs": [
    {
     "name": "stdout",
     "output_type": "stream",
     "text": [
      "True\n"
     ]
    }
   ],
   "source": [
    "def is_prime_trial_division(n):\n",
    "  \n",
    "    # Check if the number is less than\n",
    "    # or equal to 1, return False if it is\n",
    "    if n <= 1:\n",
    "        return False\n",
    "      \n",
    "    # Loop through all numbers from 2 to\n",
    "    # the square root of n (rounded down to the nearest integer)\n",
    "    for i in range(2, int(n**0.5)+1):\n",
    "      \n",
    "        # If n is divisible by any of these numbers, return False\n",
    "        if n % i == 0:\n",
    "            return False\n",
    "          \n",
    "    # If n is not divisible by any of these numbers, return True\n",
    "    return True\n",
    "\n",
    "\n",
    "# Test the function with n = 11\n",
    "print(is_prime_trial_division(11))\n"
   ]
  },
  {
   "cell_type": "code",
   "execution_count": 117,
   "id": "b82f18d2",
   "metadata": {},
   "outputs": [
    {
     "name": "stdout",
     "output_type": "stream",
     "text": [
      "True\n"
     ]
    }
   ],
   "source": [
    "from math import sqrt\n",
    "\n",
    "def Prime(number,itr):  #prime function to check given number prime or not\n",
    "  if itr == 1 or itr == 2:   #base condition\n",
    "    return True\n",
    "  if number % itr == 0:  #if given number divided by itr or not\n",
    "    return False\n",
    "  if Prime(number,itr-1) == False:   #Recursive function Call\n",
    "    return False \n",
    "    \n",
    "  return True\n",
    " \n",
    "num = 13\n",
    "\n",
    "itr = int(sqrt(num)+1)\n",
    "\n",
    "print(Prime(num,itr))\n"
   ]
  },
  {
   "cell_type": "markdown",
   "id": "caafaf9d",
   "metadata": {},
   "source": [
    "#### 15. Python Program to Print all Prime Numbers in an Interval\n"
   ]
  },
  {
   "cell_type": "code",
   "execution_count": 106,
   "id": "f814f3eb",
   "metadata": {},
   "outputs": [
    {
     "name": "stdout",
     "output_type": "stream",
     "text": [
      "Prime numbers between 900 and 1000 are:\n",
      "907\n",
      "911\n",
      "919\n",
      "929\n",
      "937\n",
      "941\n",
      "947\n",
      "953\n",
      "967\n",
      "971\n",
      "977\n",
      "983\n",
      "991\n",
      "997\n"
     ]
    }
   ],
   "source": [
    "# Python program to display all the prime numbers within an interval\n",
    "\n",
    "lower = 900\n",
    "upper = 1000\n",
    "\n",
    "print(\"Prime numbers between\", lower, \"and\", upper, \"are:\")\n",
    "\n",
    "for num in range(lower, upper + 1):\n",
    "   # all prime numbers are greater than 1\n",
    "   if num > 1:\n",
    "       for i in range(2, num):\n",
    "           if (num % i) == 0:\n",
    "               break\n",
    "       else:\n",
    "           print(num)"
   ]
  },
  {
   "cell_type": "markdown",
   "id": "f80d86f9",
   "metadata": {},
   "source": [
    "#### 16. Python Program to Find the Factorial of a Number\n"
   ]
  },
  {
   "cell_type": "code",
   "execution_count": 107,
   "id": "f9651641",
   "metadata": {},
   "outputs": [
    {
     "name": "stdout",
     "output_type": "stream",
     "text": [
      "The factorial of 7 is 5040\n"
     ]
    }
   ],
   "source": [
    "# Python program to find the factorial of a number provided by the user.\n",
    "\n",
    "# change the value for a different result\n",
    "num = 7\n",
    "\n",
    "# To take input from the user\n",
    "#num = int(input(\"Enter a number: \"))\n",
    "\n",
    "factorial = 1\n",
    "\n",
    "# check if the number is negative, positive or zero\n",
    "if num < 0:\n",
    "   print(\"Sorry, factorial does not exist for negative numbers\")\n",
    "elif num == 0:\n",
    "   print(\"The factorial of 0 is 1\")\n",
    "else:\n",
    "   for i in range(1,num + 1):\n",
    "       factorial = factorial*i\n",
    "   print(\"The factorial of\",num,\"is\",factorial)\n"
   ]
  },
  {
   "cell_type": "code",
   "execution_count": 108,
   "id": "7b33c419",
   "metadata": {},
   "outputs": [
    {
     "name": "stdout",
     "output_type": "stream",
     "text": [
      "The factorial of 7 is 5040\n"
     ]
    }
   ],
   "source": [
    "# Python program to find the factorial of a number provided by the user\n",
    "# using recursion\n",
    "\n",
    "def factorial(x):\n",
    "    \"\"\"This is a recursive function\n",
    "    to find the factorial of an integer\"\"\"\n",
    "\n",
    "    if x == 1 or x == 0:\n",
    "        return 1\n",
    "    else:\n",
    "        # recursive call to the function\n",
    "        return (x * factorial(x-1))\n",
    "\n",
    "\n",
    "# change the value for a different result\n",
    "num = 7\n",
    "\n",
    "# to take input from the user\n",
    "# num = int(input(\"Enter a number: \"))\n",
    "\n",
    "# call the factorial function\n",
    "result = factorial(num)\n",
    "print(\"The factorial of\", num, \"is\", result)"
   ]
  },
  {
   "cell_type": "markdown",
   "id": "c7486518",
   "metadata": {},
   "source": [
    "#### 17. Python Program to Display the multiplication Table\n"
   ]
  },
  {
   "cell_type": "code",
   "execution_count": 109,
   "id": "ecdfc11a",
   "metadata": {},
   "outputs": [
    {
     "name": "stdout",
     "output_type": "stream",
     "text": [
      "12 x 1 = 12\n",
      "12 x 2 = 24\n",
      "12 x 3 = 36\n",
      "12 x 4 = 48\n",
      "12 x 5 = 60\n",
      "12 x 6 = 72\n",
      "12 x 7 = 84\n",
      "12 x 8 = 96\n",
      "12 x 9 = 108\n",
      "12 x 10 = 120\n"
     ]
    }
   ],
   "source": [
    "# Multiplication table (from 1 to 10) in Python\n",
    "\n",
    "num = 12\n",
    "\n",
    "# To take input from the user\n",
    "# num = int(input(\"Display multiplication table of? \"))\n",
    "\n",
    "# Iterate 10 times from i = 1 to 10\n",
    "for i in range(1, 11):\n",
    "   print(num, 'x', i, '=', num*i)\n"
   ]
  },
  {
   "cell_type": "markdown",
   "id": "56d5cdc3",
   "metadata": {},
   "source": [
    "#### 18. Python Program to Print the Fibonacci sequence\n"
   ]
  },
  {
   "cell_type": "code",
   "execution_count": 110,
   "id": "4464b174",
   "metadata": {},
   "outputs": [
    {
     "name": "stdout",
     "output_type": "stream",
     "text": [
      "How many terms? 5\n",
      "Fibonacci sequence:\n",
      "0\n",
      "1\n",
      "1\n",
      "2\n",
      "3\n"
     ]
    }
   ],
   "source": [
    "# Program to display the Fibonacci sequence up to n-th term\n",
    "\n",
    "nterms = int(input(\"How many terms? \"))\n",
    "\n",
    "# first two terms\n",
    "n1, n2 = 0, 1\n",
    "count = 0\n",
    "\n",
    "# check if the number of terms is valid\n",
    "if nterms <= 0:\n",
    "   print(\"Please enter a positive integer\")\n",
    "# if there is only one term, return n1\n",
    "elif nterms == 1:\n",
    "   print(\"Fibonacci sequence upto\",nterms,\":\")\n",
    "   print(n1)\n",
    "# generate fibonacci sequence\n",
    "else:\n",
    "   print(\"Fibonacci sequence:\")\n",
    "   while count < nterms:\n",
    "       print(n1)\n",
    "       nth = n1 + n2\n",
    "       # update values\n",
    "       n1 = n2\n",
    "       n2 = nth\n",
    "       count += 1"
   ]
  },
  {
   "cell_type": "markdown",
   "id": "b3c661b8",
   "metadata": {},
   "source": [
    "#### 19. Python Program to Check Armstrong Number\n"
   ]
  },
  {
   "cell_type": "markdown",
   "id": "bee4092e",
   "metadata": {},
   "source": [
    "153 = 1*1*1 + 5*5*5 + 3*3*3  // 153 is an Armstrong number.\n"
   ]
  },
  {
   "cell_type": "code",
   "execution_count": 1,
   "id": "f9ffefeb",
   "metadata": {},
   "outputs": [
    {
     "name": "stdout",
     "output_type": "stream",
     "text": [
      "Enter a number: 133\n",
      "133 is not an Armstrong number\n"
     ]
    }
   ],
   "source": [
    "# Source Code: Check Armstrong number (for 3 digits)\n",
    "# Python program to check if the number is an Armstrong number or not\n",
    "\n",
    "# take input from the user\n",
    "num = int(input(\"Enter a number: \"))\n",
    "\n",
    "# initialize sum\n",
    "sum = 0\n",
    "\n",
    "# find the sum of the cube of each digit\n",
    "temp = num\n",
    "while temp > 0:\n",
    "   digit = temp % 10\n",
    "   sum += digit ** 3\n",
    "   temp //= 10\n",
    "\n",
    "# display the result\n",
    "if num == sum:\n",
    "   print(num,\"is an Armstrong number\")\n",
    "else:\n",
    "   print(num,\"is not an Armstrong number\")"
   ]
  },
  {
   "cell_type": "markdown",
   "id": "c5f0cca9",
   "metadata": {},
   "source": [
    "#### 20. Python Program to Find Armstrong Number in an Interval\n"
   ]
  },
  {
   "cell_type": "code",
   "execution_count": 2,
   "id": "a1bb3ffe",
   "metadata": {},
   "outputs": [
    {
     "name": "stdout",
     "output_type": "stream",
     "text": [
      "153\n",
      "370\n",
      "371\n",
      "407\n",
      "1634\n"
     ]
    }
   ],
   "source": [
    "# Program to check Armstrong numbers in a certain interval\n",
    "\n",
    "lower = 100\n",
    "upper = 2000\n",
    "\n",
    "for num in range(lower, upper + 1):\n",
    "\n",
    "   # order of number\n",
    "   order = len(str(num))\n",
    "    \n",
    "   # initialize sum\n",
    "   sum = 0\n",
    "\n",
    "   temp = num\n",
    "   while temp > 0:\n",
    "       digit = temp % 10\n",
    "       sum += digit ** order\n",
    "       temp //= 10\n",
    "\n",
    "   if num == sum:\n",
    "       print(num)\n"
   ]
  },
  {
   "cell_type": "markdown",
   "id": "ea157dcc",
   "metadata": {},
   "source": [
    "#### 21. Python Program to Find the Sum of Natural Numbers\n"
   ]
  },
  {
   "cell_type": "code",
   "execution_count": 3,
   "id": "51f8123e",
   "metadata": {},
   "outputs": [
    {
     "name": "stdout",
     "output_type": "stream",
     "text": [
      "The sum is 136\n"
     ]
    }
   ],
   "source": [
    "# Sum of natural numbers up to num\n",
    "\n",
    "num = 16\n",
    "\n",
    "if num < 0:\n",
    "   print(\"Enter a positive number\")\n",
    "else:\n",
    "   sum = 0\n",
    "   # use while loop to iterate until zero\n",
    "   while(num > 0):\n",
    "       sum += num\n",
    "       num -= 1\n",
    "   print(\"The sum is\", sum)\n"
   ]
  },
  {
   "cell_type": "markdown",
   "id": "470bed4f",
   "metadata": {},
   "source": [
    "#### 22. Python Program to Display Powers of 2 Using Anonymous Function\n"
   ]
  },
  {
   "cell_type": "code",
   "execution_count": 4,
   "id": "3461780b",
   "metadata": {},
   "outputs": [
    {
     "name": "stdout",
     "output_type": "stream",
     "text": [
      "The total terms are: 10\n",
      "2 raised to power 0 is 1\n",
      "2 raised to power 1 is 2\n",
      "2 raised to power 2 is 4\n",
      "2 raised to power 3 is 8\n",
      "2 raised to power 4 is 16\n",
      "2 raised to power 5 is 32\n",
      "2 raised to power 6 is 64\n",
      "2 raised to power 7 is 128\n",
      "2 raised to power 8 is 256\n",
      "2 raised to power 9 is 512\n"
     ]
    }
   ],
   "source": [
    "# Display the powers of 2 using anonymous function\n",
    "\n",
    "terms = 10\n",
    "\n",
    "# Uncomment code below to take input from the user\n",
    "# terms = int(input(\"How many terms? \"))\n",
    "\n",
    "# use anonymous function\n",
    "result = list(map(lambda x: 2 ** x, range(terms)))\n",
    "\n",
    "print(\"The total terms are:\",terms)\n",
    "for i in range(terms):\n",
    "   print(\"2 raised to power\",i,\"is\",result[i])\n"
   ]
  },
  {
   "cell_type": "markdown",
   "id": "24de8f1b",
   "metadata": {},
   "source": [
    "#### 23. Python Program to Find Numbers Divisible by Another Number\n"
   ]
  },
  {
   "cell_type": "code",
   "execution_count": 5,
   "id": "b21a1fee",
   "metadata": {},
   "outputs": [
    {
     "name": "stdout",
     "output_type": "stream",
     "text": [
      "Numbers divisible by 13 are [65, 39, 221]\n"
     ]
    }
   ],
   "source": [
    "# Take a list of numbers\n",
    "my_list = [12, 65, 54, 39, 102, 339, 221,]\n",
    "\n",
    "# use anonymous function to filter\n",
    "result = list(filter(lambda x: (x % 13 == 0), my_list))\n",
    "\n",
    "# display the result\n",
    "print(\"Numbers divisible by 13 are\",result)\n"
   ]
  },
  {
   "cell_type": "markdown",
   "id": "32f061f8",
   "metadata": {},
   "source": [
    "#### 24. Python Program to Convert Decimal to Binary, Octal and Hexadecimal\n"
   ]
  },
  {
   "cell_type": "code",
   "execution_count": 6,
   "id": "a9a3f1ca",
   "metadata": {},
   "outputs": [
    {
     "name": "stdout",
     "output_type": "stream",
     "text": [
      "The decimal value of 344 is:\n",
      "0b101011000 in binary.\n",
      "0o530 in octal.\n",
      "0x158 in hexadecimal.\n"
     ]
    }
   ],
   "source": [
    "# Python program to convert decimal into other number systems\n",
    "dec = 344\n",
    "\n",
    "print(\"The decimal value of\", dec, \"is:\")\n",
    "print(bin(dec), \"in binary.\")\n",
    "print(oct(dec), \"in octal.\")\n",
    "print(hex(dec), \"in hexadecimal.\")\n"
   ]
  },
  {
   "cell_type": "markdown",
   "id": "f56aaba5",
   "metadata": {},
   "source": [
    "#### 25. Python Program to Find ASCII Value of Character\n"
   ]
  },
  {
   "cell_type": "code",
   "execution_count": 7,
   "id": "a346608a",
   "metadata": {},
   "outputs": [
    {
     "name": "stdout",
     "output_type": "stream",
     "text": [
      "The ASCII value of 'p' is 112\n"
     ]
    }
   ],
   "source": [
    "# Program to find the ASCII value of the given character\n",
    "\n",
    "c = 'p'\n",
    "print(\"The ASCII value of '\" + c + \"' is\", ord(c))\n"
   ]
  },
  {
   "cell_type": "markdown",
   "id": "6a71bf32",
   "metadata": {},
   "source": [
    "#### 26. Python Program to Find HCF or GCD\n"
   ]
  },
  {
   "cell_type": "code",
   "execution_count": 8,
   "id": "485e6c61",
   "metadata": {},
   "outputs": [
    {
     "name": "stdout",
     "output_type": "stream",
     "text": [
      "The H.C.F. is 6\n"
     ]
    }
   ],
   "source": [
    "# Python program to find H.C.F of two numbers\n",
    "\n",
    "# define a function\n",
    "def compute_hcf(x, y):\n",
    "\n",
    "# choose the smaller number\n",
    "    if x > y:\n",
    "        smaller = y\n",
    "    else:\n",
    "        smaller = x\n",
    "    for i in range(1, smaller+1):\n",
    "        if((x % i == 0) and (y % i == 0)):\n",
    "            hcf = i \n",
    "    return hcf\n",
    "\n",
    "num1 = 54 \n",
    "num2 = 24\n",
    "\n",
    "print(\"The H.C.F. is\", compute_hcf(num1, num2))\n"
   ]
  },
  {
   "cell_type": "code",
   "execution_count": 9,
   "id": "031fdb9e",
   "metadata": {},
   "outputs": [
    {
     "name": "stdout",
     "output_type": "stream",
     "text": [
      "The HCF is 100\n"
     ]
    }
   ],
   "source": [
    "# Function to find HCF the Using Euclidian algorithm\n",
    "def compute_hcf(x, y):\n",
    "   while(y):\n",
    "       x, y = y, x % y\n",
    "   return x\n",
    "\n",
    "hcf = compute_hcf(300, 400)\n",
    "print(\"The HCF is\", hcf)"
   ]
  },
  {
   "cell_type": "markdown",
   "id": "5fbb9703",
   "metadata": {},
   "source": [
    "#### 27. Python Program to Find LCM\n"
   ]
  },
  {
   "cell_type": "code",
   "execution_count": 105,
   "id": "e825ee2f",
   "metadata": {},
   "outputs": [
    {
     "name": "stdout",
     "output_type": "stream",
     "text": [
      "The L.C.M. is 216\n"
     ]
    }
   ],
   "source": [
    "# Python Program to find the L.C.M. of two input number\n",
    "\n",
    "def compute_lcm(x, y):\n",
    "\n",
    "   # choose the greater number\n",
    "   if x > y:\n",
    "       greater = x\n",
    "   else:\n",
    "       greater = y\n",
    "\n",
    "   while(True):\n",
    "       if((greater % x == 0) and (greater % y == 0)):\n",
    "           lcm = greater\n",
    "           break\n",
    "       greater += 1\n",
    "\n",
    "   return lcm\n",
    "\n",
    "num1 = 54\n",
    "num2 = 24\n",
    "\n",
    "print(\"The L.C.M. is\", compute_lcm(num1, num2))"
   ]
  },
  {
   "cell_type": "markdown",
   "id": "74ca7874",
   "metadata": {},
   "source": [
    "#### 28. Python Program to Find the Factors of a Number\n"
   ]
  },
  {
   "cell_type": "code",
   "execution_count": 104,
   "id": "d1231af5",
   "metadata": {},
   "outputs": [
    {
     "name": "stdout",
     "output_type": "stream",
     "text": [
      "The factors of 320 are:\n",
      "1\n",
      "2\n",
      "4\n",
      "5\n",
      "8\n",
      "10\n",
      "16\n",
      "20\n",
      "32\n",
      "40\n",
      "64\n",
      "80\n",
      "160\n",
      "320\n"
     ]
    }
   ],
   "source": [
    "# Python Program to find the factors of a number\n",
    "\n",
    "# This function computes the factor of the argument passed\n",
    "def print_factors(x):\n",
    "   print(\"The factors of\",x,\"are:\")\n",
    "   for i in range(1, x + 1):\n",
    "       if x % i == 0:\n",
    "           print(i)\n",
    "\n",
    "num = 320\n",
    "\n",
    "print_factors(num)\n"
   ]
  },
  {
   "cell_type": "markdown",
   "id": "a29dafc3",
   "metadata": {},
   "source": [
    "#### 29. Python Program to Make a Simple Calculator\n"
   ]
  },
  {
   "cell_type": "code",
   "execution_count": 103,
   "id": "385312be",
   "metadata": {},
   "outputs": [
    {
     "name": "stdout",
     "output_type": "stream",
     "text": [
      "Select operation.\n",
      "1.Add\n",
      "2.Subtract\n",
      "3.Multiply\n",
      "4.Divide\n",
      "Enter choice(1/2/3/4): 1\n",
      "Enter first number: 33\n",
      "Enter second number: 33\n",
      "33.0 + 33.0 = 66.0\n",
      "Let's do next calculation? (yes/no): n\n",
      "Enter choice(1/2/3/4): 2\n",
      "Enter first number: 22\n",
      "Enter second number: 33\n",
      "22.0 - 33.0 = -11.0\n",
      "Let's do next calculation? (yes/no): no\n"
     ]
    }
   ],
   "source": [
    "# This function adds two numbers\n",
    "def add(x, y):\n",
    "    return x + y\n",
    "\n",
    "# This function subtracts two numbers\n",
    "def subtract(x, y):\n",
    "    return x - y\n",
    "\n",
    "# This function multiplies two numbers\n",
    "def multiply(x, y):\n",
    "    return x * y\n",
    "\n",
    "# This function divides two numbers\n",
    "def divide(x, y):\n",
    "    return x / y\n",
    "\n",
    "\n",
    "print(\"Select operation.\")\n",
    "print(\"1.Add\")\n",
    "print(\"2.Subtract\")\n",
    "print(\"3.Multiply\")\n",
    "print(\"4.Divide\")\n",
    "\n",
    "while True:\n",
    "    # take input from the user\n",
    "    choice = input(\"Enter choice(1/2/3/4): \")\n",
    "\n",
    "    # check if choice is one of the four options\n",
    "    if choice in ('1', '2', '3', '4'):\n",
    "        try:\n",
    "            num1 = float(input(\"Enter first number: \"))\n",
    "            num2 = float(input(\"Enter second number: \"))\n",
    "        except ValueError:\n",
    "            print(\"Invalid input. Please enter a number.\")\n",
    "            continue\n",
    "\n",
    "        if choice == '1':\n",
    "            print(num1, \"+\", num2, \"=\", add(num1, num2))\n",
    "\n",
    "        elif choice == '2':\n",
    "            print(num1, \"-\", num2, \"=\", subtract(num1, num2))\n",
    "\n",
    "        elif choice == '3':\n",
    "            print(num1, \"*\", num2, \"=\", multiply(num1, num2))\n",
    "\n",
    "        elif choice == '4':\n",
    "            print(num1, \"/\", num2, \"=\", divide(num1, num2))\n",
    "        \n",
    "        # check if user wants another calculation\n",
    "        # break the while loop if answer is no\n",
    "        next_calculation = input(\"Let's do next calculation? (yes/no): \")\n",
    "        if next_calculation == \"no\":\n",
    "          break\n",
    "    else:\n",
    "        print(\"Invalid Input\")"
   ]
  },
  {
   "cell_type": "markdown",
   "id": "85a4663e",
   "metadata": {},
   "source": [
    "#### 30. Python Program to Shuffle Deck of Cards\n"
   ]
  },
  {
   "cell_type": "code",
   "execution_count": 102,
   "id": "7f5f57d8",
   "metadata": {},
   "outputs": [
    {
     "name": "stdout",
     "output_type": "stream",
     "text": [
      "[(1, 'Spade'), (1, 'Heart'), (1, 'Diamond'), (1, 'Club'), (2, 'Spade'), (2, 'Heart'), (2, 'Diamond'), (2, 'Club'), (3, 'Spade'), (3, 'Heart'), (3, 'Diamond'), (3, 'Club'), (4, 'Spade'), (4, 'Heart'), (4, 'Diamond'), (4, 'Club'), (5, 'Spade'), (5, 'Heart'), (5, 'Diamond'), (5, 'Club'), (6, 'Spade'), (6, 'Heart'), (6, 'Diamond'), (6, 'Club'), (7, 'Spade'), (7, 'Heart'), (7, 'Diamond'), (7, 'Club'), (8, 'Spade'), (8, 'Heart'), (8, 'Diamond'), (8, 'Club'), (9, 'Spade'), (9, 'Heart'), (9, 'Diamond'), (9, 'Club'), (10, 'Spade'), (10, 'Heart'), (10, 'Diamond'), (10, 'Club'), (11, 'Spade'), (11, 'Heart'), (11, 'Diamond'), (11, 'Club'), (12, 'Spade'), (12, 'Heart'), (12, 'Diamond'), (12, 'Club'), (13, 'Spade'), (13, 'Heart'), (13, 'Diamond'), (13, 'Club')]\n",
      "You got:\n",
      "2 of Heart\n",
      "4 of Spade\n",
      "7 of Club\n",
      "4 of Diamond\n",
      "9 of Spade\n"
     ]
    }
   ],
   "source": [
    "# Python program to shuffle a deck of card\n",
    "\n",
    "# importing modules\n",
    "import itertools, random\n",
    "\n",
    "# make a deck of cards\n",
    "deck = list(itertools.product(range(1,14),['Spade','Heart','Diamond','Club']))\n",
    "\n",
    "print(deck)\n",
    "# shuffle the cards\n",
    "random.shuffle(deck)\n",
    "\n",
    "# draw five cards\n",
    "print(\"You got:\")\n",
    "for i in range(5):\n",
    "   print(deck[i][0], \"of\", deck[i][1])\n"
   ]
  },
  {
   "cell_type": "markdown",
   "id": "20aac389",
   "metadata": {},
   "source": [
    "#### 31. Python Program to Display Calendar\n"
   ]
  },
  {
   "cell_type": "code",
   "execution_count": 100,
   "id": "40625645",
   "metadata": {},
   "outputs": [
    {
     "name": "stdout",
     "output_type": "stream",
     "text": [
      "   November 2014\n",
      "Mo Tu We Th Fr Sa Su\n",
      "                1  2\n",
      " 3  4  5  6  7  8  9\n",
      "10 11 12 13 14 15 16\n",
      "17 18 19 20 21 22 23\n",
      "24 25 26 27 28 29 30\n",
      "\n"
     ]
    }
   ],
   "source": [
    "# Program to display calendar of the given month and year\n",
    "\n",
    "# importing calendar module\n",
    "import calendar\n",
    "\n",
    "yy = 2014  # year\n",
    "mm = 11    # month\n",
    "\n",
    "# To take month and year input from the user\n",
    "# yy = int(input(\"Enter year: \"))\n",
    "# mm = int(input(\"Enter month: \"))\n",
    "\n",
    "# display the calendar\n",
    "print(calendar.month(yy, mm))\n"
   ]
  },
  {
   "cell_type": "markdown",
   "id": "20a2af62",
   "metadata": {},
   "source": [
    "#### 32. Python Program to Display Fibonacci Sequence Using Recursion\n"
   ]
  },
  {
   "cell_type": "code",
   "execution_count": 99,
   "id": "ff7b5c2a",
   "metadata": {},
   "outputs": [
    {
     "name": "stdout",
     "output_type": "stream",
     "text": [
      "Fibonacci sequence:\n",
      "0\n",
      "1\n",
      "1\n",
      "2\n",
      "3\n",
      "5\n",
      "8\n",
      "13\n",
      "21\n",
      "34\n"
     ]
    }
   ],
   "source": [
    "# Python program to display the Fibonacci sequence\n",
    "\n",
    "def recur_fibo(n):\n",
    "   if n <= 1:\n",
    "       return n\n",
    "   else:\n",
    "       return(recur_fibo(n-1) + recur_fibo(n-2))\n",
    "\n",
    "nterms = 10\n",
    "\n",
    "# check if the number of terms is valid\n",
    "if nterms <= 0:\n",
    "   print(\"Plese enter a positive integer\")\n",
    "else:\n",
    "   print(\"Fibonacci sequence:\")\n",
    "   for i in range(nterms):\n",
    "       print(recur_fibo(i))\n"
   ]
  },
  {
   "cell_type": "markdown",
   "id": "54acb147",
   "metadata": {},
   "source": [
    "#### 33. Python Program to Find Sum of Natural Numbers Using Recursion\n"
   ]
  },
  {
   "cell_type": "code",
   "execution_count": 98,
   "id": "60eb30f4",
   "metadata": {},
   "outputs": [
    {
     "name": "stdout",
     "output_type": "stream",
     "text": [
      "The sum is 136\n"
     ]
    }
   ],
   "source": [
    "# Python program to find the sum of natural using recursive function\n",
    "\n",
    "def recur_sum(n):\n",
    "   if n <= 1:\n",
    "       return n\n",
    "   else:\n",
    "       return n + recur_sum(n-1)\n",
    "\n",
    "# change this value for a different result\n",
    "num = 16\n",
    "\n",
    "if num < 0:\n",
    "   print(\"Enter a positive number\")\n",
    "else:\n",
    "   print(\"The sum is\",recur_sum(num))\n"
   ]
  },
  {
   "cell_type": "markdown",
   "id": "8ccc6d4b",
   "metadata": {},
   "source": [
    "#### 34. Python Program to Find Factorial of Number Using Recursion\n"
   ]
  },
  {
   "cell_type": "code",
   "execution_count": 97,
   "id": "846b6e72",
   "metadata": {},
   "outputs": [
    {
     "name": "stdout",
     "output_type": "stream",
     "text": [
      "The factorial of 7 is 5040\n"
     ]
    }
   ],
   "source": [
    "# Factorial of a number using recursion\n",
    "\n",
    "def recur_factorial(n):\n",
    "   if n == 1:\n",
    "       return n\n",
    "   else:\n",
    "       return n*recur_factorial(n-1)\n",
    "\n",
    "num = 7\n",
    "\n",
    "# check if the number is negative\n",
    "if num < 0:\n",
    "   print(\"Sorry, factorial does not exist for negative numbers\")\n",
    "elif num == 0:\n",
    "   print(\"The factorial of 0 is 1\")\n",
    "else:\n",
    "   print(\"The factorial of\", num, \"is\", recur_factorial(num))\n"
   ]
  },
  {
   "cell_type": "markdown",
   "id": "0911d9ab",
   "metadata": {},
   "source": [
    "#### 35. Python Program to Convert Decimal to Binary Using Recursion\n"
   ]
  },
  {
   "cell_type": "code",
   "execution_count": 96,
   "id": "03b63522",
   "metadata": {},
   "outputs": [
    {
     "name": "stdout",
     "output_type": "stream",
     "text": [
      "100010\n"
     ]
    }
   ],
   "source": [
    "# Function to print binary number using recursion\n",
    "def convertToBinary(n):\n",
    "   if n > 1:\n",
    "       convertToBinary(n//2)\n",
    "   print(n % 2,end = '')\n",
    "\n",
    "# decimal number\n",
    "dec = 34\n",
    "\n",
    "convertToBinary(dec)\n",
    "print()\n"
   ]
  },
  {
   "cell_type": "markdown",
   "id": "cfd95f51",
   "metadata": {},
   "source": [
    "#### 36. Python Program to Add Two Matrices\n"
   ]
  },
  {
   "cell_type": "code",
   "execution_count": 94,
   "id": "be82dc6b",
   "metadata": {},
   "outputs": [
    {
     "name": "stdout",
     "output_type": "stream",
     "text": [
      "[17, 15, 4]\n",
      "[10, 12, 9]\n",
      "[11, 13, 18]\n"
     ]
    }
   ],
   "source": [
    "# Program to add two matrices using nested loop\n",
    "\n",
    "X = [[12,7,3],\n",
    "    [4 ,5,6],\n",
    "    [7 ,8,9]]\n",
    "\n",
    "Y = [[5,8,1],\n",
    "    [6,7,3],\n",
    "    [4,5,9]]\n",
    "\n",
    "result = [[0,0,0],\n",
    "         [0,0,0],\n",
    "         [0,0,0]]\n",
    "\n",
    "# iterate through rows\n",
    "for i in range(len(X)):\n",
    "   # iterate through columns\n",
    "   for j in range(len(X[0])):\n",
    "       result[i][j] = X[i][j] + Y[i][j]\n",
    "\n",
    "for r in result:\n",
    "   print(r)\n"
   ]
  },
  {
   "cell_type": "code",
   "execution_count": 95,
   "id": "9dfc524d",
   "metadata": {},
   "outputs": [
    {
     "name": "stdout",
     "output_type": "stream",
     "text": [
      "[17, 15, 4]\n",
      "[10, 12, 9]\n",
      "[11, 13, 18]\n"
     ]
    }
   ],
   "source": [
    "# Program to add two matrices using list comprehension\n",
    "\n",
    "X = [[12,7,3],\n",
    "    [4 ,5,6],\n",
    "    [7 ,8,9]]\n",
    "\n",
    "Y = [[5,8,1],\n",
    "    [6,7,3],\n",
    "    [4,5,9]]\n",
    "\n",
    "result = [[X[i][j] + Y[i][j]  for j in range(len(X[0]))] for i in range(len(X))]\n",
    "\n",
    "for r in result:\n",
    "   print(r)"
   ]
  },
  {
   "cell_type": "markdown",
   "id": "db4aa511",
   "metadata": {},
   "source": [
    "#### 37. Python Program to Transpose a Matrix\n",
    "\n"
   ]
  },
  {
   "cell_type": "code",
   "execution_count": 92,
   "id": "31215a5f",
   "metadata": {
    "scrolled": true
   },
   "outputs": [
    {
     "name": "stdout",
     "output_type": "stream",
     "text": [
      "[12, 4, 3]\n",
      "[7, 5, 8]\n"
     ]
    }
   ],
   "source": [
    "# Program to transpose a matrix using a nested loop\n",
    "\n",
    "X = [[12,7],\n",
    "    [4 ,5],\n",
    "    [3 ,8]]\n",
    "\n",
    "result = [[0,0,0],\n",
    "         [0,0,0]]\n",
    "\n",
    "# iterate through rows\n",
    "for i in range(len(X)):\n",
    "   # iterate through columns\n",
    "   for j in range(len(X[0])):\n",
    "       result[j][i] = X[i][j]\n",
    "\n",
    "for r in result:\n",
    "   print(r)\n"
   ]
  },
  {
   "cell_type": "code",
   "execution_count": 93,
   "id": "e68279be",
   "metadata": {},
   "outputs": [
    {
     "name": "stdout",
     "output_type": "stream",
     "text": [
      "[12, 4, 3]\n",
      "[7, 5, 8]\n"
     ]
    }
   ],
   "source": [
    "''' Program to transpose a matrix using list comprehension'''\n",
    "\n",
    "X = [[12,7],\n",
    "    [4 ,5],\n",
    "    [3 ,8]]\n",
    "\n",
    "result = [[X[j][i] for j in range(len(X))] for i in range(len(X[0]))]\n",
    "\n",
    "for r in result:\n",
    "   print(r)"
   ]
  },
  {
   "cell_type": "markdown",
   "id": "0e20a128",
   "metadata": {},
   "source": [
    "#### 38. Python Program to Multiply Two Matrices\n"
   ]
  },
  {
   "cell_type": "markdown",
   "id": "942aa3a7",
   "metadata": {},
   "source": [
    "##### Matrix Multiplication using Nested Loop"
   ]
  },
  {
   "cell_type": "code",
   "execution_count": 90,
   "id": "64ab2af9",
   "metadata": {},
   "outputs": [
    {
     "name": "stdout",
     "output_type": "stream",
     "text": [
      "[114, 160, 60, 27]\n",
      "[74, 97, 73, 14]\n",
      "[119, 157, 112, 23]\n"
     ]
    }
   ],
   "source": [
    "# Program to multiply two matrices using nested loops\n",
    "\n",
    "# 3x3 matrix\n",
    "X = [[12,7,3],\n",
    "    [4 ,5,6],\n",
    "    [7 ,8,9]]\n",
    "# 3x4 matrix\n",
    "Y = [[5,8,1,2],\n",
    "    [6,7,3,0],\n",
    "    [4,5,9,1]]\n",
    "# result is 3x4\n",
    "result = [[0,0,0,0],\n",
    "         [0,0,0,0],\n",
    "         [0,0,0,0]]\n",
    "\n",
    "# iterate through rows of X\n",
    "for i in range(len(X)):\n",
    "   # iterate through columns of Y\n",
    "   for j in range(len(Y[0])):\n",
    "       # iterate through rows of Y\n",
    "       for k in range(len(Y)):\n",
    "           result[i][j] += X[i][k] * Y[k][j]\n",
    "\n",
    "for r in result:\n",
    "   print(r)\n"
   ]
  },
  {
   "cell_type": "markdown",
   "id": "bf96c1b3",
   "metadata": {},
   "source": [
    "##### Matrix Multiplication Using Nested List Comprehension"
   ]
  },
  {
   "cell_type": "code",
   "execution_count": 91,
   "id": "9f89dc26",
   "metadata": {},
   "outputs": [
    {
     "name": "stdout",
     "output_type": "stream",
     "text": [
      "[114, 160, 60, 27]\n",
      "[74, 97, 73, 14]\n",
      "[119, 157, 112, 23]\n"
     ]
    }
   ],
   "source": [
    "# Program to multiply two matrices using list comprehension\n",
    "\n",
    "# 3x3 matrix\n",
    "X = [[12,7,3],\n",
    "    [4 ,5,6],\n",
    "    [7 ,8,9]]\n",
    "\n",
    "# 3x4 matrix\n",
    "Y = [[5,8,1,2],\n",
    "    [6,7,3,0],\n",
    "    [4,5,9,1]]\n",
    "\n",
    "# result is 3x4\n",
    "result = [[sum(a*b for a,b in zip(X_row,Y_col)) for Y_col in zip(*Y)] for X_row in X]\n",
    "\n",
    "for r in result:\n",
    "   print(r)\n"
   ]
  },
  {
   "cell_type": "markdown",
   "id": "e454308d",
   "metadata": {},
   "source": [
    "#### 39. Python Program to Check Whether a String is Palindrome or Not\n"
   ]
  },
  {
   "cell_type": "code",
   "execution_count": 89,
   "id": "39dc2d81",
   "metadata": {},
   "outputs": [
    {
     "name": "stdout",
     "output_type": "stream",
     "text": [
      "The string is a palindrome.\n"
     ]
    }
   ],
   "source": [
    "# Program to check if a string is palindrome or not\n",
    "\n",
    "my_str = 'aIbohPhoBiA'\n",
    "\n",
    "# make it suitable for caseless comparison\n",
    "my_str = my_str.casefold()\n",
    "\n",
    "# reverse the string\n",
    "rev_str = reversed(my_str)\n",
    "\n",
    "# check if the string is equal to its reverse\n",
    "if list(my_str) == list(rev_str):\n",
    "   print(\"The string is a palindrome.\")\n",
    "else:\n",
    "   print(\"The string is not a palindrome.\")\n"
   ]
  },
  {
   "cell_type": "code",
   "execution_count": 273,
   "id": "017ea9cc",
   "metadata": {
    "scrolled": true
   },
   "outputs": [
    {
     "name": "stdout",
     "output_type": "stream",
     "text": [
      "The given string is palindrome\n"
     ]
    }
   ],
   "source": [
    "s= \"level\"\n",
    "\n",
    "if s==s[::-1]: \n",
    "    print('The given string is palindrome') \n",
    "else: \n",
    "    print('The given string is not palindrome')"
   ]
  },
  {
   "cell_type": "code",
   "execution_count": 306,
   "id": "5eb05a9a",
   "metadata": {},
   "outputs": [
    {
     "data": {
      "text/plain": [
       "'palindrome'"
      ]
     },
     "execution_count": 306,
     "metadata": {},
     "output_type": "execute_result"
    }
   ],
   "source": [
    "s = \"madam\"\n",
    "\n",
    "\"palindrome\" if ''.join(reversed(s)) == s else \"not palindrome\"\n"
   ]
  },
  {
   "cell_type": "markdown",
   "id": "04f0b553",
   "metadata": {},
   "source": [
    "#### 40. Python Program to Remove Punctuations From a String\n"
   ]
  },
  {
   "cell_type": "code",
   "execution_count": 88,
   "id": "7f0c661b",
   "metadata": {},
   "outputs": [
    {
     "name": "stdout",
     "output_type": "stream",
     "text": [
      "Hello he said and went\n"
     ]
    }
   ],
   "source": [
    "# define punctuation\n",
    "punctuations = '''!()-[]{};:'\"\\,<>./?@#$%^&*_~'''\n",
    "\n",
    "my_str = \"Hello!!!, he said ---and went.\"\n",
    "\n",
    "# To take input from the user\n",
    "# my_str = input(\"Enter a string: \")\n",
    "\n",
    "# remove punctuation from the string\n",
    "no_punct = \"\"\n",
    "for char in my_str:\n",
    "   if char not in punctuations:\n",
    "       no_punct = no_punct + char\n",
    "\n",
    "# display the unpunctuated string\n",
    "print(no_punct)\n"
   ]
  },
  {
   "cell_type": "code",
   "execution_count": 126,
   "id": "cee4392f",
   "metadata": {},
   "outputs": [
    {
     "data": {
      "text/plain": [
       "'ashishbindra'"
      ]
     },
     "execution_count": 126,
     "metadata": {},
     "output_type": "execute_result"
    }
   ],
   "source": [
    "import string\n",
    "\n",
    "str1 = \"ashish@bindra\"\n",
    "\n",
    "translator = str.maketrans('', '', string.punctuation)\n",
    "str1.translate(translator)\n"
   ]
  },
  {
   "cell_type": "code",
   "execution_count": 125,
   "id": "8691615f",
   "metadata": {},
   "outputs": [
    {
     "data": {
      "text/plain": [
       "'!\"#$%&\\'()*+,-./:;<=>?@[\\\\]^_`{|}~'"
      ]
     },
     "execution_count": 125,
     "metadata": {},
     "output_type": "execute_result"
    }
   ],
   "source": [
    "string.punctuation"
   ]
  },
  {
   "cell_type": "markdown",
   "id": "e5110003",
   "metadata": {},
   "source": [
    "#### 41. Python Program to Sort Words in Alphabetic Order\n"
   ]
  },
  {
   "cell_type": "code",
   "execution_count": 87,
   "id": "a9a44e3b",
   "metadata": {},
   "outputs": [
    {
     "name": "stdout",
     "output_type": "stream",
     "text": [
      "The sorted words are:\n",
      "an\n",
      "cased\n",
      "example\n",
      "hello\n",
      "is\n",
      "letters\n",
      "this\n",
      "with\n"
     ]
    }
   ],
   "source": [
    "# Program to sort alphabetically the words form a string provided by the user\n",
    "\n",
    "my_str = \"Hello this Is an Example With cased letters\"\n",
    "\n",
    "# To take input from the user\n",
    "#my_str = input(\"Enter a string: \")\n",
    "\n",
    "# breakdown the string into a list of words\n",
    "words = [word.lower() for word in my_str.split()]\n",
    "\n",
    "# sort the list\n",
    "words.sort()\n",
    "\n",
    "# display the sorted words\n",
    "\n",
    "print(\"The sorted words are:\")\n",
    "for word in words:\n",
    "   print(word)\n"
   ]
  },
  {
   "cell_type": "code",
   "execution_count": 152,
   "id": "1096cf08",
   "metadata": {
    "scrolled": true
   },
   "outputs": [
    {
     "data": {
      "text/plain": [
       "['a', 'v']"
      ]
     },
     "execution_count": 152,
     "metadata": {},
     "output_type": "execute_result"
    }
   ],
   "source": [
    "s = \"v a\"\n",
    "ss = s.split()\n",
    "ss.sort()\n",
    "ss\n"
   ]
  },
  {
   "cell_type": "markdown",
   "id": "c8e7f48c",
   "metadata": {},
   "source": [
    "#### 42. Python Program to Illustrate Different Set Operations\n"
   ]
  },
  {
   "cell_type": "markdown",
   "id": "1996e9f4",
   "metadata": {},
   "source": [
    "##### Mathenatical operations \n",
    "##### 1) union : Retruns all element present in both sets\n",
    "- x.union(y) (or) x | y"
   ]
  },
  {
   "cell_type": "code",
   "execution_count": 53,
   "id": "d439ff5d",
   "metadata": {},
   "outputs": [
    {
     "data": {
      "text/plain": [
       "{1, 2, 3, 4, 5, 6, 7, 8}"
      ]
     },
     "execution_count": 53,
     "metadata": {},
     "output_type": "execute_result"
    }
   ],
   "source": [
    "num_1 = {1, 2, 3, 4, 5}\n",
    "num_2 = {4, 5, 6, 7, 8}\n",
    "\n",
    "num_1.union(num_2)"
   ]
  },
  {
   "cell_type": "code",
   "execution_count": 55,
   "id": "1748679a",
   "metadata": {},
   "outputs": [
    {
     "data": {
      "text/plain": [
       "{1, 2, 3, 4, 5, 6, 7, 8}"
      ]
     },
     "execution_count": 55,
     "metadata": {},
     "output_type": "execute_result"
    }
   ],
   "source": [
    "num_1 | num_2"
   ]
  },
  {
   "cell_type": "markdown",
   "id": "0199287d",
   "metadata": {},
   "source": [
    "##### 2) Intersection: Returns only elements common to both sets.\n",
    "  - x & y"
   ]
  },
  {
   "cell_type": "code",
   "execution_count": 68,
   "id": "444f35cd",
   "metadata": {},
   "outputs": [
    {
     "data": {
      "text/plain": [
       "{4, 5}"
      ]
     },
     "execution_count": 68,
     "metadata": {},
     "output_type": "execute_result"
    }
   ],
   "source": [
    "num_1.intersection(num_2)\n"
   ]
  },
  {
   "cell_type": "code",
   "execution_count": 63,
   "id": "86c5fb59",
   "metadata": {},
   "outputs": [
    {
     "data": {
      "text/plain": [
       "{4, 5}"
      ]
     },
     "execution_count": 63,
     "metadata": {},
     "output_type": "execute_result"
    }
   ],
   "source": [
    "num_1 & num_2"
   ]
  },
  {
   "cell_type": "markdown",
   "id": "9dd44f5e",
   "metadata": {},
   "source": [
    "##### 3) Return the element present in first set but not 2nd\n",
    "- x - y"
   ]
  },
  {
   "cell_type": "code",
   "execution_count": 70,
   "id": "6c11bf98",
   "metadata": {},
   "outputs": [
    {
     "data": {
      "text/plain": [
       "{1, 2, 3}"
      ]
     },
     "execution_count": 70,
     "metadata": {},
     "output_type": "execute_result"
    }
   ],
   "source": [
    "num_1.difference(num_2)"
   ]
  },
  {
   "cell_type": "code",
   "execution_count": 71,
   "id": "cab50082",
   "metadata": {},
   "outputs": [
    {
     "data": {
      "text/plain": [
       "{1, 2, 3}"
      ]
     },
     "execution_count": 71,
     "metadata": {},
     "output_type": "execute_result"
    }
   ],
   "source": [
    "num_1 - num_2"
   ]
  },
  {
   "cell_type": "markdown",
   "id": "a42e7ef2",
   "metadata": {},
   "source": [
    "##### 4) Symmetric Difference: Returns elements in either set but not in both.\n",
    "- x ^ y"
   ]
  },
  {
   "cell_type": "code",
   "execution_count": 72,
   "id": "69b6372e",
   "metadata": {},
   "outputs": [
    {
     "data": {
      "text/plain": [
       "{1, 2, 3, 6, 7, 8}"
      ]
     },
     "execution_count": 72,
     "metadata": {},
     "output_type": "execute_result"
    }
   ],
   "source": [
    "num_1.symmetric_difference(num_2)\n"
   ]
  },
  {
   "cell_type": "code",
   "execution_count": 73,
   "id": "da6e3178",
   "metadata": {},
   "outputs": [
    {
     "data": {
      "text/plain": [
       "{1, 2, 3, 6, 7, 8}"
      ]
     },
     "execution_count": 73,
     "metadata": {},
     "output_type": "execute_result"
    }
   ],
   "source": [
    "num_1 ^ num_2"
   ]
  },
  {
   "cell_type": "markdown",
   "id": "6ba26561",
   "metadata": {},
   "source": [
    "##### 5) Subset: Checks if all elements of one set are in another.\n",
    "- Operator: <=\n"
   ]
  },
  {
   "cell_type": "code",
   "execution_count": 74,
   "id": "27c4df09",
   "metadata": {},
   "outputs": [
    {
     "data": {
      "text/plain": [
       "False"
      ]
     },
     "execution_count": 74,
     "metadata": {},
     "output_type": "execute_result"
    }
   ],
   "source": [
    "num_1.issubset(num_2)\n"
   ]
  },
  {
   "cell_type": "code",
   "execution_count": 75,
   "id": "644d0621",
   "metadata": {
    "scrolled": true
   },
   "outputs": [
    {
     "data": {
      "text/plain": [
       "False"
      ]
     },
     "execution_count": 75,
     "metadata": {},
     "output_type": "execute_result"
    }
   ],
   "source": [
    "num_1 <= num_2"
   ]
  },
  {
   "cell_type": "markdown",
   "id": "e686d034",
   "metadata": {},
   "source": [
    "#####  6) Superset: Checks if one set contains all elements of another.\n",
    "- Operator: >=\n"
   ]
  },
  {
   "cell_type": "code",
   "execution_count": 76,
   "id": "21dc1c13",
   "metadata": {},
   "outputs": [
    {
     "data": {
      "text/plain": [
       "False"
      ]
     },
     "execution_count": 76,
     "metadata": {},
     "output_type": "execute_result"
    }
   ],
   "source": [
    "num_1.issuperset(num_2)\n"
   ]
  },
  {
   "cell_type": "code",
   "execution_count": 78,
   "id": "d367964a",
   "metadata": {},
   "outputs": [
    {
     "data": {
      "text/plain": [
       "True"
      ]
     },
     "execution_count": 78,
     "metadata": {},
     "output_type": "execute_result"
    }
   ],
   "source": [
    "num_1 >= {1,2}"
   ]
  },
  {
   "cell_type": "markdown",
   "id": "d981b13e",
   "metadata": {},
   "source": [
    "#####  7) Disjoint: Checks if two sets have no elements in common.\n"
   ]
  },
  {
   "cell_type": "code",
   "execution_count": null,
   "id": "040b5e21",
   "metadata": {},
   "outputs": [],
   "source": [
    "num_1.isdisjoint(num_2)\n"
   ]
  },
  {
   "cell_type": "markdown",
   "id": "1c10a5b9",
   "metadata": {},
   "source": [
    "#### 8) in: Membership oprator"
   ]
  },
  {
   "cell_type": "code",
   "execution_count": 80,
   "id": "b5d973e8",
   "metadata": {
    "scrolled": true
   },
   "outputs": [
    {
     "data": {
      "text/plain": [
       "False"
      ]
     },
     "execution_count": 80,
     "metadata": {},
     "output_type": "execute_result"
    }
   ],
   "source": [
    "a = {\"ashish\"}\n",
    "\n",
    "\"s\" in a"
   ]
  },
  {
   "cell_type": "markdown",
   "id": "346b22b3",
   "metadata": {},
   "source": [
    "#### 43. Python Program to Count the Number of Each Vowel\n"
   ]
  },
  {
   "cell_type": "code",
   "execution_count": 85,
   "id": "cc61ee06",
   "metadata": {},
   "outputs": [
    {
     "name": "stdout",
     "output_type": "stream",
     "text": [
      "{'a': 2, 'e': 5, 'i': 3, 'o': 5, 'u': 3}\n"
     ]
    }
   ],
   "source": [
    "# Program to count the number of each vowels\n",
    "\n",
    "# string of vowels\n",
    "vowels = 'aeiou'\n",
    "\n",
    "ip_str = 'Hello, have you tried our tutorial section yet?'\n",
    "\n",
    "# make it suitable for caseless comparisions\n",
    "ip_str = ip_str.casefold()\n",
    "\n",
    "# make a dictionary with each vowel a key and value 0\n",
    "count = {}.fromkeys(vowels,0)\n",
    "\n",
    "# count the vowels\n",
    "for char in ip_str:\n",
    "   if char in count:\n",
    "       count[char] += 1\n",
    "\n",
    "print(count)\n"
   ]
  },
  {
   "cell_type": "code",
   "execution_count": 86,
   "id": "5a7537d7",
   "metadata": {},
   "outputs": [
    {
     "name": "stdout",
     "output_type": "stream",
     "text": [
      "{'a': 2, 'e': 5, 'i': 3, 'o': 5, 'u': 3}\n"
     ]
    }
   ],
   "source": [
    "# Using a list and a dictionary comprehension\n",
    "# Using dictionary and list comprehension\n",
    "\n",
    "ip_str = 'Hello, have you tried our tutorial section yet?'\n",
    "\n",
    "# make it suitable for caseless comparisions\n",
    "ip_str = ip_str.casefold()\n",
    "\n",
    "# count the vowels\n",
    "count = {x:sum([1 for char in ip_str if char == x]) for x in 'aeiou'}\n",
    "\n",
    "print(count)"
   ]
  },
  {
   "cell_type": "code",
   "execution_count": 98,
   "id": "ddaf72c3",
   "metadata": {},
   "outputs": [
    {
     "data": {
      "text/plain": [
       "{'a': 1, 'e': 0, 'i': 2, 'o': 0, 'u': 1}"
      ]
     },
     "execution_count": 98,
     "metadata": {},
     "output_type": "execute_result"
    }
   ],
   "source": [
    "vowels = { \"a\":0, \"e\":0, \"i\":0, \"o\":0, \"u\":0 }\n",
    "\n",
    "s = \"ashish Bindru\"\n",
    "\n",
    "for word in s:\n",
    "    if word in vowels:\n",
    "        vowels[word]+=1\n",
    "\n",
    "vowels"
   ]
  },
  {
   "cell_type": "code",
   "execution_count": 164,
   "id": "806dcef3",
   "metadata": {},
   "outputs": [
    {
     "data": {
      "text/plain": [
       "{'a': 1, 'i': 2, 'u': 1}"
      ]
     },
     "execution_count": 164,
     "metadata": {},
     "output_type": "execute_result"
    }
   ],
   "source": [
    "vowels = { \"a\":0, \"e\":0, \"i\":0, \"o\":0, \"u\":0 }\n",
    "\n",
    "s = \"ashish Bindru\"\n",
    "\n",
    "vowels =  {word:s.count(word) for word in s if word in vowels}\n",
    "\n",
    "vowels"
   ]
  },
  {
   "cell_type": "code",
   "execution_count": null,
   "id": "0bc4c49c",
   "metadata": {},
   "outputs": [],
   "source": []
  },
  {
   "cell_type": "code",
   "execution_count": 108,
   "id": "576b36c5",
   "metadata": {},
   "outputs": [
    {
     "data": {
      "text/plain": [
       "{'a': 1, 'e': 0, 'i': 2, 'o': 0, 'u': 1}"
      ]
     },
     "execution_count": 108,
     "metadata": {},
     "output_type": "execute_result"
    }
   ],
   "source": [
    "vowels = { \"a\":0, \"e\":0, \"i\":0, \"o\":0, \"u\":0 }\n",
    "\n",
    "s = \"ashish Bindru\"\n",
    "\n",
    "vowels = {word: s.count(word) for word in 'aeiou'}\n",
    "\n",
    "\n",
    "vowels"
   ]
  },
  {
   "cell_type": "code",
   "execution_count": 172,
   "id": "1033885f",
   "metadata": {},
   "outputs": [
    {
     "name": "stdout",
     "output_type": "stream",
     "text": [
      "The different vowel present in ashish Bindru are {'i', 'u', 'a'}\n"
     ]
    }
   ],
   "source": [
    "w = \"ashish Bindru\"\n",
    "\n",
    "s=set(w) \n",
    "\n",
    "v={'a','e','i','o','u'} \n",
    "d=s.intersection(v) \n",
    "\n",
    "print(\"The different vowel present in\",w,\"are\",d)"
   ]
  },
  {
   "cell_type": "code",
   "execution_count": 176,
   "id": "86b0f187",
   "metadata": {},
   "outputs": [
    {
     "name": "stdout",
     "output_type": "stream",
     "text": [
      "1\n",
      "0\n",
      "2\n",
      "0\n",
      "1\n"
     ]
    }
   ],
   "source": [
    "s = \"ashish Bindru\"\n",
    "\n",
    "v=\"aeiou\" \n",
    "\n",
    "for w in v:\n",
    "    print(s.count(w))\n",
    "# print(\"The different vowel present in\",w,\"are\",d)"
   ]
  },
  {
   "cell_type": "markdown",
   "id": "b2df8bb9",
   "metadata": {},
   "source": [
    "#### 44. Python Program to Merge Mails\n"
   ]
  },
  {
   "cell_type": "code",
   "execution_count": 84,
   "id": "dd79bc55",
   "metadata": {},
   "outputs": [],
   "source": [
    "# Python program to mail merger\n",
    "# Names are in the file names.txt\n",
    "# Body of the mail is in body.txt\n",
    "\n",
    "# open names.txt for reading\n",
    "with open(\"names.txt\", 'r', encoding='utf-8') as names_file:\n",
    "\n",
    "    # open body.txt for reading\n",
    "    with open(\"body.txt\", 'r', encoding='utf-8') as body_file:\n",
    "\n",
    "        # read entire content of the body\n",
    "        body = body_file.read()\n",
    "\n",
    "        # iterate over names\n",
    "        for name in names_file:\n",
    "            mail = \"Hello \" + name.strip() + \"\\n\" + body\n",
    "\n",
    "            # write the mails to individual files\n",
    "            with open(name.strip()+\".txt\", 'w', encoding='utf-8') as mail_file:\n",
    "                mail_file.write(mail)"
   ]
  },
  {
   "cell_type": "code",
   "execution_count": null,
   "id": "0151be66",
   "metadata": {},
   "outputs": [],
   "source": [
    "import smtplib\n",
    "from email.mime.multipart import MIMEMultipart\n",
    "from email.mime.text import MIMEText\n",
    "from jinja2 import Template\n",
    "\n",
    "# Define the email template with placeholders\n",
    "email_template = \"\"\"\n",
    "Dear {{ name }},\n",
    "\n",
    "We are pleased to inform you about {{ event }} happening on {{ date }}.\n",
    "\n",
    "Thank you for your attention!\n",
    "\n",
    "Best regards,\n",
    "Your Company\n",
    "\"\"\"\n",
    "\n",
    "# Sample data for each recipient\n",
    "recipients = [\n",
    "    {'email': 'alice@example.com', 'name': 'Alice', 'event': 'Python Workshop', 'date': 'October 15, 2024'},\n",
    "    {'email': 'bob@example.com', 'name': 'Bob', 'event': 'Data Science Bootcamp', 'date': 'November 5, 2024'},\n",
    "    {'email': 'charlie@example.com', 'name': 'Charlie', 'event': 'AI Conference', 'date': 'December 10, 2024'}\n",
    "]\n",
    "\n",
    "# SMTP configuration (replace with your own)\n",
    "SMTP_SERVER = 'smtp.example.com'\n",
    "SMTP_PORT = 587\n",
    "SENDER_EMAIL = 'your_email@example.com'\n",
    "SENDER_PASSWORD = 'your_password'\n",
    "\n",
    "# Function to send the email\n",
    "def send_email(recipient_email, subject, body):\n",
    "    msg = MIMEMultipart()\n",
    "    msg['From'] = SENDER_EMAIL\n",
    "    msg['To'] = recipient_email\n",
    "    msg['Subject'] = subject\n",
    "\n",
    "    # Attach the email body\n",
    "    msg.attach(MIMEText(body, 'plain'))\n",
    "\n",
    "    try:\n",
    "        # Set up the SMTP server\n",
    "        server = smtplib.SMTP(SMTP_SERVER, SMTP_PORT)\n",
    "        server.starttls()\n",
    "        server.login(SENDER_EMAIL, SENDER_PASSWORD)\n",
    "\n",
    "        # Send the email\n",
    "        server.send_message(msg)\n",
    "        print(f\"Email sent to {recipient_email}\")\n",
    "\n",
    "        # Terminate the SMTP session\n",
    "        server.quit()\n",
    "    except Exception as e:\n",
    "        print(f\"Failed to send email to {recipient_email}: {e}\")\n",
    "\n",
    "# Main function to merge emails\n",
    "def merge_emails_and_send(recipients, template):\n",
    "    for recipient in recipients:\n",
    "        # Create the Jinja2 template\n",
    "        template_object = Template(template)\n",
    "        \n",
    "        # Render the template with recipient data\n",
    "        email_body = template_object.render(name=recipient['name'], event=recipient['event'], date=recipient['date'])\n",
    "\n",
    "        # Send the email to the recipient\n",
    "        send_email(recipient['email'], f\"Invitation to {recipient['event']}\", email_body)\n",
    "\n",
    "# Execute the email merging and sending\n",
    "merge_emails_and_send(recipients, email_template)\n"
   ]
  },
  {
   "cell_type": "markdown",
   "id": "525c4621",
   "metadata": {},
   "source": [
    "#### 45. Python Program to Find the Size (Resolution) of an Image\n"
   ]
  },
  {
   "cell_type": "code",
   "execution_count": 83,
   "id": "510c4965",
   "metadata": {},
   "outputs": [
    {
     "name": "stdout",
     "output_type": "stream",
     "text": [
      "The resolution of the image is 57984 x 53858\n"
     ]
    }
   ],
   "source": [
    "def jpeg_res(filename):\n",
    "   \"\"\"\"This function prints the resolution of the jpeg image file passed into it\"\"\"\n",
    "\n",
    "   # open image for reading in binary mode\n",
    "   with open(filename,'rb') as img_file:\n",
    "\n",
    "       # height of image (in 2 bytes) is at 164th position\n",
    "       img_file.seek(163)\n",
    "\n",
    "       # read the 2 bytes\n",
    "       a = img_file.read(2)\n",
    "\n",
    "       # calculate height\n",
    "       height = (a[0] << 8) + a[1]\n",
    "\n",
    "       # next 2 bytes is width\n",
    "       a = img_file.read(2)\n",
    "\n",
    "       # calculate width\n",
    "       width = (a[0] << 8) + a[1]\n",
    "\n",
    "   print(\"The resolution of the image is\",width,\"x\",height)\n",
    "\n",
    "jpeg_res(\"colored_terminal.png\")"
   ]
  },
  {
   "cell_type": "markdown",
   "id": "2b4bd894",
   "metadata": {},
   "source": [
    "#### 46. Python Program to Find Hash of File\n"
   ]
  },
  {
   "cell_type": "code",
   "execution_count": 82,
   "id": "db62a955",
   "metadata": {},
   "outputs": [
    {
     "name": "stdout",
     "output_type": "stream",
     "text": [
      "0e4c39d245a7be04cbc31ba9e91ea428140efd4f\n"
     ]
    }
   ],
   "source": [
    "# Python program to find the SHA-1 message digest of a file\n",
    "\n",
    "# importing the hashlib module\n",
    "import hashlib\n",
    "\n",
    "def hash_file(filepath):\n",
    "   \"\"\"\n",
    "   This function returns the SHA-1 hash\n",
    "   of the file passed into it\"\"\"\n",
    "\n",
    "   # make a hash object\n",
    "   h = hashlib.sha1()\n",
    "\n",
    "   # open file for reading in binary mode\n",
    "   with open(filepath,'rb') as file:\n",
    "\n",
    "       # loop till the end of the file\n",
    "       chunk = 0\n",
    "       while chunk != b'':\n",
    "           # read only 1024 bytes at a time\n",
    "           chunk = file.read(1024)\n",
    "           h.update(chunk)\n",
    "\n",
    "   # return the hex representation of digest\n",
    "   return h.hexdigest()\n",
    "\n",
    "message = hash_file(\"data_file.txt\")    # Use path of the file\n",
    "print(message)"
   ]
  },
  {
   "cell_type": "markdown",
   "id": "1ba97c7d",
   "metadata": {},
   "source": [
    "#### 47. Python Program to Create Pyramid Patterns\n"
   ]
  },
  {
   "cell_type": "code",
   "execution_count": 273,
   "id": "80209ebe",
   "metadata": {
    "scrolled": true
   },
   "outputs": [
    {
     "name": "stdout",
     "output_type": "stream",
     "text": [
      "      * \n",
      "     * * \n",
      "    * * * \n",
      "   * * * * \n",
      "  * * * * * \n",
      " * * * * * * \n",
      "* * * * * * * \n"
     ]
    }
   ],
   "source": [
    "n=7\n",
    "for i in range(1,n+1):\n",
    "    print(\" \"*(n-i),end=\"\")\n",
    "    \n",
    "    for j in range(1,i+1):\n",
    "        print(\"*\",end=\" \")\n",
    "   \n",
    "    print()"
   ]
  },
  {
   "cell_type": "code",
   "execution_count": 74,
   "id": "0802f706",
   "metadata": {},
   "outputs": [
    {
     "name": "stdout",
     "output_type": "stream",
     "text": [
      "            * \n",
      "          * * * \n",
      "        * * * * * \n",
      "      * * * * * * * \n",
      "    * * * * * * * * * \n",
      "  * * * * * * * * * * * \n",
      "* * * * * * * * * * * * * \n"
     ]
    }
   ],
   "source": [
    "\n",
    "k = 0\n",
    "rows = 7\n",
    "for i in range(1, rows+1):\n",
    "    for space in range(1, (rows-i)+1):\n",
    "        print(end=\"  \")\n",
    "   \n",
    "    while k!=(2*i-1):\n",
    "        print(\"* \", end=\"\")\n",
    "        k += 1\n",
    "   \n",
    "    k = 0\n",
    "    print()"
   ]
  },
  {
   "cell_type": "markdown",
   "id": "dd47073c",
   "metadata": {},
   "source": [
    "#### 48. Python Program to Merge Two Dictionaries\n"
   ]
  },
  {
   "cell_type": "code",
   "execution_count": 1,
   "id": "242ed50d",
   "metadata": {},
   "outputs": [
    {
     "name": "stdout",
     "output_type": "stream",
     "text": [
      "{'a': 1, 'b': 3, 'c': 4}\n"
     ]
    }
   ],
   "source": [
    "dict1 = {'a': 1, 'b': 2}\n",
    "dict2 = {'b': 3, 'c': 4}\n",
    "merged_dict = dict1 | dict2\n",
    "print(merged_dict)\n"
   ]
  },
  {
   "cell_type": "code",
   "execution_count": 2,
   "id": "4a2377c4",
   "metadata": {
    "scrolled": true
   },
   "outputs": [
    {
     "name": "stdout",
     "output_type": "stream",
     "text": [
      "{'a': 1, 'b': 3, 'c': 4}\n"
     ]
    }
   ],
   "source": [
    "dict1 = {'a': 1, 'b': 2}\n",
    "dict2 = {'b': 3, 'c': 4}\n",
    "merged_dict = {**dict1, **dict2}\n",
    "print(merged_dict)\n"
   ]
  },
  {
   "cell_type": "code",
   "execution_count": 3,
   "id": "229e5260",
   "metadata": {},
   "outputs": [
    {
     "name": "stdout",
     "output_type": "stream",
     "text": [
      "{'a': 1, 'b': 3, 'c': 4}\n"
     ]
    }
   ],
   "source": [
    "dict1 = {'a': 1, 'b': 2}\n",
    "dict2 = {'b': 3, 'c': 4}\n",
    "merged_dict = dict1.copy()\n",
    "merged_dict.update(dict2)\n",
    "print(merged_dict)\n"
   ]
  },
  {
   "cell_type": "code",
   "execution_count": 6,
   "id": "f7dbc010",
   "metadata": {},
   "outputs": [
    {
     "data": {
      "text/plain": [
       "{'a': 1, 'b': 3, 'c': 4}"
      ]
     },
     "execution_count": 6,
     "metadata": {},
     "output_type": "execute_result"
    }
   ],
   "source": [
    "dict1.update(dict2)\n",
    "dict1"
   ]
  },
  {
   "cell_type": "code",
   "execution_count": 15,
   "id": "c4c6b657",
   "metadata": {},
   "outputs": [
    {
     "ename": "TypeError",
     "evalue": "unhashable type: 'dict'",
     "output_type": "error",
     "traceback": [
      "\u001b[1;31m---------------------------------------------------------------------------\u001b[0m",
      "\u001b[1;31mTypeError\u001b[0m                                 Traceback (most recent call last)",
      "Cell \u001b[1;32mIn[15], line 1\u001b[0m\n\u001b[1;32m----> 1\u001b[0m \u001b[38;5;28mdict\u001b[39m({dict1,dict2})\n",
      "\u001b[1;31mTypeError\u001b[0m: unhashable type: 'dict'"
     ]
    }
   ],
   "source": []
  },
  {
   "cell_type": "markdown",
   "id": "21ebca78",
   "metadata": {},
   "source": [
    "#### 49. Python Program to Safely Create a Nested Directory\n"
   ]
  },
  {
   "cell_type": "markdown",
   "id": "3689128d",
   "metadata": {},
   "source": [
    "#### 50. Python Program to Access Index of a List Using for Loop\n"
   ]
  },
  {
   "cell_type": "code",
   "execution_count": 308,
   "id": "7088be50",
   "metadata": {
    "scrolled": true
   },
   "outputs": [
    {
     "name": "stdout",
     "output_type": "stream",
     "text": [
      "0 a\n",
      "1 b\n",
      "2 c\n"
     ]
    }
   ],
   "source": [
    "data = [\"a\", \"b\", \"c\"]\n",
    "for i in range(len(data)): \n",
    "    print(i, data[i])"
   ]
  },
  {
   "cell_type": "code",
   "execution_count": 310,
   "id": "62f0819d",
   "metadata": {},
   "outputs": [
    {
     "name": "stdout",
     "output_type": "stream",
     "text": [
      "0 21\n",
      "1 44\n",
      "2 35\n",
      "3 11\n"
     ]
    }
   ],
   "source": [
    "my_list = [21, 44, 35, 11]\n",
    "\n",
    "for index, val in enumerate(my_list):\n",
    "    print(index, val)"
   ]
  },
  {
   "cell_type": "markdown",
   "id": "40164f87",
   "metadata": {},
   "source": [
    "#### 51. Python Program to Flatten a Nested List"
   ]
  },
  {
   "cell_type": "code",
   "execution_count": 311,
   "id": "74663b3d",
   "metadata": {},
   "outputs": [
    {
     "name": "stdout",
     "output_type": "stream",
     "text": [
      "[1, 2, 3, 4, 5, 6, 7]\n"
     ]
    }
   ],
   "source": [
    "my_list = [[1], [2, 3], [4, 5, 6, 7]]\n",
    "\n",
    "flat_list = [num for sublist in my_list for num in sublist]\n",
    "print(flat_list)"
   ]
  },
  {
   "cell_type": "code",
   "execution_count": 312,
   "id": "ed308d0b",
   "metadata": {},
   "outputs": [
    {
     "name": "stdout",
     "output_type": "stream",
     "text": [
      "[1, 2, 3, 4, 5, 6, 7]\n"
     ]
    }
   ],
   "source": [
    "# Example 2: Using Nested for Loops (non pythonic way)\n",
    "my_list = [[1], [2, 3], [4, 5, 6, 7]]\n",
    "\n",
    "flat_list = []\n",
    "for sublist in my_list:\n",
    "    for num in sublist:\n",
    "        flat_list.append(num)\n",
    "\n",
    "print(flat_list)"
   ]
  },
  {
   "cell_type": "code",
   "execution_count": 314,
   "id": "a2a6841a",
   "metadata": {},
   "outputs": [
    {
     "name": "stdout",
     "output_type": "stream",
     "text": [
      "[1, 2, 3, 4, 5, 6, 7]\n"
     ]
    }
   ],
   "source": [
    "# Example 3: Using itertools package\n",
    "import itertools\n",
    "\n",
    "my_list = [[1], [2, 3], [4, 5, 6, 7]]\n",
    "\n",
    "flat_list = list(itertools.chain(*my_list))\n",
    "print(flat_list)"
   ]
  },
  {
   "cell_type": "code",
   "execution_count": 315,
   "id": "1522725e",
   "metadata": {
    "scrolled": true
   },
   "outputs": [
    {
     "name": "stdout",
     "output_type": "stream",
     "text": [
      "[1, 2, 3, 4, 5, 6, 7]\n"
     ]
    }
   ],
   "source": [
    "# Example 4: Using sum()\n",
    "my_list = [[1], [2, 3], [4, 5, 6, 7]]\n",
    "\n",
    "flat_list = sum(my_list, [])\n",
    "print(flat_list)"
   ]
  },
  {
   "cell_type": "code",
   "execution_count": 319,
   "id": "663b030f",
   "metadata": {},
   "outputs": [
    {
     "data": {
      "text/plain": [
       "[1, 2, 3, 4, 5, 6, 7]"
      ]
     },
     "execution_count": 319,
     "metadata": {},
     "output_type": "execute_result"
    }
   ],
   "source": [
    "from functools import reduce\n",
    "\n",
    "my_list = [[1], [2, 3], [4, 5, 6, 7]]\n",
    "reduce(lambda x,y: x+y, my_list)"
   ]
  },
  {
   "cell_type": "code",
   "execution_count": null,
   "id": "da8aad73",
   "metadata": {},
   "outputs": [],
   "source": []
  },
  {
   "cell_type": "markdown",
   "id": "74dfb496",
   "metadata": {},
   "source": [
    "#### 52. Python Program to Slice Lists\n"
   ]
  },
  {
   "cell_type": "markdown",
   "id": "c3a2a148",
   "metadata": {},
   "source": [
    "##### The format for list slicing is [start:stop:step].\n",
    "\n"
   ]
  },
  {
   "cell_type": "code",
   "execution_count": 322,
   "id": "9f72b043",
   "metadata": {},
   "outputs": [
    {
     "name": "stdout",
     "output_type": "stream",
     "text": [
      "[3, 4, 5]\n"
     ]
    }
   ],
   "source": [
    "my_list = [1, 2, 3, 4, 5]\n",
    "\n",
    "print(my_list[2:])"
   ]
  },
  {
   "cell_type": "code",
   "execution_count": 323,
   "id": "ecaf5dd0",
   "metadata": {},
   "outputs": [
    {
     "name": "stdout",
     "output_type": "stream",
     "text": [
      "[1, 3, 5]\n"
     ]
    }
   ],
   "source": [
    "my_list = [1, 2, 3, 4, 5]\n",
    "\n",
    "print(my_list[::2])"
   ]
  },
  {
   "cell_type": "markdown",
   "id": "9542c652",
   "metadata": {},
   "source": [
    "#### 53. Python Program to Iterate Over Dictionaries Using for Loop\n"
   ]
  },
  {
   "cell_type": "code",
   "execution_count": 65,
   "id": "710f6874",
   "metadata": {
    "scrolled": true
   },
   "outputs": [
    {
     "name": "stdout",
     "output_type": "stream",
     "text": [
      "a juice\n",
      "b grill\n",
      "c corn\n"
     ]
    }
   ],
   "source": [
    "# Example 1: Access both key and value using items()\n",
    "dt = {'a': 'juice', 'b': 'grill', 'c': 'corn'}\n",
    "\n",
    "for key, value in dt.items():\n",
    "    print(key, value)"
   ]
  },
  {
   "cell_type": "code",
   "execution_count": 67,
   "id": "ef5352be",
   "metadata": {
    "scrolled": true
   },
   "outputs": [
    {
     "name": "stdout",
     "output_type": "stream",
     "text": [
      "a juice\n",
      "b grill\n",
      "c corn\n"
     ]
    }
   ],
   "source": [
    "# Example 2: Access both key and value without using items()\n",
    "dt = {'a': 'juice', 'b': 'grill', 'c': 'corn'}\n",
    "\n",
    "for key in dt:\n",
    "    print(key, dt[key])"
   ]
  },
  {
   "cell_type": "code",
   "execution_count": 73,
   "id": "5f66a05b",
   "metadata": {},
   "outputs": [
    {
     "name": "stdout",
     "output_type": "stream",
     "text": [
      "a\n",
      "b\n",
      "c\n",
      "juice\n",
      "grill\n",
      "corn\n"
     ]
    }
   ],
   "source": [
    "# Example 4: Return keys or values explicitly\n",
    "dt = {'a': 'juice', 'b': 'grill', 'c': 'corn'}\n",
    "\n",
    "for key in dt.keys():\n",
    "    print(key)\n",
    "\n",
    "for value in dt.values():\n",
    "    print(value)"
   ]
  },
  {
   "cell_type": "markdown",
   "id": "70be2c4e",
   "metadata": {},
   "source": [
    "#### 54. Python Program to Sort a Dictionary by Value\n"
   ]
  },
  {
   "cell_type": "code",
   "execution_count": 63,
   "id": "8c642b4e",
   "metadata": {},
   "outputs": [
    {
     "name": "stdout",
     "output_type": "stream",
     "text": [
      "{6: 3, 5: 4, 1: 6}\n"
     ]
    }
   ],
   "source": [
    "# Example 1: Sort the dictionary based on values\n",
    "dt = {5:4, 1:6, 6:3}\n",
    "\n",
    "sorted_dt = {key: value for key, value in sorted(dt.items(), key=lambda item: item[1])}\n",
    "\n",
    "print(sorted_dt)"
   ]
  },
  {
   "cell_type": "code",
   "execution_count": 64,
   "id": "4c9396ee",
   "metadata": {},
   "outputs": [
    {
     "name": "stdout",
     "output_type": "stream",
     "text": [
      "[3, 4, 6]\n"
     ]
    }
   ],
   "source": [
    "# Example 2: Sort only the values\n",
    "dt = {5:4, 1:6, 6:3}\n",
    "\n",
    "sorted_dt_value = sorted(dt.values())\n",
    "print(sorted_dt_value)\n"
   ]
  },
  {
   "cell_type": "markdown",
   "id": "6fc9e635",
   "metadata": {},
   "source": [
    "#### 55. Python Program to Check If a List is Empty\n"
   ]
  },
  {
   "cell_type": "code",
   "execution_count": 324,
   "id": "0ed4ed0f",
   "metadata": {
    "scrolled": true
   },
   "outputs": [
    {
     "name": "stdout",
     "output_type": "stream",
     "text": [
      "the list is empty\n"
     ]
    }
   ],
   "source": [
    "# Example 1: Using Boolean operation\n",
    "my_list = []\n",
    "if not my_list:\n",
    "    print(\"the list is empty\")"
   ]
  },
  {
   "cell_type": "code",
   "execution_count": 325,
   "id": "56f28786",
   "metadata": {},
   "outputs": [
    {
     "name": "stdout",
     "output_type": "stream",
     "text": [
      "the list is empty\n"
     ]
    }
   ],
   "source": [
    "# Example 2: Using len()\n",
    "my_list = []\n",
    "if len(my_list) == 0:\n",
    "    print(\"the list is empty\")"
   ]
  },
  {
   "cell_type": "code",
   "execution_count": 327,
   "id": "75d14909",
   "metadata": {},
   "outputs": [
    {
     "name": "stdout",
     "output_type": "stream",
     "text": [
      "The list is empty\n"
     ]
    }
   ],
   "source": [
    "# Example 3: Comparing with []\n",
    "my_list = []\n",
    "if my_list == []:\n",
    "    print(\"The list is empty\")"
   ]
  },
  {
   "cell_type": "markdown",
   "id": "a1ceb2ea",
   "metadata": {},
   "source": [
    "#### 56. Python Program to Catch Multiple Exceptions in One Line\n",
    "\n"
   ]
  },
  {
   "cell_type": "code",
   "execution_count": 50,
   "id": "a15b1415",
   "metadata": {},
   "outputs": [
    {
     "name": "stdout",
     "output_type": "stream",
     "text": [
      "a1\n",
      "s\n",
      "invalid literal for int() with base 10: 's'\n"
     ]
    }
   ],
   "source": [
    "# Multiple exceptions as a parenthesized tuple\n",
    "string = input()\n",
    "\n",
    "try:\n",
    "    num = int(input())\n",
    "    print(string+num)\n",
    "except (TypeError, ValueError) as e:\n",
    "    print(e)"
   ]
  },
  {
   "cell_type": "markdown",
   "id": "579bfe8a",
   "metadata": {},
   "source": [
    "#### 57. Python Program to Copy a File\n"
   ]
  },
  {
   "cell_type": "code",
   "execution_count": 49,
   "id": "c222f71a",
   "metadata": {},
   "outputs": [
    {
     "data": {
      "text/plain": [
       "'my_dir/b.txt'"
      ]
     },
     "execution_count": 49,
     "metadata": {},
     "output_type": "execute_result"
    }
   ],
   "source": [
    "# Using shutil module\n",
    "from shutil import copyfile\n",
    "copyfile(\"my_dir/a.txt\", \"my_dir/b.txt\")"
   ]
  },
  {
   "cell_type": "markdown",
   "id": "f735e6ef",
   "metadata": {},
   "source": [
    "#### 58. Python Program to Concatenate Two Lists\n"
   ]
  },
  {
   "cell_type": "code",
   "execution_count": 42,
   "id": "b95d18f2",
   "metadata": {
    "scrolled": true
   },
   "outputs": [
    {
     "name": "stdout",
     "output_type": "stream",
     "text": [
      "[1, 'a', 3, 4, 5]\n"
     ]
    }
   ],
   "source": [
    "# Example 1: Using + operator\n",
    "list_1 = [1, 'a']\n",
    "list_2 = [3, 4, 5]\n",
    "\n",
    "list_joined = list_1 + list_2\n",
    "print(list_joined)"
   ]
  },
  {
   "cell_type": "code",
   "execution_count": 43,
   "id": "419d50c8",
   "metadata": {
    "scrolled": true
   },
   "outputs": [
    {
     "name": "stdout",
     "output_type": "stream",
     "text": [
      "[1, 'a', 2, 3]\n"
     ]
    }
   ],
   "source": [
    "# Example 2: Using iterable unpacking operator *\n",
    "list_1 = [1, 'a']\n",
    "list_2 = range(2, 4)\n",
    "\n",
    "list_joined = [*list_1, *list_2]\n",
    "print(list_joined)"
   ]
  },
  {
   "cell_type": "code",
   "execution_count": 44,
   "id": "0ff89e7c",
   "metadata": {},
   "outputs": [
    {
     "name": "stdout",
     "output_type": "stream",
     "text": [
      "[3, 1, 2, 'a']\n"
     ]
    }
   ],
   "source": [
    "# Example 3: With unique values\n",
    "list_1 = [1, 'a']\n",
    "list_2 = [1, 2, 3]\n",
    "\n",
    "list_joined = list(set(list_1 + list_2))\n",
    "print(list_joined)"
   ]
  },
  {
   "cell_type": "code",
   "execution_count": 46,
   "id": "77c22e6a",
   "metadata": {},
   "outputs": [
    {
     "name": "stdout",
     "output_type": "stream",
     "text": [
      "[1, 2, 3, 1, 'a']\n"
     ]
    }
   ],
   "source": [
    "# Example 4: Using extend()\n",
    "list_1 = [1, 'a']\n",
    "list_2 = [1, 2, 3]\n",
    "\n",
    "list_2.extend(list_1)\n",
    "print(list_2)"
   ]
  },
  {
   "cell_type": "markdown",
   "id": "dc0676b8",
   "metadata": {},
   "source": [
    "#### 59. Python Program to Check if a Key is Already Present in a Dictionary\n"
   ]
  },
  {
   "cell_type": "code",
   "execution_count": 41,
   "id": "565d201c",
   "metadata": {},
   "outputs": [
    {
     "name": "stdout",
     "output_type": "stream",
     "text": [
      "present\n"
     ]
    }
   ],
   "source": [
    "# Using in keyword\n",
    "my_dict = {1: 'a', 2: 'b', 3: 'c'}\n",
    "\n",
    "if 2 in my_dict:\n",
    "    print(\"present\")"
   ]
  },
  {
   "cell_type": "markdown",
   "id": "46f3b886",
   "metadata": {},
   "source": [
    "#### 60. Python Program to Split a List Into Evenly Sized Chunks\n"
   ]
  },
  {
   "cell_type": "code",
   "execution_count": 38,
   "id": "7278d104",
   "metadata": {},
   "outputs": [
    {
     "name": "stdout",
     "output_type": "stream",
     "text": [
      "[[1, 2], [3, 4], [5, 6], [7, 8], [9]]\n"
     ]
    }
   ],
   "source": [
    "# Example 1: Using yield\n",
    "def split(list_a, chunk_size):\n",
    "\n",
    "  for i in range(0, len(list_a), chunk_size):\n",
    "    yield list_a[i:i + chunk_size]\n",
    "\n",
    "chunk_size = 2\n",
    "my_list = [1,2,3,4,5,6,7,8,9]\n",
    "print(list(split(my_list, chunk_size)))"
   ]
  },
  {
   "cell_type": "code",
   "execution_count": 39,
   "id": "0da8a58f",
   "metadata": {
    "scrolled": true
   },
   "outputs": [
    {
     "name": "stdout",
     "output_type": "stream",
     "text": [
      "[[1, 2], [3, 4], [5, 6], [7, 8], [9]]\n"
     ]
    }
   ],
   "source": [
    "chunk_size = 2\n",
    "list_chunked = [my_list[i:i + chunk_size] for i in range(0, len(my_list), chunk_size)]\n",
    "print(list_chunked)"
   ]
  },
  {
   "cell_type": "code",
   "execution_count": 40,
   "id": "68a92982",
   "metadata": {},
   "outputs": [
    {
     "name": "stdout",
     "output_type": "stream",
     "text": [
      "[array([1, 2]), array([3, 4]), array([5, 6]), array([7, 8]), array([9])]\n"
     ]
    }
   ],
   "source": [
    "# Example 2: Using numpy\n",
    "import numpy as np\n",
    "\n",
    "my_list = [1,2,3,4,5,6,7,8,9]\n",
    "print(np.array_split(my_list, 5))"
   ]
  },
  {
   "cell_type": "markdown",
   "id": "a073517a",
   "metadata": {},
   "source": [
    "#### 61. Python Program to Parse a String to a Float or Int\n"
   ]
  },
  {
   "cell_type": "code",
   "execution_count": 35,
   "id": "4d558338",
   "metadata": {},
   "outputs": [
    {
     "name": "stdout",
     "output_type": "stream",
     "text": [
      "<class 'int'>\n",
      "1500\n"
     ]
    }
   ],
   "source": [
    "# Example 1: Parse string into integer\n",
    "balance_str = \"1500\"\n",
    "balance_int = int(balance_str)\n",
    "\n",
    "# print the type\n",
    "print(type(balance_int))\n",
    "\n",
    "# print the value\n",
    "print(balance_int)"
   ]
  },
  {
   "cell_type": "code",
   "execution_count": 36,
   "id": "5f92871b",
   "metadata": {
    "scrolled": true
   },
   "outputs": [
    {
     "name": "stdout",
     "output_type": "stream",
     "text": [
      "<class 'float'>\n",
      "1500.4\n"
     ]
    }
   ],
   "source": [
    "# Example 2: Parse string into float\n",
    "balance_str = \"1500.4\"\n",
    "balance_float = float(balance_str)\n",
    "\n",
    "# print the type\n",
    "print(type(balance_float))\n",
    "\n",
    "# print the value\n",
    "print(balance_float)"
   ]
  },
  {
   "cell_type": "code",
   "execution_count": 37,
   "id": "aea92214",
   "metadata": {},
   "outputs": [
    {
     "name": "stdout",
     "output_type": "stream",
     "text": [
      "<class 'int'>\n",
      "1500\n"
     ]
    }
   ],
   "source": [
    "# Example 3: A string float numeral into integer\n",
    "balance_str = \"1500.34\"\n",
    "balance_int = int(float(balance_str))\n",
    "\n",
    "# print the type\n",
    "print(type(balance_int))\n",
    "\n",
    "# print the value\n",
    "print(balance_int)\n"
   ]
  },
  {
   "cell_type": "markdown",
   "id": "4a1400ce",
   "metadata": {},
   "source": [
    "#### 62. Python Program to Print Colored Text to the Terminal"
   ]
  },
  {
   "attachments": {
    "colored_terminal.png": {
     "image/png": "[encoded data removed]"
    }
   },
   "cell_type": "markdown",
   "id": "a82bf14f",
   "metadata": {},
   "source": [
    "### ![colored_terminal.png](attachment:colored_terminal.png)"
   ]
  },
  {
   "cell_type": "code",
   "execution_count": 31,
   "id": "e04521df",
   "metadata": {
    "scrolled": true
   },
   "outputs": [
    {
     "name": "stdout",
     "output_type": "stream",
     "text": [
      "\u001b[38;2;5;86;243mProgramiz\u001b[0m\n"
     ]
    }
   ],
   "source": [
    "# Example 1: Using ANSI escape sequences\n",
    "print('\\x1b[38;2;5;86;243m' + 'Programiz' + '\\x1b[0m')"
   ]
  },
  {
   "cell_type": "markdown",
   "id": "48de948e",
   "metadata": {},
   "source": [
    "##### Let's understand the escape code \\x1b[38;2;5;86;243m.\n",
    "\n",
    "- \\x1b calls a function. You can also use \\033 for the same purpose.\n",
    "- 38;2;r;g;b helps to set RGB color. 5;86;243 are the rgb color for blue (the color of the logo of Programiz).\n",
    "- m is the function name. Here, m means SGR (Select Graphics Rendition) function."
   ]
  },
  {
   "cell_type": "code",
   "execution_count": 33,
   "id": "1773a4bb",
   "metadata": {},
   "outputs": [
    {
     "name": "stdout",
     "output_type": "stream",
     "text": [
      "\u001b[34mashish\u001b[0m\n"
     ]
    }
   ],
   "source": [
    "# Example 2: Using python module termcolor\n",
    "from termcolor import colored\n",
    "\n",
    "print(colored('ashish', 'blue'))"
   ]
  },
  {
   "cell_type": "code",
   "execution_count": 34,
   "id": "89aea707",
   "metadata": {},
   "outputs": [
    {
     "name": "stdout",
     "output_type": "stream",
     "text": [
      "\u001b[32mbindra\u001b[0m\n"
     ]
    }
   ],
   "source": [
    "# Example 2: Using python module termcolor\n",
    "from termcolor import colored\n",
    "\n",
    "print(colored('bindra', 'green'))"
   ]
  },
  {
   "cell_type": "markdown",
   "id": "0c690fe2",
   "metadata": {},
   "source": [
    "#### 63. Python Program to Convert String to Datetime\n"
   ]
  },
  {
   "cell_type": "code",
   "execution_count": 28,
   "id": "474a634c",
   "metadata": {
    "scrolled": true
   },
   "outputs": [
    {
     "name": "stdout",
     "output_type": "stream",
     "text": [
      "<class 'datetime.datetime'>\n",
      "2011-03-11 11:31:00\n"
     ]
    }
   ],
   "source": [
    "# Example 1: Using datetime module\n",
    "from datetime import datetime\n",
    "\n",
    "my_date_string = \"Mar 11 2011 11:31AM\"\n",
    "\n",
    "datetime_object = datetime.strptime(my_date_string, '%b %d %Y %I:%M%p')\n",
    "\n",
    "print(type(datetime_object))\n",
    "print(datetime_object)"
   ]
  },
  {
   "cell_type": "code",
   "execution_count": 29,
   "id": "afe39620",
   "metadata": {},
   "outputs": [
    {
     "name": "stdout",
     "output_type": "stream",
     "text": [
      "2011-03-11 11:31:00\n",
      "<class 'datetime.datetime'>\n"
     ]
    }
   ],
   "source": [
    "# Example 2: Using dateutil module\n",
    "from dateutil import parser\n",
    "\n",
    "date_time = parser.parse(\"Mar 11 2011 11:31AM\")\n",
    "\n",
    "print(date_time)\n",
    "print(type(date_time))"
   ]
  },
  {
   "cell_type": "markdown",
   "id": "a0d5a136",
   "metadata": {},
   "source": [
    "#### 64. Python Program to Get the Last Element of the List\n"
   ]
  },
  {
   "cell_type": "code",
   "execution_count": 26,
   "id": "12415c03",
   "metadata": {
    "scrolled": true
   },
   "outputs": [
    {
     "name": "stdout",
     "output_type": "stream",
     "text": [
      "e\n"
     ]
    }
   ],
   "source": [
    "my_list = ['a', 'b', 'c', 'd', 'e']\n",
    "\n",
    "# print the last element\n",
    "print(my_list[-1])"
   ]
  },
  {
   "cell_type": "code",
   "execution_count": 27,
   "id": "ea4ec1c6",
   "metadata": {},
   "outputs": [
    {
     "data": {
      "text/plain": [
       "'e'"
      ]
     },
     "execution_count": 27,
     "metadata": {},
     "output_type": "execute_result"
    }
   ],
   "source": [
    "my_list[len(my_list)- 1]"
   ]
  },
  {
   "cell_type": "markdown",
   "id": "a960fef5",
   "metadata": {},
   "source": [
    "#### 65. Python Program to Get a Substring of a String\n"
   ]
  },
  {
   "cell_type": "code",
   "execution_count": 328,
   "id": "21ce47ce",
   "metadata": {},
   "outputs": [
    {
     "name": "stdout",
     "output_type": "stream",
     "text": [
      "love\n",
      "love python.\n",
      "I love python\n"
     ]
    }
   ],
   "source": [
    "# Using String slicing\n",
    "my_string = \"I love python.\"\n",
    "\n",
    "# prints \"love\"\n",
    "print(my_string[2:6])\n",
    "\n",
    "# prints \"love python.\"\n",
    "print(my_string[2:])\n",
    "\n",
    "# prints \"I love python\"\n",
    "print(my_string[:-1])"
   ]
  },
  {
   "cell_type": "code",
   "execution_count": 335,
   "id": "acb7108a",
   "metadata": {},
   "outputs": [
    {
     "data": {
      "text/plain": [
       "2"
      ]
     },
     "execution_count": 335,
     "metadata": {},
     "output_type": "execute_result"
    }
   ],
   "source": [
    "my_string.find(\"love\")"
   ]
  },
  {
   "cell_type": "code",
   "execution_count": 339,
   "id": "bac69011",
   "metadata": {},
   "outputs": [
    {
     "data": {
      "text/plain": [
       "2"
      ]
     },
     "execution_count": 339,
     "metadata": {},
     "output_type": "execute_result"
    }
   ],
   "source": [
    "my_string.index(\"love\")"
   ]
  },
  {
   "cell_type": "code",
   "execution_count": 364,
   "id": "1e32f8af",
   "metadata": {
    "scrolled": true
   },
   "outputs": [
    {
     "data": {
      "text/plain": [
       "'I love python.'"
      ]
     },
     "execution_count": 364,
     "metadata": {},
     "output_type": "execute_result"
    }
   ],
   "source": [
    "my_string"
   ]
  },
  {
   "cell_type": "code",
   "execution_count": 359,
   "id": "affb91b6",
   "metadata": {},
   "outputs": [
    {
     "ename": "TypeError",
     "evalue": "'slice' object is not callable",
     "output_type": "error",
     "traceback": [
      "\u001b[1;31m---------------------------------------------------------------------------\u001b[0m",
      "\u001b[1;31mTypeError\u001b[0m                                 Traceback (most recent call last)",
      "Cell \u001b[1;32mIn[359], line 3\u001b[0m\n\u001b[0;32m      1\u001b[0m a \u001b[38;5;241m=\u001b[39m \u001b[38;5;28mslice\u001b[39m(\u001b[38;5;241m1\u001b[39m,\u001b[38;5;241m5\u001b[39m)\n\u001b[1;32m----> 3\u001b[0m a(my_string)\n",
      "\u001b[1;31mTypeError\u001b[0m: 'slice' object is not callable"
     ]
    }
   ],
   "source": []
  },
  {
   "cell_type": "markdown",
   "id": "6a632944",
   "metadata": {},
   "source": [
    "#### 66. Python Program to Print Output Without a Newline\n"
   ]
  },
  {
   "cell_type": "code",
   "execution_count": 366,
   "id": "2022f1fd",
   "metadata": {},
   "outputs": [
    {
     "name": "stdout",
     "output_type": "stream",
     "text": [
      "Python\n"
     ]
    }
   ],
   "source": [
    "print(\"Python\")\n"
   ]
  },
  {
   "cell_type": "code",
   "execution_count": 365,
   "id": "6c1352a7",
   "metadata": {},
   "outputs": [
    {
     "name": "stdout",
     "output_type": "stream",
     "text": [
      "Python "
     ]
    }
   ],
   "source": [
    "print(\"Python\", end=\" \")\n"
   ]
  },
  {
   "cell_type": "markdown",
   "id": "84c78e25",
   "metadata": {},
   "source": [
    "#### 66. Python Program Read a File Line by Line Into a List\n"
   ]
  },
  {
   "cell_type": "code",
   "execution_count": 373,
   "id": "78655a43",
   "metadata": {},
   "outputs": [
    {
     "data": {
      "text/plain": [
       "['Ashish\\n', 'bindra\\n', 'sonu']"
      ]
     },
     "execution_count": 373,
     "metadata": {},
     "output_type": "execute_result"
    }
   ],
   "source": [
    "with open(\"data_file.txt\") as f:\n",
    "    content_list = f.readlines()\n",
    "content_list"
   ]
  },
  {
   "cell_type": "code",
   "execution_count": 368,
   "id": "7667b823",
   "metadata": {
    "scrolled": true
   },
   "outputs": [
    {
     "name": "stdout",
     "output_type": "stream",
     "text": [
      "['Ashish\\n', 'bindra\\n', 'sonu']\n",
      "['Ashish', 'bindra', 'sonu']\n"
     ]
    }
   ],
   "source": [
    "# Example 1: Using readlines()\n",
    "with open(\"data_file.txt\") as f:\n",
    "    content_list = f.readlines()\n",
    "\n",
    "print(content_list)\n",
    "\n",
    "content_list = [x.strip() for x in content_list]\n",
    "print(content_list)"
   ]
  },
  {
   "cell_type": "code",
   "execution_count": 371,
   "id": "77089dc1",
   "metadata": {
    "scrolled": true
   },
   "outputs": [
    {
     "name": "stdout",
     "output_type": "stream",
     "text": [
      "['Ashish', 'bindra', 'sonu']\n"
     ]
    }
   ],
   "source": [
    "# Example 2: Using for loop and list comprehension\n",
    "\n",
    "with open('data_file.txt') as f:\n",
    "    content_list = [line.rstrip() for line in f]\n",
    "\n",
    "print(content_list)"
   ]
  },
  {
   "cell_type": "code",
   "execution_count": 376,
   "id": "640d6986",
   "metadata": {},
   "outputs": [
    {
     "data": {
      "text/plain": [
       "'Ashish\\n'"
      ]
     },
     "execution_count": 376,
     "metadata": {},
     "output_type": "execute_result"
    }
   ],
   "source": [
    "with open(\"data_file.txt\") as f:\n",
    "    content_list = f.readline()\n",
    "content_list"
   ]
  },
  {
   "cell_type": "code",
   "execution_count": 375,
   "id": "30685f0a",
   "metadata": {},
   "outputs": [
    {
     "data": {
      "text/plain": [
       "'Ashish\\nbindra\\nsonu'"
      ]
     },
     "execution_count": 375,
     "metadata": {},
     "output_type": "execute_result"
    }
   ],
   "source": [
    "with open(\"data_file.txt\") as f:\n",
    "    content_list = f.read()\n",
    "content_list"
   ]
  },
  {
   "cell_type": "markdown",
   "id": "c1f598ff",
   "metadata": {},
   "source": [
    "#### 66. Python Program to Randomly Select an Element From the List\n"
   ]
  },
  {
   "cell_type": "code",
   "execution_count": 379,
   "id": "ae462815",
   "metadata": {},
   "outputs": [
    {
     "name": "stdout",
     "output_type": "stream",
     "text": [
      "d\n"
     ]
    }
   ],
   "source": [
    "# Example 1: Using random module\n",
    "import random\n",
    "\n",
    "my_list = [1, 'a', 32, 'c', 'd', 31]\n",
    "print(random.choice(my_list))"
   ]
  },
  {
   "cell_type": "code",
   "execution_count": 380,
   "id": "9c8bbd1c",
   "metadata": {},
   "outputs": [
    {
     "name": "stdout",
     "output_type": "stream",
     "text": [
      "a\n"
     ]
    }
   ],
   "source": [
    "# Example 2: Using secrets module\n",
    "import secrets\n",
    "\n",
    "my_list = [1, 'a', 32, 'c', 'd', 31]\n",
    "print(secrets.choice(my_list))"
   ]
  },
  {
   "cell_type": "code",
   "execution_count": 386,
   "id": "edc95c4f",
   "metadata": {},
   "outputs": [
    {
     "name": "stdout",
     "output_type": "stream",
     "text": [
      "['a']\n"
     ]
    }
   ],
   "source": [
    "import random\n",
    "\n",
    "my_list = [1, 'a', 32, 'c', 'd', 31]\n",
    "print(random.choices(my_list))"
   ]
  },
  {
   "cell_type": "code",
   "execution_count": 425,
   "id": "449724ef",
   "metadata": {},
   "outputs": [
    {
     "name": "stdout",
     "output_type": "stream",
     "text": [
      "[31, 31]\n"
     ]
    }
   ],
   "source": [
    "import random\n",
    "\n",
    "my_list = [1, 'a', 32, 'c', 'd', 31]\n",
    "print(random.choices(my_list,k = 2))"
   ]
  },
  {
   "cell_type": "markdown",
   "id": "5de9d594",
   "metadata": {},
   "source": [
    "#### 67. Python Program to Check If a String Is a Number (Float)\n"
   ]
  },
  {
   "cell_type": "code",
   "execution_count": 22,
   "id": "f513377f",
   "metadata": {
    "scrolled": true
   },
   "outputs": [
    {
     "name": "stdout",
     "output_type": "stream",
     "text": [
      "Is '123.45' a float? True\n"
     ]
    }
   ],
   "source": [
    "def is_float(value):\n",
    "    try:\n",
    "        float(value)\n",
    "        return True\n",
    "    except ValueError:\n",
    "        return False\n",
    "\n",
    "test_string1 = \"123.45\"\n",
    "\n",
    "print(f\"Is '{test_string1}' a float? {is_float(test_string1)}\")\n"
   ]
  },
  {
   "cell_type": "code",
   "execution_count": 18,
   "id": "b49860fc",
   "metadata": {
    "scrolled": true
   },
   "outputs": [
    {
     "name": "stdout",
     "output_type": "stream",
     "text": [
      "Is '123.45' a float? True\n",
      "Is '-456.78' a float? True\n",
      "Is 'abc123' a float? False\n"
     ]
    }
   ],
   "source": [
    "import re\n",
    "\n",
    "# Function to check if a string is a float using regular expression\n",
    "def is_float(value):\n",
    "    # Regular expression for matching floats\n",
    "    float_regex = r'^-?\\d+(\\.\\d+)?$'\n",
    "    return re.match(float_regex, value) is not None\n",
    "\n",
    "# Example usage\n",
    "test_string1 = \"123.45\"\n",
    "test_string2 = \"-456.78\"\n",
    "test_string3 = \"abc123\"\n",
    "\n",
    "print(f\"Is '{test_string1}' a float? {is_float(test_string1)}\")\n",
    "print(f\"Is '{test_string2}' a float? {is_float(test_string2)}\")\n",
    "print(f\"Is '{test_string3}' a float? {is_float(test_string3)}\")\n"
   ]
  },
  {
   "cell_type": "code",
   "execution_count": 23,
   "id": "8b91c617",
   "metadata": {},
   "outputs": [
    {
     "name": "stdout",
     "output_type": "stream",
     "text": [
      "<class 'float'>\n"
     ]
    }
   ],
   "source": [
    "test_string1 = \"123.45\"\n",
    "\n",
    "is_float = eval(test_string1)\n",
    "\n",
    "print(type(is_float))\n"
   ]
  },
  {
   "cell_type": "code",
   "execution_count": 24,
   "id": "92d4db24",
   "metadata": {
    "scrolled": true
   },
   "outputs": [
    {
     "data": {
      "text/plain": [
       "True"
      ]
     },
     "execution_count": 24,
     "metadata": {},
     "output_type": "execute_result"
    }
   ],
   "source": [
    "type(is_float) is float"
   ]
  },
  {
   "cell_type": "code",
   "execution_count": 25,
   "id": "8155d93e",
   "metadata": {
    "scrolled": true
   },
   "outputs": [
    {
     "data": {
      "text/plain": [
       "True"
      ]
     },
     "execution_count": 25,
     "metadata": {},
     "output_type": "execute_result"
    }
   ],
   "source": [
    "type(is_float) == type(3.9)"
   ]
  },
  {
   "cell_type": "code",
   "execution_count": 39,
   "id": "28c8e1f5",
   "metadata": {
    "scrolled": true
   },
   "outputs": [
    {
     "data": {
      "text/plain": [
       "True"
      ]
     },
     "execution_count": 39,
     "metadata": {},
     "output_type": "execute_result"
    }
   ],
   "source": [
    "type(is_float) == type(float())"
   ]
  },
  {
   "cell_type": "code",
   "execution_count": 36,
   "id": "8a62966c",
   "metadata": {
    "scrolled": true
   },
   "outputs": [
    {
     "data": {
      "text/plain": [
       "float"
      ]
     },
     "execution_count": 36,
     "metadata": {},
     "output_type": "execute_result"
    }
   ],
   "source": [
    "type(float())"
   ]
  },
  {
   "cell_type": "code",
   "execution_count": 40,
   "id": "2d250ec4",
   "metadata": {},
   "outputs": [
    {
     "data": {
      "text/plain": [
       "True"
      ]
     },
     "execution_count": 40,
     "metadata": {},
     "output_type": "execute_result"
    }
   ],
   "source": [
    "isinstance(is_float,float)"
   ]
  },
  {
   "cell_type": "code",
   "execution_count": 41,
   "id": "333b41c5",
   "metadata": {},
   "outputs": [
    {
     "data": {
      "text/plain": [
       "False"
      ]
     },
     "execution_count": 41,
     "metadata": {},
     "output_type": "execute_result"
    }
   ],
   "source": [
    "is_float = \"as\"\n",
    "isinstance(is_float,float)"
   ]
  },
  {
   "cell_type": "code",
   "execution_count": 44,
   "id": "4e2b6f02",
   "metadata": {},
   "outputs": [
    {
     "data": {
      "text/plain": [
       "True"
      ]
     },
     "execution_count": 44,
     "metadata": {},
     "output_type": "execute_result"
    }
   ],
   "source": [
    "is_float = 12/2\n",
    "isinstance(is_float,float)"
   ]
  },
  {
   "cell_type": "markdown",
   "id": "f1b2d222",
   "metadata": {},
   "source": [
    "#### 68. Python Program to Count the Occurrence of an Item in a List\n"
   ]
  },
  {
   "cell_type": "code",
   "execution_count": 78,
   "id": "12747bd1",
   "metadata": {},
   "outputs": [
    {
     "name": "stdout",
     "output_type": "stream",
     "text": [
      "2 occurs 3 times in the list.\n"
     ]
    }
   ],
   "source": [
    "numbers = [1, 2, 3, 2, 4, 2, 5]\n",
    "item = 2\n",
    "count = 0\n",
    "\n",
    "for element in numbers:\n",
    "    if element == item:\n",
    "        count += 1\n",
    "\n",
    "print(f\"{element_to_count} occurs {count} times in the list.\")\n"
   ]
  },
  {
   "cell_type": "code",
   "execution_count": 103,
   "id": "7b713865",
   "metadata": {
    "scrolled": true
   },
   "outputs": [
    {
     "name": "stdout",
     "output_type": "stream",
     "text": [
      "1 occures 1\n",
      "2 occures 3\n",
      "3 occures 1\n",
      "4 occures 1\n",
      "5 occures 1\n"
     ]
    }
   ],
   "source": [
    "numbers = [1, 2, 3, 2, 4, 2, 5]\n",
    "\n",
    "count_num = set(numbers)\n",
    "\n",
    "for n in count_num:\n",
    "    if numbers.count(n):\n",
    "        print(f\"{n} occures {numbers.count(n)}\")"
   ]
  },
  {
   "cell_type": "code",
   "execution_count": 234,
   "id": "31d5ef1f",
   "metadata": {},
   "outputs": [
    {
     "data": {
      "text/plain": [
       "([1, 2, 3, 4, 5], [2, 2])"
      ]
     },
     "execution_count": 234,
     "metadata": {},
     "output_type": "execute_result"
    }
   ],
   "source": [
    "numbers = [1, 2, 3, 2, 4, 2, 5]\n",
    "\n",
    "l1 = []\n",
    "l2 = []\n",
    "for num in numbers:\n",
    "    if num not in l1:\n",
    "        l1.append(num)\n",
    "    else:\n",
    "        l2.append(num)\n",
    "\n",
    "\n",
    "l1,l2"
   ]
  },
  {
   "cell_type": "code",
   "execution_count": 235,
   "id": "d105c03f",
   "metadata": {},
   "outputs": [
    {
     "data": {
      "text/plain": [
       "Counter({2: 3, 3: 2, 5: 2, 1: 1, 4: 1, 6: 1})"
      ]
     },
     "execution_count": 235,
     "metadata": {},
     "output_type": "execute_result"
    }
   ],
   "source": [
    "from collections import Counter\n",
    "\n",
    "my_list = [1, 2, 3, 4, 2, 2, 5, 6, 5, 3]\n",
    "\n",
    "occurrences = Counter(my_list)\n",
    "occurrences"
   ]
  },
  {
   "cell_type": "code",
   "execution_count": 25,
   "id": "2bfce251",
   "metadata": {},
   "outputs": [
    {
     "name": "stdout",
     "output_type": "stream",
     "text": [
      "3\n"
     ]
    }
   ],
   "source": [
    "# Using count() method\n",
    "freq = ['a', 1, 'a', 4, 3, 2, 'a'].count('a')\n",
    "print(freq)"
   ]
  },
  {
   "cell_type": "markdown",
   "id": "89b7f57e",
   "metadata": {},
   "source": [
    "#### 69. Python Program to Append to a File\n"
   ]
  },
  {
   "cell_type": "code",
   "execution_count": 24,
   "id": "4ec227a2",
   "metadata": {},
   "outputs": [],
   "source": [
    "with open(\"my_file.txt\", \"a\") as f:\n",
    "   f.write(\"new text\")"
   ]
  },
  {
   "cell_type": "markdown",
   "id": "b940d199",
   "metadata": {},
   "source": [
    "#### 70. Python Program to Delete an Element From a Dictionary\n"
   ]
  },
  {
   "cell_type": "code",
   "execution_count": 21,
   "id": "63b48895",
   "metadata": {},
   "outputs": [
    {
     "name": "stdout",
     "output_type": "stream",
     "text": [
      "{21: 'b', 14: 'c'}\n"
     ]
    }
   ],
   "source": [
    "# Example 1: Using del keyword\n",
    "my_dict = {31: 'a', 21: 'b', 14: 'c'}\n",
    "\n",
    "del my_dict[31]\n",
    "\n",
    "print(my_dict)"
   ]
  },
  {
   "cell_type": "code",
   "execution_count": 23,
   "id": "d7df0dcd",
   "metadata": {},
   "outputs": [
    {
     "name": "stdout",
     "output_type": "stream",
     "text": [
      "a\n",
      "{21: 'b', 14: 'c'}\n"
     ]
    }
   ],
   "source": [
    "# Example 2: Using pop()\n",
    "my_dict = {31: 'a', 21: 'b', 14: 'c'}\n",
    "\n",
    "print(my_dict.pop(31))\n",
    "\n",
    "print(my_dict)"
   ]
  },
  {
   "cell_type": "markdown",
   "id": "55c96ad9",
   "metadata": {},
   "source": [
    "#### 71. Python Program to Create a Long Multiline String\n"
   ]
  },
  {
   "cell_type": "code",
   "execution_count": 17,
   "id": "2620b7e1",
   "metadata": {},
   "outputs": [
    {
     "name": "stdout",
     "output_type": "stream",
     "text": [
      "The only way to\n",
      "learn to program is\n",
      "by writing code.\n"
     ]
    }
   ],
   "source": [
    "# Example 1: Using triple quotes\n",
    "my_string = '''The only way to\n",
    "learn to program is\n",
    "by writing code.'''\n",
    "\n",
    "print(my_string)"
   ]
  },
  {
   "cell_type": "code",
   "execution_count": 19,
   "id": "10bf1073",
   "metadata": {},
   "outputs": [
    {
     "name": "stdout",
     "output_type": "stream",
     "text": [
      "The only way to \n",
      "learn to program is \n",
      "by writing code.\n"
     ]
    }
   ],
   "source": [
    "# Example 2: Using parentheses and a single/double quotes\n",
    "my_string = (\"The only way to \\n\"\n",
    "        \t\"learn to program is \\n\"\n",
    "        \t\"by writing code.\")\n",
    "\n",
    "print(my_string)"
   ]
  },
  {
   "cell_type": "markdown",
   "id": "d7a9b123",
   "metadata": {},
   "source": [
    "#### 72. Python Program to Extract Extension From the File Name\n"
   ]
  },
  {
   "cell_type": "code",
   "execution_count": 15,
   "id": "cf0e89f6",
   "metadata": {
    "scrolled": true
   },
   "outputs": [
    {
     "name": "stdout",
     "output_type": "stream",
     "text": [
      "('/path/file', '.ext')\n",
      ".ext\n"
     ]
    }
   ],
   "source": [
    "# Example 1: Using splitext() method from os module\n",
    "import os\n",
    "file_details = os.path.splitext('/path/file.ext')\n",
    "print(file_details)\n",
    "print(file_details[1])"
   ]
  },
  {
   "cell_type": "code",
   "execution_count": 16,
   "id": "743462a0",
   "metadata": {
    "scrolled": true
   },
   "outputs": [
    {
     "name": "stdout",
     "output_type": "stream",
     "text": [
      ".ext\n"
     ]
    }
   ],
   "source": [
    "# Example 2: Using pathlib module\n",
    "import pathlib\n",
    "print(pathlib.Path('/path/file.ext').suffix)\n"
   ]
  },
  {
   "cell_type": "code",
   "execution_count": 20,
   "id": "b6f23c2d",
   "metadata": {},
   "outputs": [
    {
     "name": "stdout",
     "output_type": "stream",
     "text": [
      "The only way to \n",
      "learn to program is \n",
      "by writing code.\n"
     ]
    }
   ],
   "source": [
    "# Example 3: Using \\\n",
    "my_string = \"The only way to \\n\" \\\n",
    "        \t\"learn to program is \\n\" \\\n",
    "        \t\"by writing code.\"\n",
    "\n",
    "print(my_string)"
   ]
  },
  {
   "cell_type": "code",
   "execution_count": null,
   "id": "2b66be1f",
   "metadata": {},
   "outputs": [],
   "source": []
  },
  {
   "cell_type": "markdown",
   "id": "e4cee8f9",
   "metadata": {},
   "source": [
    "#### 73. Python Program to Measure the Elapsed Time in Python\n"
   ]
  },
  {
   "cell_type": "code",
   "execution_count": 13,
   "id": "0f1e251e",
   "metadata": {},
   "outputs": [
    {
     "name": "stdout",
     "output_type": "stream",
     "text": [
      "52.9\n",
      "0.0\n"
     ]
    }
   ],
   "source": [
    "# Example 1: Using time module\n",
    "import time\n",
    "\n",
    "# Save timestamp\n",
    "start = time.time()\n",
    "\n",
    "print(23*2.3)\n",
    "\n",
    "# Save timestamp\n",
    "end = time.time()\n",
    "\n",
    "print(end - start)"
   ]
  },
  {
   "cell_type": "code",
   "execution_count": 14,
   "id": "13d4a761",
   "metadata": {},
   "outputs": [
    {
     "name": "stdout",
     "output_type": "stream",
     "text": [
      "52.9\n",
      "0.00013319996651262045\n"
     ]
    }
   ],
   "source": [
    "# Example 2: Using timeit module\n",
    "from timeit import default_timer as timer\n",
    "\n",
    "start = timer()\n",
    "\n",
    "print(23*2.3)\n",
    "\n",
    "end = timer()\n",
    "print(end - start)"
   ]
  },
  {
   "cell_type": "markdown",
   "id": "4b720d6d",
   "metadata": {},
   "source": [
    "#### 74. Python Program to Get the Class Name of an Instance\n"
   ]
  },
  {
   "cell_type": "code",
   "execution_count": 11,
   "id": "72f0373c",
   "metadata": {
    "scrolled": true
   },
   "outputs": [
    {
     "name": "stdout",
     "output_type": "stream",
     "text": [
      "Vehicle\n"
     ]
    }
   ],
   "source": [
    "# Example 1: Using __class__.__name__\n",
    "class Vehicle:\n",
    "    def name(self, name):\n",
    "        return name\n",
    "\n",
    "v = Vehicle()\n",
    "print(v.__class__.__name__)"
   ]
  },
  {
   "cell_type": "code",
   "execution_count": 12,
   "id": "ae4719f2",
   "metadata": {},
   "outputs": [
    {
     "name": "stdout",
     "output_type": "stream",
     "text": [
      "Vehicle\n"
     ]
    }
   ],
   "source": [
    "# Example 2: Using type() and __name__ attribute\n",
    "class Vehicle:\n",
    "    def name(self, name):\n",
    "        return name\n",
    "\n",
    "v = Vehicle()\n",
    "print(type(v).__name__)"
   ]
  },
  {
   "cell_type": "markdown",
   "id": "216599e0",
   "metadata": {},
   "source": [
    "#### 75. Python Program to Convert Two Lists Into a Dictionary\n"
   ]
  },
  {
   "cell_type": "markdown",
   "id": "d20b2040",
   "metadata": {},
   "source": [
    "The zip() function takes iterables (can be zero or more), aggregates them in a tuple, and returns it."
   ]
  },
  {
   "cell_type": "code",
   "execution_count": 238,
   "id": "5f520a1f",
   "metadata": {},
   "outputs": [
    {
     "data": {
      "text/plain": [
       "{'k': 'a', 'l': 's', 'm': 'h'}"
      ]
     },
     "execution_count": 238,
     "metadata": {},
     "output_type": "execute_result"
    }
   ],
   "source": [
    "keys = [\"k\",\"l\",\"m\"]\n",
    "values = [\"a\", \"s\", \"h\",\"i\"]\n",
    "\n",
    "dict(zip(keys, values))"
   ]
  },
  {
   "cell_type": "code",
   "execution_count": 10,
   "id": "7b7376e1",
   "metadata": {},
   "outputs": [
    {
     "name": "stdout",
     "output_type": "stream",
     "text": [
      "{1: 'python', 2: 'c', 3: 'c++'}\n"
     ]
    }
   ],
   "source": [
    "# Example 2: Using list comprehension\n",
    "index = [1, 2, 3]\n",
    "languages = ['python', 'c', 'c++']\n",
    "\n",
    "dictionary = {k: v for k, v in zip(index, languages)}\n",
    "print(dictionary)"
   ]
  },
  {
   "cell_type": "code",
   "execution_count": null,
   "id": "f23422be",
   "metadata": {},
   "outputs": [],
   "source": []
  },
  {
   "cell_type": "code",
   "execution_count": null,
   "id": "caa397b2",
   "metadata": {},
   "outputs": [],
   "source": []
  },
  {
   "cell_type": "markdown",
   "id": "bc623dae",
   "metadata": {},
   "source": [
    "#### 76. Python Program to Differentiate Between type() and isinstance()\n"
   ]
  },
  {
   "cell_type": "code",
   "execution_count": 9,
   "id": "b2076072",
   "metadata": {},
   "outputs": [
    {
     "name": "stdout",
     "output_type": "stream",
     "text": [
      "True\n",
      "False\n",
      "True\n",
      "True\n"
     ]
    }
   ],
   "source": [
    "class Polygon:\n",
    "    def sides_no(self):\n",
    "        pass\n",
    "\n",
    "class Triangle(Polygon):\n",
    "    def area(self):\n",
    "        pass\n",
    "\n",
    "obj_polygon = Polygon()\n",
    "obj_triangle = Triangle()\n",
    "\n",
    "print(type(obj_triangle) == Triangle)   \t# true\n",
    "print(type(obj_triangle) == Polygon)    \t# false\n",
    "\n",
    "print(isinstance(obj_polygon, Polygon)) \t# true\n",
    "print(isinstance(obj_triangle, Polygon))\t# true"
   ]
  },
  {
   "cell_type": "markdown",
   "id": "d3854905",
   "metadata": {},
   "source": [
    "we see that type() cannot distinguish whether an instance of a class is somehow related to the base class.\n",
    "- In our case, although obj_triangle is an instance of child class Triangle,\n",
    "- it is inherited from the base class Polygon. If you want to relate the object of a child class with the base class, \n",
    "- you can achieve this with isinstance()."
   ]
  },
  {
   "cell_type": "markdown",
   "id": "00bec01f",
   "metadata": {},
   "source": [
    "#### 77. Python Program to Trim Whitespace From a String\n"
   ]
  },
  {
   "cell_type": "code",
   "execution_count": 274,
   "id": "62afdfc9",
   "metadata": {
    "scrolled": true
   },
   "outputs": [
    {
     "data": {
      "text/plain": [
       "'as'"
      ]
     },
     "execution_count": 274,
     "metadata": {},
     "output_type": "execute_result"
    }
   ],
   "source": [
    "str1 = \" as \"\n",
    "\n",
    "str1.strip()"
   ]
  },
  {
   "cell_type": "code",
   "execution_count": 275,
   "id": "8c75bdbf",
   "metadata": {
    "scrolled": true
   },
   "outputs": [
    {
     "data": {
      "text/plain": [
       "'ashish'"
      ]
     },
     "execution_count": 275,
     "metadata": {},
     "output_type": "execute_result"
    }
   ],
   "source": [
    "str1= \" ashish\"\n",
    "\n",
    "str1.lstrip()"
   ]
  },
  {
   "cell_type": "code",
   "execution_count": 276,
   "id": "716cd337",
   "metadata": {},
   "outputs": [
    {
     "data": {
      "text/plain": [
       "'ashish'"
      ]
     },
     "execution_count": 276,
     "metadata": {},
     "output_type": "execute_result"
    }
   ],
   "source": [
    "str1= \"ashish \"\n",
    "\n",
    "str1.rstrip()"
   ]
  },
  {
   "cell_type": "code",
   "execution_count": 8,
   "id": "ae0e2fcb",
   "metadata": {},
   "outputs": [
    {
     "name": "stdout",
     "output_type": "stream",
     "text": [
      "Hello Python\n"
     ]
    }
   ],
   "source": [
    "# Example 2: Using regular expression\n",
    "import re\n",
    "\n",
    "my_string  = \" Hello Python \"\n",
    "output = re.sub(r'^\\s+|\\s+$', '', my_string)\n",
    "\n",
    "print(output)"
   ]
  },
  {
   "cell_type": "markdown",
   "id": "1c1c1835",
   "metadata": {},
   "source": [
    "#### 78. Python Program to Get the File Name From the File Path\n"
   ]
  },
  {
   "cell_type": "code",
   "execution_count": 5,
   "id": "435f90f4",
   "metadata": {
    "scrolled": true
   },
   "outputs": [
    {
     "name": "stdout",
     "output_type": "stream",
     "text": [
      "file\n"
     ]
    }
   ],
   "source": [
    "# Example 1: Using os module\n",
    "import os\n",
    "\n",
    "# file name with extension\n",
    "file_name = os.path.basename('/root/file.ext')\n",
    "\n",
    "# file name without extension\n",
    "print(os.path.splitext(file_name)[0])"
   ]
  },
  {
   "cell_type": "code",
   "execution_count": 6,
   "id": "858b9288",
   "metadata": {},
   "outputs": [
    {
     "name": "stdout",
     "output_type": "stream",
     "text": [
      "('file', '.ext')\n"
     ]
    }
   ],
   "source": [
    "import os\n",
    "\n",
    "print(os.path.splitext(file_name))"
   ]
  },
  {
   "cell_type": "code",
   "execution_count": 7,
   "id": "3ad025d9",
   "metadata": {},
   "outputs": [
    {
     "ename": "SyntaxError",
     "evalue": "invalid syntax (1077071268.py, line 1)",
     "output_type": "error",
     "traceback": [
      "\u001b[1;36m  Cell \u001b[1;32mIn[7], line 1\u001b[1;36m\u001b[0m\n\u001b[1;33m    sing Path module\u001b[0m\n\u001b[1;37m         ^\u001b[0m\n\u001b[1;31mSyntaxError\u001b[0m\u001b[1;31m:\u001b[0m invalid syntax\n"
     ]
    }
   ],
   "source": [
    "# sing Path module\n",
    "from pathlib import Path\n",
    "\n",
    "print(Path('/root/file.ext').stem)"
   ]
  },
  {
   "cell_type": "markdown",
   "id": "db8b8588",
   "metadata": {},
   "source": [
    "#### 79. Python Program to Represent enum\n"
   ]
  },
  {
   "cell_type": "code",
   "execution_count": 4,
   "id": "66d37a27",
   "metadata": {},
   "outputs": [
    {
     "name": "stdout",
     "output_type": "stream",
     "text": [
      "Day.MONDAY\n",
      "MONDAY\n",
      "1\n"
     ]
    }
   ],
   "source": [
    "# Using enum module\n",
    "from enum import Enum\n",
    "\n",
    "class Day(Enum):\n",
    "    MONDAY = 1\n",
    "    TUESDAY = 2\n",
    "    WEDNESDAY = 3\n",
    "\n",
    "# print the enum member\n",
    "print(Day.MONDAY)\n",
    "\n",
    "# get the name of the enum member\n",
    "print(Day.MONDAY.name)\n",
    "\n",
    "# get the value of the enum member\n",
    "print(Day.MONDAY.value)"
   ]
  },
  {
   "cell_type": "markdown",
   "id": "6e9f5b39",
   "metadata": {},
   "source": [
    "#### 80. Python Program to Return Multiple Values From a Function\n"
   ]
  },
  {
   "cell_type": "code",
   "execution_count": 2,
   "id": "5b8114f9",
   "metadata": {},
   "outputs": [
    {
     "name": "stdout",
     "output_type": "stream",
     "text": [
      "('John', 'Armin')\n",
      "John Armin\n"
     ]
    }
   ],
   "source": [
    "# Example 1: Return values using comma\n",
    "def name():\n",
    "    return \"John\",\"Armin\"\n",
    "\n",
    "# print the tuple with the returned values\n",
    "print(name())\n",
    "\n",
    "# get the individual items\n",
    "name_1, name_2 = name()\n",
    "print(name_1, name_2)"
   ]
  },
  {
   "cell_type": "code",
   "execution_count": 3,
   "id": "b9a1a4ad",
   "metadata": {},
   "outputs": [
    {
     "name": "stdout",
     "output_type": "stream",
     "text": [
      "{1: 'John', 2: 'Armin'}\n"
     ]
    }
   ],
   "source": [
    "# Example 2: Using a dictionary\n",
    "def name():\n",
    "    n1 = \"John\"\n",
    "    n2 = \"Armin\"\n",
    "\n",
    "    return {1:n1, 2:n2}\n",
    "\n",
    "names = name()\n",
    "print(names)"
   ]
  },
  {
   "cell_type": "markdown",
   "id": "1f9178f2",
   "metadata": {},
   "source": [
    "#### 81. Python Program to Get Line Count of a File\n"
   ]
  },
  {
   "cell_type": "code",
   "execution_count": 1,
   "id": "0703ecda",
   "metadata": {},
   "outputs": [
    {
     "data": {
      "text/plain": [
       "3"
      ]
     },
     "execution_count": 1,
     "metadata": {},
     "output_type": "execute_result"
    }
   ],
   "source": [
    "with open(\"data_file.txt\") as f:\n",
    "    for i, l in enumerate(f):\n",
    "        pass\n",
    "i + 1\n"
   ]
  },
  {
   "cell_type": "code",
   "execution_count": 1,
   "id": "750805a3",
   "metadata": {},
   "outputs": [
    {
     "name": "stdout",
     "output_type": "stream",
     "text": [
      "3\n"
     ]
    }
   ],
   "source": [
    "# Example 2: Using list comprehension\n",
    "num_of_lines = sum(1 for l in open('data_file.txt'))\n",
    "\n",
    "print(num_of_lines)"
   ]
  },
  {
   "cell_type": "markdown",
   "id": "08d7afa8",
   "metadata": {},
   "source": [
    "#### 82. Python Program to Find All File with .txt Extension Present Inside a Directory\n"
   ]
  },
  {
   "cell_type": "markdown",
   "id": "a1b54ad9",
   "metadata": {},
   "source": [
    "#### os.chdir(\"my_dir\") sets the current working directory to /my_dir.\n",
    "- Using a for loop, you can search for files with .txt extension using glob().\n",
    "* denotes all files with a given extension"
   ]
  },
  {
   "cell_type": "code",
   "execution_count": 2,
   "id": "8f22792a",
   "metadata": {
    "scrolled": true
   },
   "outputs": [
    {
     "name": "stdout",
     "output_type": "stream",
     "text": [
      "a.txt\n",
      "b.txt\n",
      "untitled.txt\n",
      "untitled1.txt\n"
     ]
    }
   ],
   "source": [
    "# Example 1: Using glob\n",
    "import glob, os\n",
    "\n",
    "os.chdir(\"my_dir\")\n",
    "\n",
    "for file in glob.glob(\"*.txt\"):\n",
    "    print(file)"
   ]
  },
  {
   "cell_type": "code",
   "execution_count": 3,
   "id": "2d24c173",
   "metadata": {
    "scrolled": true
   },
   "outputs": [
    {
     "ename": "FileNotFoundError",
     "evalue": "[WinError 3] The system cannot find the path specified: 'my_dir'",
     "output_type": "error",
     "traceback": [
      "\u001b[1;31m---------------------------------------------------------------------------\u001b[0m",
      "\u001b[1;31mFileNotFoundError\u001b[0m                         Traceback (most recent call last)",
      "Cell \u001b[1;32mIn[3], line 4\u001b[0m\n\u001b[0;32m      1\u001b[0m \u001b[38;5;66;03m# Example 2: Using os\u001b[39;00m\n\u001b[0;32m      2\u001b[0m \u001b[38;5;28;01mimport\u001b[39;00m \u001b[38;5;21;01mos\u001b[39;00m\n\u001b[1;32m----> 4\u001b[0m \u001b[38;5;28;01mfor\u001b[39;00m file \u001b[38;5;129;01min\u001b[39;00m os\u001b[38;5;241m.\u001b[39mlistdir(\u001b[38;5;124m\"\u001b[39m\u001b[38;5;124mmy_dir\u001b[39m\u001b[38;5;124m\"\u001b[39m):\n\u001b[0;32m      5\u001b[0m     \u001b[38;5;28;01mif\u001b[39;00m file\u001b[38;5;241m.\u001b[39mendswith(\u001b[38;5;124m\"\u001b[39m\u001b[38;5;124m.txt\u001b[39m\u001b[38;5;124m\"\u001b[39m):\n\u001b[0;32m      6\u001b[0m         \u001b[38;5;28mprint\u001b[39m(file)\n",
      "\u001b[1;31mFileNotFoundError\u001b[0m: [WinError 3] The system cannot find the path specified: 'my_dir'"
     ]
    }
   ],
   "source": [
    "# Example 2: Using os\n",
    "import os\n",
    "\n",
    "for file in os.listdir(\"my_dir\"):\n",
    "    if file.endswith(\".txt\"):\n",
    "        print(file)"
   ]
  },
  {
   "cell_type": "code",
   "execution_count": null,
   "id": "2fcbc54d",
   "metadata": {},
   "outputs": [],
   "source": [
    "# Using os.walk\n",
    "import os\n",
    "\n",
    "for root, dirs, files in os.walk(\"my_dir\"):\n",
    "    for file in files:\n",
    "        if file.endswith(\".txt\"):\n",
    "            print(file)"
   ]
  },
  {
   "cell_type": "markdown",
   "id": "aa287e30",
   "metadata": {},
   "source": [
    "#### 83. Python Program to Get File Creation and Modification Date\n"
   ]
  },
  {
   "cell_type": "code",
   "execution_count": 493,
   "id": "208f1e45",
   "metadata": {
    "scrolled": true
   },
   "outputs": [
    {
     "name": "stdout",
     "output_type": "stream",
     "text": [
      "Last modification time: Wed Sep  4 11:48:44 2024\n",
      "Last metadata change time or path creation time: Wed Sep  4 11:47:13 2024\n"
     ]
    }
   ],
   "source": [
    "# Example 1: Using os module\n",
    "import os.path, time\n",
    "\n",
    "file = pathlib.Path('data_file.txt')\n",
    "print(\"Last modification time: %s\" % time.ctime(os.path.getmtime(file)))\n",
    "print(\"Last metadata change time or path creation time: %s\" % time.ctime(os.path.getctime(file)))"
   ]
  },
  {
   "cell_type": "markdown",
   "id": "b9b57266",
   "metadata": {},
   "source": [
    "#### getmtime() gives the last modification time whereas getctime() gives the last metadata change time in Linux/Unix and path creation time in Windows."
   ]
  },
  {
   "cell_type": "code",
   "execution_count": 494,
   "id": "92fdcaa8",
   "metadata": {},
   "outputs": [
    {
     "name": "stdout",
     "output_type": "stream",
     "text": [
      "Last modification time: 2024-09-04 11:48:44.226824\n",
      "Last metadata change time or path creation time: 2024-09-04 11:47:13.734456\n"
     ]
    }
   ],
   "source": [
    "# Example 2: Using stat() method\n",
    "import datetime\n",
    "import pathlib\n",
    "\n",
    "fname = pathlib.Path('data_file.txt')\n",
    "print(\"Last modification time: %s\" % datetime.datetime.fromtimestamp(fname.stat().st_mtime))\n",
    "print(\"Last metadata change time or path creation time: %s\" % datetime.datetime.fromtimestamp(fname.stat().st_ctime))"
   ]
  },
  {
   "cell_type": "markdown",
   "id": "7a7a4937",
   "metadata": {},
   "source": [
    "#### 84. Python Program to Get the Full Path of the Current Working Directory\n"
   ]
  },
  {
   "cell_type": "code",
   "execution_count": 490,
   "id": "1de7afc6",
   "metadata": {},
   "outputs": [
    {
     "name": "stdout",
     "output_type": "stream",
     "text": [
      "C:\\Users\\Bindra\\Desktop\\TODO\\python_programing\\workshop_1\n",
      "C:\\Users\\Bindra\\Desktop\\TODO\\python_programing\\workshop_1\n"
     ]
    }
   ],
   "source": [
    "# Example 1: Using pathlib module\n",
    "import pathlib\n",
    "\n",
    "# path of the given file\n",
    "print(pathlib.Path(\"my_file.txt\").parent.absolute())\n",
    "\n",
    "# current working directory\n",
    "print(pathlib.Path().absolute())"
   ]
  },
  {
   "cell_type": "code",
   "execution_count": 491,
   "id": "1c9f875a",
   "metadata": {},
   "outputs": [
    {
     "name": "stdout",
     "output_type": "stream",
     "text": [
      "C:\\Users\\Bindra\\Desktop\\TODO\\python_programing\\workshop_1\n",
      "C:\\Users\\Bindra\\Desktop\\TODO\\python_programing\\workshop_1\n"
     ]
    }
   ],
   "source": [
    "# Example 2: Using os module\n",
    "import os\n",
    "\n",
    "# path of the given file\n",
    "print(os.path.dirname(os.path.abspath(\"my_file.txt\")))\n",
    "\n",
    "# current working directory\n",
    "print(os.path.abspath(os.getcwd()))"
   ]
  },
  {
   "cell_type": "markdown",
   "id": "48f87212",
   "metadata": {},
   "source": [
    "#### 85. Python Program to Iterate Through Two Lists in Parallel\n"
   ]
  },
  {
   "cell_type": "code",
   "execution_count": 487,
   "id": "fc96dbe0",
   "metadata": {
    "scrolled": true
   },
   "outputs": [
    {
     "name": "stdout",
     "output_type": "stream",
     "text": [
      "1 a\n",
      "2 b\n",
      "3 c\n"
     ]
    }
   ],
   "source": [
    "# Example 1: Using zip\n",
    "list_1 = [1, 2, 3, 4]\n",
    "list_2 = ['a', 'b', 'c']\n",
    "\n",
    "for i, j in zip(list_1, list_2):\n",
    "    print(i, j)"
   ]
  },
  {
   "cell_type": "code",
   "execution_count": 488,
   "id": "64cda200",
   "metadata": {},
   "outputs": [
    {
     "name": "stdout",
     "output_type": "stream",
     "text": [
      "1 a\n",
      "2 b\n",
      "3 c\n",
      "4 None\n"
     ]
    }
   ],
   "source": [
    "# loop until the longer list stops\n",
    "for i,j in itertools.zip_longest(list_1,list_2):\n",
    "    print(i,j)"
   ]
  },
  {
   "cell_type": "markdown",
   "id": "f2a87b85",
   "metadata": {},
   "source": [
    "#### 86. Python Program to Check the File Size\n"
   ]
  },
  {
   "cell_type": "code",
   "execution_count": 482,
   "id": "4fe8ed75",
   "metadata": {},
   "outputs": [
    {
     "data": {
      "text/plain": [
       "20"
      ]
     },
     "execution_count": 482,
     "metadata": {},
     "output_type": "execute_result"
    }
   ],
   "source": [
    "import os \n",
    "\n",
    "filepath = \"data_file.txt\"\n",
    "file_size = os.path.getsize(filepath)\n",
    "file_size"
   ]
  },
  {
   "cell_type": "code",
   "execution_count": 486,
   "id": "4079f614",
   "metadata": {
    "scrolled": true
   },
   "outputs": [
    {
     "name": "stdout",
     "output_type": "stream",
     "text": [
      "20\n"
     ]
    },
    {
     "data": {
      "text/plain": [
       "os.stat_result(st_mode=33206, st_ino=4503599627430444, st_dev=3626694740, st_nlink=1, st_uid=0, st_gid=0, st_size=20, st_atime=1725430867, st_mtime=1725430724, st_ctime=1725430633)"
      ]
     },
     "execution_count": 486,
     "metadata": {},
     "output_type": "execute_result"
    }
   ],
   "source": [
    "# Example 1: Using os module\n",
    "import os\n",
    "\n",
    "file_stat = os.stat(filepath)\n",
    "print(file_stat.st_size)\n",
    "\n",
    "file_stat"
   ]
  },
  {
   "cell_type": "code",
   "execution_count": 485,
   "id": "246d5968",
   "metadata": {},
   "outputs": [
    {
     "name": "stdout",
     "output_type": "stream",
     "text": [
      "20\n"
     ]
    }
   ],
   "source": [
    "# Example 2: Using pathlib module\n",
    "from pathlib import Path\n",
    "\n",
    "file = Path(filepath)\n",
    "print(file.stat().st_size)"
   ]
  },
  {
   "cell_type": "markdown",
   "id": "0fe3614e",
   "metadata": {},
   "source": [
    "#### 87. Python Program to Reverse a Number\n"
   ]
  },
  {
   "cell_type": "code",
   "execution_count": 281,
   "id": "8c4d3288",
   "metadata": {},
   "outputs": [
    {
     "data": {
      "text/plain": [
       "'54321'"
      ]
     },
     "execution_count": 281,
     "metadata": {},
     "output_type": "execute_result"
    }
   ],
   "source": [
    "n = 12345\n",
    "\n",
    "str(n)[::-1]"
   ]
  },
  {
   "cell_type": "code",
   "execution_count": 309,
   "id": "d9f42625",
   "metadata": {
    "scrolled": true
   },
   "outputs": [
    {
     "data": {
      "text/plain": [
       "34354321"
      ]
     },
     "execution_count": 309,
     "metadata": {},
     "output_type": "execute_result"
    }
   ],
   "source": [
    "n = 12345343\n",
    "\n",
    "\n",
    "new =0\n",
    "while n:\n",
    "    r =n%10\n",
    "    new = new * 10 +r\n",
    "    n = n//10\n",
    "new"
   ]
  },
  {
   "cell_type": "code",
   "execution_count": 320,
   "id": "6e8f16ef",
   "metadata": {},
   "outputs": [
    {
     "data": {
      "text/plain": [
       "'54321'"
      ]
     },
     "execution_count": 320,
     "metadata": {},
     "output_type": "execute_result"
    }
   ],
   "source": [
    "n = 12345\n",
    "\n",
    "s =''.join(reversed(str(n)))\n",
    "s"
   ]
  },
  {
   "cell_type": "markdown",
   "id": "27195d31",
   "metadata": {},
   "source": [
    "#### 88. Python Program to Compute the Power of a Number\n"
   ]
  },
  {
   "cell_type": "code",
   "execution_count": 451,
   "id": "49e06a5d",
   "metadata": {},
   "outputs": [
    {
     "name": "stdout",
     "output_type": "stream",
     "text": [
      "Answer = 81\n"
     ]
    }
   ],
   "source": [
    "# Calculate the power of a number using pow() function\n",
    "base = 3\n",
    "exponent = 4\n",
    "\n",
    "result = pow(base, exponent)\n",
    "\n",
    "print(\"Answer = \" + str(result))"
   ]
  },
  {
   "cell_type": "code",
   "execution_count": 452,
   "id": "c775d356",
   "metadata": {},
   "outputs": [
    {
     "name": "stdout",
     "output_type": "stream",
     "text": [
      "Answer = 81\n"
     ]
    }
   ],
   "source": [
    "# Calculate power of a number using a for loop\n",
    "base = 3\n",
    "exponent = 4\n",
    "\n",
    "result = 1\n",
    "\n",
    "for exponent in range(exponent, 0, -1):\n",
    "    result *= base\n",
    "\n",
    "print(\"Answer = \" + str(result))"
   ]
  },
  {
   "cell_type": "code",
   "execution_count": 454,
   "id": "784d2d16",
   "metadata": {},
   "outputs": [
    {
     "name": "stdout",
     "output_type": "stream",
     "text": [
      "Answer = 81\n"
     ]
    }
   ],
   "source": [
    "# Calculate power of a number using a while loop\n",
    "base = 3\n",
    "exponent = 4\n",
    "\n",
    "result = 1\n",
    "\n",
    "while exponent != 0:\n",
    "    result *= base\n",
    "    exponent-=1\n",
    "\n",
    "print(\"Answer = \" + str(result))"
   ]
  },
  {
   "cell_type": "code",
   "execution_count": 477,
   "id": "5ebb5017",
   "metadata": {
    "scrolled": true
   },
   "outputs": [
    {
     "data": {
      "text/plain": [
       "81"
      ]
     },
     "execution_count": 477,
     "metadata": {},
     "output_type": "execute_result"
    }
   ],
   "source": [
    "base = 3\n",
    "exponent = 4\n",
    "exponent+=1\n",
    "result =1\n",
    "\n",
    "while exponent:=  exponent-1:\n",
    "    result *= base\n",
    "result"
   ]
  },
  {
   "cell_type": "code",
   "execution_count": 479,
   "id": "dac1c56e",
   "metadata": {},
   "outputs": [
    {
     "data": {
      "text/plain": [
       "81"
      ]
     },
     "execution_count": 479,
     "metadata": {},
     "output_type": "execute_result"
    }
   ],
   "source": [
    "base = 3\n",
    "exponent = 4\n",
    "result =1\n",
    "\n",
    "while exponent:\n",
    "    result *= base\n",
    "    exponent-=1\n",
    "\n",
    "result"
   ]
  },
  {
   "cell_type": "markdown",
   "id": "aee49a7b",
   "metadata": {},
   "source": [
    "#### 89.  Python Program to Count the Number of Digits Present In a Number\n"
   ]
  },
  {
   "cell_type": "code",
   "execution_count": 323,
   "id": "cb47580b",
   "metadata": {
    "scrolled": true
   },
   "outputs": [
    {
     "data": {
      "text/plain": [
       "7"
      ]
     },
     "execution_count": 323,
     "metadata": {},
     "output_type": "execute_result"
    }
   ],
   "source": [
    "num = 1234567\n",
    "\n",
    "def count_digits(n):\n",
    "    count = 0\n",
    "    while n > 0:\n",
    "        n = n // 10\n",
    "        count += 1\n",
    "    return count\n",
    "\n",
    "digit_count = count_digits(abs(num)) \n",
    "digit_count"
   ]
  },
  {
   "cell_type": "code",
   "execution_count": 337,
   "id": "a85d3d52",
   "metadata": {},
   "outputs": [
    {
     "data": {
      "text/plain": [
       "7"
      ]
     },
     "execution_count": 337,
     "metadata": {},
     "output_type": "execute_result"
    }
   ],
   "source": [
    "len(str(num))"
   ]
  },
  {
   "cell_type": "code",
   "execution_count": 357,
   "id": "3b3a9b27",
   "metadata": {},
   "outputs": [
    {
     "name": "stdout",
     "output_type": "stream",
     "text": [
      "(1, '1')\n",
      "(2, '2')\n",
      "(3, '3')\n",
      "(4, '4')\n",
      "(5, '5')\n",
      "(6, '6')\n",
      "(7, '7')\n",
      "(7, '7')\n"
     ]
    }
   ],
   "source": [
    "for i in enumerate(str(num),start=1):\n",
    "    print(i)\n",
    "print(i)"
   ]
  },
  {
   "cell_type": "code",
   "execution_count": 340,
   "id": "e85861e9",
   "metadata": {},
   "outputs": [
    {
     "data": {
      "text/plain": [
       "6.0915146640862625"
      ]
     },
     "execution_count": 340,
     "metadata": {},
     "output_type": "execute_result"
    }
   ],
   "source": [
    "import math\n",
    "\n",
    "n = 1234567\n",
    "\n",
    "math.floor(math.log10(n)+1)\n",
    "math.log10(n)"
   ]
  },
  {
   "cell_type": "markdown",
   "id": "95e007f5",
   "metadata": {},
   "source": [
    "#### 90. Python Program to Check If Two Strings are Anagram\n"
   ]
  },
  {
   "cell_type": "markdown",
   "id": "4ecb54a6",
   "metadata": {},
   "source": [
    "Two strings are said to be anagrams iff both are having same content irrespective of\n",
    "characters position."
   ]
  },
  {
   "cell_type": "code",
   "execution_count": 358,
   "id": "5309217b",
   "metadata": {},
   "outputs": [
    {
     "name": "stdout",
     "output_type": "stream",
     "text": [
      "The strings are anagrams.\n"
     ]
    }
   ],
   "source": [
    "s1 = \"papa\"\n",
    "s2 = \"appa\"\n",
    "\n",
    "if sorted(s1) == sorted(s2):\n",
    "    print(\"The strings are anagrams.\")\n",
    "else:\n",
    "    print(\"The strings aren't anagrams.\") "
   ]
  },
  {
   "cell_type": "code",
   "execution_count": 372,
   "id": "44f85576",
   "metadata": {},
   "outputs": [
    {
     "name": "stdout",
     "output_type": "stream",
     "text": [
      "The strings aren't anagrams.\n",
      "aapp aapp\n"
     ]
    }
   ],
   "source": [
    "s1 = \"\".join(sorted(s1))\n",
    "s2 = \"\".join(sorted(s2))\n",
    "\n",
    "if s1 is s2:\n",
    "    print(\"The strings are anagrams.\")\n",
    "else:\n",
    "    print(\"The strings aren't anagrams.\") \n",
    "print(s1,s2)"
   ]
  },
  {
   "cell_type": "code",
   "execution_count": 463,
   "id": "207179cd",
   "metadata": {},
   "outputs": [
    {
     "name": "stdout",
     "output_type": "stream",
     "text": [
      "Counter({'l': 1, 'a': 1, 'z': 1, 'y': 1})\n"
     ]
    },
    {
     "data": {
      "text/plain": [
       "True"
      ]
     },
     "execution_count": 463,
     "metadata": {},
     "output_type": "execute_result"
    }
   ],
   "source": [
    "from collections import Counter\n",
    "\n",
    "# Function to check if two strings are anagrams\n",
    "def are_anagrams(str1, str2):\n",
    "    # Anagrams must have the same length\n",
    "    if len(str1) != len(str2):\n",
    "        return False\n",
    "    print(Counter(str1))\n",
    "    # Compare character counts using Counter\n",
    "    return Counter(str1) == Counter(str2)\n",
    "are_anagrams(\"lazy\",\"zaly\")"
   ]
  },
  {
   "cell_type": "markdown",
   "id": "6b6927f7",
   "metadata": {},
   "source": [
    "#### 91. Python Program to Capitalize the First Character of a String\n"
   ]
  },
  {
   "cell_type": "code",
   "execution_count": 465,
   "id": "05842470",
   "metadata": {},
   "outputs": [
    {
     "data": {
      "text/plain": [
       "'Ashish'"
      ]
     },
     "execution_count": 465,
     "metadata": {},
     "output_type": "execute_result"
    }
   ],
   "source": [
    "s = \"ashish\"\n",
    "\n",
    "s.capitalize()"
   ]
  },
  {
   "cell_type": "markdown",
   "id": "defd4c63",
   "metadata": {},
   "source": [
    "#### 92. Python Program to Compute all the Permutation of the String\n"
   ]
  },
  {
   "cell_type": "markdown",
   "id": "d8342b87",
   "metadata": {},
   "source": [
    "Permutation is the method of selecting elements from a set in different ways.\n",
    "\n",
    "For example: the number of ways in which characters from yup can be selected are \n",
    "- yup, ypu, uyp, upy, puy, pyu, and not selecting any."
   ]
  },
  {
   "cell_type": "code",
   "execution_count": 438,
   "id": "fcd69aa4",
   "metadata": {
    "scrolled": true
   },
   "outputs": [
    {
     "name": "stdout",
     "output_type": "stream",
     "text": [
      "yup\n",
      "ypu\n",
      "uyp\n",
      "upy\n",
      "puy\n",
      "pyu\n",
      "None\n"
     ]
    }
   ],
   "source": [
    "# Example 1: Using recursion\n",
    "def get_permutation(string, i=0):\n",
    "\n",
    "    if i == len(string):   \t \n",
    "        print(\"\".join(string))\n",
    "\n",
    "    for j in range(i, len(string)):\n",
    "\n",
    "        words = [c for c in string]\n",
    "   \n",
    "        # swap\n",
    "        words[i], words[j] = words[j], words[i]\n",
    "   \t \n",
    "        get_permutation(words, i + 1)\n",
    "\n",
    "print(get_permutation('yup'))"
   ]
  },
  {
   "cell_type": "code",
   "execution_count": 449,
   "id": "2f50f6af",
   "metadata": {},
   "outputs": [
    {
     "name": "stdout",
     "output_type": "stream",
     "text": [
      "('p', 'r', 'o')\n",
      "('p', 'o', 'r')\n",
      "('r', 'p', 'o')\n",
      "('r', 'o', 'p')\n",
      "('o', 'p', 'r')\n",
      "('o', 'r', 'p')\n"
     ]
    }
   ],
   "source": [
    "for p in permutations('pro'):\n",
    "    print(p)"
   ]
  },
  {
   "cell_type": "code",
   "execution_count": 439,
   "id": "d73a4473",
   "metadata": {},
   "outputs": [
    {
     "name": "stdout",
     "output_type": "stream",
     "text": [
      "['pro', 'por', 'rpo', 'rop', 'opr', 'orp']\n"
     ]
    }
   ],
   "source": [
    "# Example 2: Using itertools\n",
    "from itertools import permutations\n",
    "\n",
    "words = [''.join(p) for p in permutations('pro')]\n",
    "\n",
    "print(words)\n"
   ]
  },
  {
   "cell_type": "markdown",
   "id": "523c3a74",
   "metadata": {},
   "source": [
    "#### 93. Python Program to Create a Countdown Timer\n"
   ]
  },
  {
   "cell_type": "code",
   "execution_count": 433,
   "id": "6b9a7b84",
   "metadata": {},
   "outputs": [
    {
     "name": "stdout",
     "output_type": "stream",
     "text": [
      "stop1\n"
     ]
    }
   ],
   "source": [
    "import time\n",
    "\n",
    "def countdown(time_sec):\n",
    "    while time_sec:\n",
    "        mins, secs = divmod(time_sec, 60)\n",
    "#         print(mins,secs)\n",
    "        timeformat = '{:02d}:{:02d}'.format(mins, secs)\n",
    "        print(timeformat, end='\\r')\n",
    "        time.sleep(1)\n",
    "        time_sec -= 1\n",
    "\n",
    "    print(\"stop\")\n",
    "\n",
    "countdown(5)"
   ]
  },
  {
   "cell_type": "code",
   "execution_count": 436,
   "id": "e9f88d0f",
   "metadata": {},
   "outputs": [
    {
     "name": "stdout",
     "output_type": "stream",
     "text": [
      "0\n"
     ]
    }
   ],
   "source": [
    "n = 5\n",
    "while n:\n",
    "    \n",
    "    print(n,end=\"\\r\")\n",
    "    time.sleep(1)\n",
    "    n-=1\n",
    "print(\"0\")"
   ]
  },
  {
   "cell_type": "markdown",
   "id": "2a003b7c",
   "metadata": {},
   "source": [
    "#### 94. Python Program to Count the Number of Occurrence of a Character in String\n"
   ]
  },
  {
   "cell_type": "code",
   "execution_count": 429,
   "id": "62557833",
   "metadata": {
    "scrolled": true
   },
   "outputs": [
    {
     "name": "stdout",
     "output_type": "stream",
     "text": [
      "1\n"
     ]
    }
   ],
   "source": [
    "# Example 1: Using a for loop\n",
    "count = 0\n",
    "\n",
    "my_string = \"ashish bindra\"\n",
    "my_char = \"r\"\n",
    "\n",
    "for i in my_string:\n",
    "    if i == my_char:\n",
    "        count += 1\n",
    "\n",
    "print(count)"
   ]
  },
  {
   "cell_type": "code",
   "execution_count": 430,
   "id": "074275e5",
   "metadata": {},
   "outputs": [
    {
     "name": "stdout",
     "output_type": "stream",
     "text": [
      "1\n"
     ]
    }
   ],
   "source": [
    "print(my_string.count(my_char))\n"
   ]
  },
  {
   "cell_type": "code",
   "execution_count": 260,
   "id": "6c4a8a71",
   "metadata": {
    "scrolled": true
   },
   "outputs": [
    {
     "name": "stdout",
     "output_type": "stream",
     "text": [
      "a = 2 Times\n",
      "s = 2 Times\n",
      "h = 2 Times\n",
      "i = 2 Times\n",
      "  = 1 Times\n",
      "b = 1 Times\n",
      "n = 1 Times\n",
      "d = 1 Times\n",
      "r = 1 Times\n"
     ]
    }
   ],
   "source": [
    "s = \"ashish bindra\"\n",
    "d={}\n",
    "\n",
    "for x in s: \n",
    "    if x in d.keys(): \n",
    "        d[x]=d[x]+1 \n",
    "    else: \n",
    "        d[x]=1\n",
    "\n",
    "for k,v in d.items():\n",
    "    print(f\"{k} = {v} Times\")"
   ]
  },
  {
   "cell_type": "code",
   "execution_count": 264,
   "id": "f27165f4",
   "metadata": {
    "scrolled": true
   },
   "outputs": [
    {
     "name": "stdout",
     "output_type": "stream",
     "text": [
      "n => 1\n",
      "i => 2\n",
      "d => 1\n",
      "  => 1\n",
      "a => 2\n",
      "r => 1\n",
      "s => 2\n",
      "b => 1\n",
      "h => 2\n"
     ]
    }
   ],
   "source": [
    "s = \"ashish bindra\"\n",
    "sets = set(s)\n",
    "for w in sets:\n",
    "    print(f\"{w} => {s.count(w)}\")"
   ]
  },
  {
   "cell_type": "code",
   "execution_count": 265,
   "id": "32da24bc",
   "metadata": {
    "scrolled": true
   },
   "outputs": [
    {
     "name": "stdout",
     "output_type": "stream",
     "text": [
      "a occurred  2  times\n",
      "s occurred  2  times\n",
      "h occurred  2  times\n",
      "i occurred  2  times\n",
      "  occurred  1  times\n",
      "b occurred  1  times\n",
      "n occurred  1  times\n",
      "d occurred  1  times\n",
      "r occurred  1  times\n"
     ]
    }
   ],
   "source": [
    "word= \"ashish bindra\"\n",
    "d={} \n",
    "\n",
    "for x in word: \n",
    "    d[x]=d.get(x,0)+1 \n",
    "\n",
    "for k,v in d.items(): \n",
    "    print(k,\"occurred \",v,\" times\")"
   ]
  },
  {
   "cell_type": "markdown",
   "id": "8a03360c",
   "metadata": {},
   "source": [
    "#### 95. Python Program to Remove Duplicate Element From a List\n"
   ]
  },
  {
   "cell_type": "code",
   "execution_count": 199,
   "id": "cbfcabae",
   "metadata": {},
   "outputs": [
    {
     "data": {
      "text/plain": [
       "{1, 2, 12, 21, 34}"
      ]
     },
     "execution_count": 199,
     "metadata": {},
     "output_type": "execute_result"
    }
   ],
   "source": [
    "l=[1,21,2,1,2,21,12,34,] \n",
    "l1=set(l)\n",
    "\n",
    "l1"
   ]
  },
  {
   "cell_type": "code",
   "execution_count": 428,
   "id": "74817355",
   "metadata": {},
   "outputs": [
    {
     "name": "stdout",
     "output_type": "stream",
     "text": [
      "[4, 6, 7, 8]\n"
     ]
    }
   ],
   "source": [
    "# Example 2: Remove the items that are duplicated in two lists\n",
    "list_1 = [1, 2, 1, 4, 6]\n",
    "list_2 = [7, 8, 2, 1]\n",
    "\n",
    "print(list(set(list_1) ^ set(list_2)))"
   ]
  },
  {
   "cell_type": "code",
   "execution_count": 198,
   "id": "b936f1da",
   "metadata": {
    "scrolled": true
   },
   "outputs": [
    {
     "name": "stdout",
     "output_type": "stream",
     "text": [
      "[1, 21, 2, 12, 34]\n"
     ]
    }
   ],
   "source": [
    "l=[1,21,2,1,2,21,12,34,] \n",
    "l1=[]\n",
    "\n",
    "for x in l:\n",
    "    if x not in l1:\n",
    "        l1.append(x) \n",
    "\n",
    "print(l1)"
   ]
  },
  {
   "cell_type": "code",
   "execution_count": 257,
   "id": "a7c3ff4c",
   "metadata": {},
   "outputs": [
    {
     "name": "stdout",
     "output_type": "stream",
     "text": [
      "[1, 21, 2, 12, 34]\n"
     ]
    }
   ],
   "source": [
    "l=[1,21,2,1,2,21,12,34,] \n",
    "l1= []\n",
    "\n",
    "[l1.append(x) for x in l if x not in l1]\n",
    "\n",
    "print(l1)"
   ]
  },
  {
   "cell_type": "code",
   "execution_count": 258,
   "id": "771a16f4",
   "metadata": {},
   "outputs": [
    {
     "name": "stdout",
     "output_type": "stream",
     "text": [
      "[1, 21, 2, 12, 34]\n"
     ]
    },
    {
     "data": {
      "text/plain": [
       "[None, None, None, 1, 2, 21, None, None]"
      ]
     },
     "execution_count": 258,
     "metadata": {},
     "output_type": "execute_result"
    }
   ],
   "source": [
    "l=[1,21,2,1,2,21,12,34] \n",
    "l1= []\n",
    "\n",
    "l1 = []\n",
    "l3 = [l1.append(x)  if x not in l1 else x for x in l]\n",
    "\n",
    "print(l1)\n",
    "l3"
   ]
  },
  {
   "cell_type": "markdown",
   "id": "1ddc1254",
   "metadata": {},
   "source": [
    "#### 96. Python Program to Convert Bytes to a String"
   ]
  },
  {
   "cell_type": "code",
   "execution_count": 171,
   "id": "0e84da25",
   "metadata": {},
   "outputs": [
    {
     "name": "stdout",
     "output_type": "stream",
     "text": [
      "<class 'bytes'>\n",
      "<class 'str'>\n",
      "b'ashish' <class 'bytes'>\n"
     ]
    }
   ],
   "source": [
    "byte_data = b'Hello, World!'\n",
    "print(type(byte_data))\n",
    "\n",
    "string_data = byte_data.decode('utf-8')\n",
    "print(type(string_data))\n",
    "\n",
    "value = bytes(\"ashish\".encode())\n",
    "\n",
    "print(value, type(value))"
   ]
  },
  {
   "cell_type": "code",
   "execution_count": 427,
   "id": "11d55aee",
   "metadata": {},
   "outputs": [
    {
     "name": "stdout",
     "output_type": "stream",
     "text": [
      "Easy ✅\n"
     ]
    }
   ],
   "source": [
    "# Using decode()\n",
    "print(b'Easy \\xE2\\x9C\\x85'.decode(\"utf-8\"))"
   ]
  }
 ],
 "metadata": {
  "kernelspec": {
   "display_name": "Python 3 (ipykernel)",
   "language": "python",
   "name": "python3"
  },
  "language_info": {
   "codemirror_mode": {
    "name": "ipython",
    "version": 3
   },
   "file_extension": ".py",
   "mimetype": "text/x-python",
   "name": "python",
   "nbconvert_exporter": "python",
   "pygments_lexer": "ipython3",
   "version": "3.11.5"
  }
 },
 "nbformat": 4,
 "nbformat_minor": 5
}

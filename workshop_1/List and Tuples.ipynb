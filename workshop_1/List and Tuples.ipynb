{
 "cells": [
  {
   "cell_type": "markdown",
   "id": "703dc995",
   "metadata": {},
   "source": [
    "### Lists and Tuples\n",
    "\n",
    "These are called compond data types"
   ]
  },
  {
   "cell_type": "markdown",
   "id": "fc6fb902",
   "metadata": {},
   "source": [
    "#### Tuples\n",
    "\n",
    "- Touples are an ordered sequence\n",
    "- Tuples are written as comma-separated within parentheses\n",
    "- each eement can be acces by an index\n",
    "- we can use -ve indexing also"
   ]
  },
  {
   "cell_type": "code",
   "execution_count": 2,
   "id": "0b3f0086",
   "metadata": {},
   "outputs": [
    {
     "name": "stdout",
     "output_type": "stream",
     "text": [
      "(10, 9, 6, 5, 10, 8, 9, 6, 2)\n"
     ]
    },
    {
     "data": {
      "text/plain": [
       "10"
      ]
     },
     "execution_count": 2,
     "metadata": {},
     "output_type": "execute_result"
    }
   ],
   "source": [
    "# example of touple\n",
    "rating = (10,9,6,5,10,8,9,6,2)\n",
    "print(rating)\n",
    "rating[0]\n"
   ]
  },
  {
   "cell_type": "markdown",
   "id": "18fade61",
   "metadata": {},
   "source": [
    "#### concatenating\n"
   ]
  },
  {
   "cell_type": "code",
   "execution_count": 4,
   "id": "7a6fe3a8",
   "metadata": {},
   "outputs": [
    {
     "data": {
      "text/plain": [
       "('As', 3.3, 2, 'ashish')"
      ]
     },
     "execution_count": 4,
     "metadata": {},
     "output_type": "execute_result"
    }
   ],
   "source": [
    "t1 = (\"As\",3.3,2)\n",
    "t2 = t1 + (\"ashish\",)\n",
    "t2"
   ]
  },
  {
   "cell_type": "code",
   "execution_count": 5,
   "id": "451410a7",
   "metadata": {
    "scrolled": true
   },
   "outputs": [
    {
     "data": {
      "text/plain": [
       "(2, 'ashish')"
      ]
     },
     "execution_count": 5,
     "metadata": {},
     "output_type": "execute_result"
    }
   ],
   "source": [
    "# slicing\n",
    "t2[2:5]"
   ]
  },
  {
   "cell_type": "markdown",
   "id": "d769694d",
   "metadata": {},
   "source": [
    "#### Immutable\n",
    "which means we cant change them"
   ]
  },
  {
   "cell_type": "code",
   "execution_count": 6,
   "id": "83d21c8f",
   "metadata": {},
   "outputs": [
    {
     "ename": "TypeError",
     "evalue": "'tuple' object does not support item assignment",
     "output_type": "error",
     "traceback": [
      "\u001b[1;31m---------------------------------------------------------------------------\u001b[0m",
      "\u001b[1;31mTypeError\u001b[0m                                 Traceback (most recent call last)",
      "Cell \u001b[1;32mIn[6], line 1\u001b[0m\n\u001b[1;32m----> 1\u001b[0m t2[\u001b[38;5;241m1\u001b[39m] \u001b[38;5;241m=\u001b[39m \u001b[38;5;124m\"\u001b[39m\u001b[38;5;124masss\u001b[39m\u001b[38;5;124m\"\u001b[39m\n",
      "\u001b[1;31mTypeError\u001b[0m: 'tuple' object does not support item assignment"
     ]
    }
   ],
   "source": [
    "t2[1] = \"asss\""
   ]
  },
  {
   "cell_type": "code",
   "execution_count": 8,
   "id": "da16eb31",
   "metadata": {},
   "outputs": [
    {
     "data": {
      "text/plain": [
       "[10, 10, 11, 12, 14, 20, 23, 33, 44]"
      ]
     },
     "execution_count": 8,
     "metadata": {},
     "output_type": "execute_result"
    }
   ],
   "source": [
    "v1 = 10,20,33,10,12,23,44,11,14\n",
    "sorted(v1)"
   ]
  },
  {
   "cell_type": "code",
   "execution_count": 10,
   "id": "f2a45482",
   "metadata": {
    "scrolled": true
   },
   "outputs": [
    {
     "ename": "AttributeError",
     "evalue": "'tuple' object has no attribute 'sort'",
     "output_type": "error",
     "traceback": [
      "\u001b[1;31m---------------------------------------------------------------------------\u001b[0m",
      "\u001b[1;31mAttributeError\u001b[0m                            Traceback (most recent call last)",
      "Cell \u001b[1;32mIn[10], line 1\u001b[0m\n\u001b[1;32m----> 1\u001b[0m v1\u001b[38;5;241m.\u001b[39msort()\n",
      "\u001b[1;31mAttributeError\u001b[0m: 'tuple' object has no attribute 'sort'"
     ]
    }
   ],
   "source": [
    "v1.sort()"
   ]
  },
  {
   "cell_type": "markdown",
   "id": "97cc47b8",
   "metadata": {},
   "source": [
    "### Set\n",
    "- Sets are a type of collection\n",
    "- unlike lists and touples they are unorderd\n",
    "- sets only have unique elements\n"
   ]
  },
  {
   "cell_type": "markdown",
   "id": "8132dbc6",
   "metadata": {},
   "source": [
    "#### It remove duplicate"
   ]
  },
  {
   "cell_type": "code",
   "execution_count": 11,
   "id": "7cb75507",
   "metadata": {},
   "outputs": [
    {
     "data": {
      "text/plain": [
       "{'a', 'b', 'c', 'd', 'e'}"
      ]
     },
     "execution_count": 11,
     "metadata": {},
     "output_type": "execute_result"
    }
   ],
   "source": [
    "# Create a set\n",
    "set1 = {\"a\",\"b\",\"c\",\"d\",\"e\",\"a\",\"b\",\"a\"}\n",
    "set1"
   ]
  },
  {
   "cell_type": "code",
   "execution_count": 13,
   "id": "a8eb0ff6",
   "metadata": {},
   "outputs": [
    {
     "data": {
      "text/plain": [
       "{'jakson', 'mical', 'thriller'}"
      ]
     },
     "execution_count": 13,
     "metadata": {},
     "output_type": "execute_result"
    }
   ],
   "source": [
    "# type casting\n",
    "\n",
    "album = [\"mical\",\"jakson\",\"thriller\",\"thriller\"]\n",
    "\n",
    "set_album = set(album)\n",
    "set_album"
   ]
  },
  {
   "cell_type": "markdown",
   "id": "d3a90541",
   "metadata": {},
   "source": [
    "#### oprations\n",
    "\n"
   ]
  },
  {
   "cell_type": "markdown",
   "id": "cb984617",
   "metadata": {},
   "source": [
    "#### is we add same element twise nothing will happen as there is no dublicate in set"
   ]
  },
  {
   "cell_type": "code",
   "execution_count": 15,
   "id": "69befb11",
   "metadata": {},
   "outputs": [
    {
     "data": {
      "text/plain": [
       "{'ac', 'bcb', 'nsy', 'thr'}"
      ]
     },
     "execution_count": 15,
     "metadata": {},
     "output_type": "execute_result"
    }
   ],
   "source": [
    "a = {\"ac\",\"bcb\",\"nsy\",\"thr\"}\n",
    "\n",
    "a.add(\"nsy\")\n",
    "a"
   ]
  },
  {
   "cell_type": "code",
   "execution_count": 16,
   "id": "6bc477c6",
   "metadata": {},
   "outputs": [
    {
     "data": {
      "text/plain": [
       "{'ac', 'bcb', 'thr'}"
      ]
     },
     "execution_count": 16,
     "metadata": {},
     "output_type": "execute_result"
    }
   ],
   "source": [
    "# remove\n",
    "a.remove(\"nsy\")\n",
    "a"
   ]
  },
  {
   "cell_type": "code",
   "execution_count": 17,
   "id": "6e6064ff",
   "metadata": {},
   "outputs": [
    {
     "data": {
      "text/plain": [
       "True"
      ]
     },
     "execution_count": 17,
     "metadata": {},
     "output_type": "execute_result"
    }
   ],
   "source": [
    "\"ac\" in a\n"
   ]
  },
  {
   "cell_type": "code",
   "execution_count": 18,
   "id": "e1535be1",
   "metadata": {},
   "outputs": [
    {
     "data": {
      "text/plain": [
       "False"
      ]
     },
     "execution_count": 18,
     "metadata": {},
     "output_type": "execute_result"
    }
   ],
   "source": [
    "\"who\" in a"
   ]
  },
  {
   "cell_type": "markdown",
   "id": "a86549ce",
   "metadata": {},
   "source": [
    "#### intersection\n"
   ]
  },
  {
   "cell_type": "code",
   "execution_count": 19,
   "id": "956eb0a8",
   "metadata": {
    "scrolled": true
   },
   "outputs": [
    {
     "data": {
      "text/plain": [
       "{'ac', 'black'}"
      ]
     },
     "execution_count": 19,
     "metadata": {},
     "output_type": "execute_result"
    }
   ],
   "source": [
    "a = {\"ac\",\"black\",\"thr\"}\n",
    "b = {\"ac\",\"black\",\"new\"}\n",
    "\n",
    "a&b"
   ]
  },
  {
   "cell_type": "code",
   "execution_count": 20,
   "id": "d987bd58",
   "metadata": {},
   "outputs": [
    {
     "data": {
      "text/plain": [
       "{'ac', 'black', 'new', 'thr'}"
      ]
     },
     "execution_count": 20,
     "metadata": {},
     "output_type": "execute_result"
    }
   ],
   "source": [
    "a.union(b)"
   ]
  },
  {
   "cell_type": "code",
   "execution_count": 23,
   "id": "09c646c3",
   "metadata": {},
   "outputs": [],
   "source": [
    "c = {\"ac\"}"
   ]
  },
  {
   "cell_type": "code",
   "execution_count": 22,
   "id": "4ec362b7",
   "metadata": {},
   "outputs": [
    {
     "data": {
      "text/plain": [
       "False"
      ]
     },
     "execution_count": 22,
     "metadata": {},
     "output_type": "execute_result"
    }
   ],
   "source": [
    "a.issubset(b)"
   ]
  },
  {
   "cell_type": "code",
   "execution_count": 24,
   "id": "240b179e",
   "metadata": {
    "scrolled": false
   },
   "outputs": [
    {
     "data": {
      "text/plain": [
       "True"
      ]
     },
     "execution_count": 24,
     "metadata": {},
     "output_type": "execute_result"
    }
   ],
   "source": [
    "c.issubset(a)"
   ]
  },
  {
   "cell_type": "code",
   "execution_count": 25,
   "id": "a4d4b2e9",
   "metadata": {
    "scrolled": true
   },
   "outputs": [
    {
     "data": {
      "text/plain": [
       "False"
      ]
     },
     "execution_count": 25,
     "metadata": {},
     "output_type": "execute_result"
    }
   ],
   "source": [
    "a.issubset(c)"
   ]
  },
  {
   "cell_type": "code",
   "execution_count": 26,
   "id": "22e17f46",
   "metadata": {},
   "outputs": [],
   "source": [
    "# Sample Sets\n",
    "\n",
    "album_set1 = set([\"Thriller\", 'AC/DC', 'Back in Black'])\n",
    "album_set2 = set([ \"AC/DC\", \"Back in Black\", \"The Dark Side of the Moon\"])"
   ]
  },
  {
   "cell_type": "code",
   "execution_count": 27,
   "id": "c20034a3",
   "metadata": {},
   "outputs": [
    {
     "data": {
      "text/plain": [
       "({'AC/DC', 'Back in Black', 'Thriller'},\n",
       " {'AC/DC', 'Back in Black', 'The Dark Side of the Moon'})"
      ]
     },
     "execution_count": 27,
     "metadata": {},
     "output_type": "execute_result"
    }
   ],
   "source": [
    "album_set1, album_set2"
   ]
  },
  {
   "cell_type": "code",
   "execution_count": 28,
   "id": "bf0ff3a7",
   "metadata": {},
   "outputs": [
    {
     "data": {
      "text/plain": [
       "{'AC/DC', 'Back in Black'}"
      ]
     },
     "execution_count": 28,
     "metadata": {},
     "output_type": "execute_result"
    }
   ],
   "source": [
    "# Find the intersections\n",
    "\n",
    "intersection = album_set1 & album_set2\n",
    "intersection"
   ]
  },
  {
   "cell_type": "code",
   "execution_count": 29,
   "id": "1cc218fb",
   "metadata": {},
   "outputs": [
    {
     "data": {
      "text/plain": [
       "{'Thriller'}"
      ]
     },
     "execution_count": 29,
     "metadata": {},
     "output_type": "execute_result"
    }
   ],
   "source": [
    "# Find the difference in set1 but not set2\n",
    "\n",
    "album_set1.difference(album_set2)  "
   ]
  },
  {
   "cell_type": "code",
   "execution_count": 30,
   "id": "f32fdc6f",
   "metadata": {},
   "outputs": [
    {
     "data": {
      "text/plain": [
       "{'The Dark Side of the Moon'}"
      ]
     },
     "execution_count": 30,
     "metadata": {},
     "output_type": "execute_result"
    }
   ],
   "source": [
    "album_set2.difference(album_set1)  "
   ]
  },
  {
   "cell_type": "code",
   "execution_count": 31,
   "id": "73177077",
   "metadata": {},
   "outputs": [
    {
     "data": {
      "text/plain": [
       "{'AC/DC', 'Back in Black'}"
      ]
     },
     "execution_count": 31,
     "metadata": {},
     "output_type": "execute_result"
    }
   ],
   "source": [
    "# Use intersection method to find the intersection of album_list1 and album_list2\n",
    "\n",
    "album_set1.intersection(album_set2)   "
   ]
  },
  {
   "cell_type": "code",
   "execution_count": 32,
   "id": "72aea9d5",
   "metadata": {},
   "outputs": [
    {
     "data": {
      "text/plain": [
       "{'AC/DC', 'Back in Black', 'The Dark Side of the Moon', 'Thriller'}"
      ]
     },
     "execution_count": 32,
     "metadata": {},
     "output_type": "execute_result"
    }
   ],
   "source": [
    "# Find the union of two sets\n",
    "\n",
    "album_set1.union(album_set2)"
   ]
  },
  {
   "cell_type": "code",
   "execution_count": 33,
   "id": "74112e4e",
   "metadata": {},
   "outputs": [
    {
     "data": {
      "text/plain": [
       "False"
      ]
     },
     "execution_count": 33,
     "metadata": {},
     "output_type": "execute_result"
    }
   ],
   "source": [
    "# Check if superset\n",
    "\n",
    "set(album_set1).issuperset(album_set2)   "
   ]
  },
  {
   "cell_type": "code",
   "execution_count": 34,
   "id": "2d56beea",
   "metadata": {
    "collapsed": true
   },
   "outputs": [
    {
     "data": {
      "text/plain": [
       "False"
      ]
     },
     "execution_count": 34,
     "metadata": {},
     "output_type": "execute_result"
    }
   ],
   "source": [
    "# Check if subset\n",
    "\n",
    "set(album_set2).issubset(album_set1)     "
   ]
  },
  {
   "cell_type": "code",
   "execution_count": 35,
   "id": "4f628e72",
   "metadata": {},
   "outputs": [
    {
     "data": {
      "text/plain": [
       "True"
      ]
     },
     "execution_count": 35,
     "metadata": {},
     "output_type": "execute_result"
    }
   ],
   "source": [
    "# Check if subset\n",
    "\n",
    "set({\"Back in Black\", \"AC/DC\"}).issubset(album_set1) "
   ]
  },
  {
   "cell_type": "code",
   "execution_count": 36,
   "id": "6df65c2e",
   "metadata": {},
   "outputs": [
    {
     "data": {
      "text/plain": [
       "True"
      ]
     },
     "execution_count": 36,
     "metadata": {},
     "output_type": "execute_result"
    }
   ],
   "source": [
    "# Check if superset\n",
    "\n",
    "album_set1.issuperset({\"Back in Black\", \"AC/DC\"})   "
   ]
  },
  {
   "cell_type": "markdown",
   "id": "a9ba31e4",
   "metadata": {},
   "source": [
    "### ## Quiz on Sets\n"
   ]
  },
  {
   "cell_type": "markdown",
   "id": "0c0d6e07",
   "metadata": {},
   "source": [
    "Convert the list <code>\\['rap','house','electronic music', 'rap']</code> to a set:\n",
    " "
   ]
  },
  {
   "cell_type": "code",
   "execution_count": null,
   "id": "49901131",
   "metadata": {},
   "outputs": [],
   "source": []
  },
  {
   "cell_type": "markdown",
   "id": "1ea6f41d",
   "metadata": {},
   "source": [
    "Consider the list <code>A = \\[1, 2, 2, 1]</code> and set <code>B = set(\\[1, 2, 2, 1])</code>, does <code>sum(A) == sum(B)</code>?\n",
    " "
   ]
  },
  {
   "cell_type": "code",
   "execution_count": 38,
   "id": "b173119a",
   "metadata": {},
   "outputs": [
    {
     "name": "stdout",
     "output_type": "stream",
     "text": [
      "the sum of A is: 6\n",
      "the sum of B is: 3\n"
     ]
    },
    {
     "data": {
      "text/plain": [
       "False"
      ]
     },
     "execution_count": 38,
     "metadata": {},
     "output_type": "execute_result"
    }
   ],
   "source": [
    "A = [1, 2, 2, 1]  \n",
    "B = set([1, 2, 2, 1])\n",
    "print(\"the sum of A is:\", sum(A))\n",
    "print(\"the sum of B is:\", sum(B))\n",
    "sum(A) == sum(B)"
   ]
  },
  {
   "cell_type": "markdown",
   "id": "deba25fc",
   "metadata": {},
   "source": [
    "### Create a new set <code>album_set3</code> that is the union of <code>album_set1</code> and <code>album_set2</code>:\n"
   ]
  },
  {
   "cell_type": "code",
   "execution_count": 39,
   "id": "3bfff557",
   "metadata": {},
   "outputs": [],
   "source": [
    "album_set1 = set([\"Thriller\", 'AC/DC', 'Back in Black'])\n",
    "album_set2 = set([ \"AC/DC\", \"Back in Black\", \"The Dark Side of the Moon\"])"
   ]
  },
  {
   "cell_type": "code",
   "execution_count": 40,
   "id": "63eb971a",
   "metadata": {
    "scrolled": true
   },
   "outputs": [
    {
     "data": {
      "text/plain": [
       "{'AC/DC', 'Back in Black', 'The Dark Side of the Moon', 'Thriller'}"
      ]
     },
     "execution_count": 40,
     "metadata": {},
     "output_type": "execute_result"
    }
   ],
   "source": [
    "album_set3 = album_set1.union(album_set2)\n",
    "album_set3"
   ]
  },
  {
   "cell_type": "markdown",
   "id": "b4e591c7",
   "metadata": {},
   "source": [
    "Find out if <code>album_set1</code> is a subset of <code>album_set3</code>:\n",
    " "
   ]
  },
  {
   "cell_type": "code",
   "execution_count": 41,
   "id": "9078952e",
   "metadata": {
    "scrolled": true
   },
   "outputs": [
    {
     "data": {
      "text/plain": [
       "True"
      ]
     },
     "execution_count": 41,
     "metadata": {},
     "output_type": "execute_result"
    }
   ],
   "source": [
    "album_set1.issubset(album_set3)\n"
   ]
  },
  {
   "cell_type": "markdown",
   "id": "1dee5341",
   "metadata": {},
   "source": [
    "## Scenario:Inventory Store\n"
   ]
  },
  {
   "cell_type": "markdown",
   "id": "452effcc",
   "metadata": {},
   "source": [
    "## Task-1 Create an empty dictionary \n",
    "First you need to create an empty dictionary, where you will be storing the product details.\n"
   ]
  },
  {
   "cell_type": "code",
   "execution_count": 42,
   "id": "1b12ffbe",
   "metadata": {},
   "outputs": [],
   "source": [
    "inventory ={}\n"
   ]
  },
  {
   "cell_type": "markdown",
   "id": "b47b2c0d",
   "metadata": {},
   "source": [
    "## Task-2 Store the first product details in variable\n",
    "* Product Name= Mobile phone\n",
    "* Product Quantity= 5\n",
    "* Product price= 20000\n",
    "* Product Release Year= 2020"
   ]
  },
  {
   "cell_type": "code",
   "execution_count": 43,
   "id": "fc85fef3",
   "metadata": {},
   "outputs": [],
   "source": [
    "ProductNo1 = \"Mobile Phone\"\n",
    "ProductNo1_quantity = 5\n",
    "ProductNo1_price = 20000\n",
    "ProductNo1_releaseYear= 2020"
   ]
  },
  {
   "cell_type": "markdown",
   "id": "ed8f1cb5",
   "metadata": {},
   "source": [
    "## Task-3 Add the details in inventory\n"
   ]
  },
  {
   "cell_type": "code",
   "execution_count": 45,
   "id": "fe96e0f1",
   "metadata": {},
   "outputs": [],
   "source": [
    "inventory[\"ProductNo1\"]= ProductNo1\n",
    "inventory[\"ProductNo1_quantity\"]= ProductNo1_quantity\n",
    "inventory[\"ProductNo1_price\"]= ProductNo1_price\n",
    "inventory[\"ProductNo1_releaseYear\"]=ProductNo1_releaseYear"
   ]
  },
  {
   "cell_type": "markdown",
   "id": "0d5aa830",
   "metadata": {},
   "source": [
    "## Task-4 Store the second product details in a variable.\n",
    "* Product Name= \"Laptop\"\n",
    "* Product Quantity= 10\n",
    "* Product price = 50000\n",
    "* Product Release Year= 2023"
   ]
  },
  {
   "cell_type": "code",
   "execution_count": 46,
   "id": "753e2aba",
   "metadata": {},
   "outputs": [],
   "source": [
    "ProductNo2 = \"Laptop\"\n",
    "ProductNo2_quantity = 10\n",
    "ProductNo2_price = 50000\n",
    "ProductNo2_releaseYear= 2023"
   ]
  },
  {
   "cell_type": "markdown",
   "id": "5db0b478",
   "metadata": {},
   "source": [
    "## Task-5 Add the item detail into the inventory.\n"
   ]
  },
  {
   "cell_type": "code",
   "execution_count": 47,
   "id": "37de5481",
   "metadata": {},
   "outputs": [],
   "source": [
    "inventory[\"ProductNo2\"]= ProductNo2\n",
    "inventory[\"ProductNo2_quantity\"]= ProductNo2_quantity\n",
    "inventory[\"ProductNo2_price\"]= ProductNo2_price\n",
    "inventory[\"ProductNo2_releaseYear\"]=ProductNo2_releaseYear"
   ]
  },
  {
   "cell_type": "markdown",
   "id": "76746cd8",
   "metadata": {},
   "source": [
    "## Task-6 Display the Products present in the inventory\n"
   ]
  },
  {
   "cell_type": "code",
   "execution_count": 48,
   "id": "907e461f",
   "metadata": {},
   "outputs": [
    {
     "name": "stdout",
     "output_type": "stream",
     "text": [
      "{'ProductNo1': 'Mobile Phone', 'ProductNo1_quantity': 5, 'ProductNo1_price': 20000, 'ProductNo1_releaseYear': 2020, 'ProductNo2': 'Laptop', 'ProductNo2_quantity': 10, 'ProductNo2_price': 50000, 'ProductNo2_releaseYear': 2023}\n"
     ]
    }
   ],
   "source": [
    "print(inventory)\n"
   ]
  },
  {
   "cell_type": "markdown",
   "id": "7c7b890d",
   "metadata": {},
   "source": [
    "## Task-7 Check if `ProductNo1_releaseYear` and `ProductNo2_releaseYear` is in the inventory\n",
    " "
   ]
  },
  {
   "cell_type": "code",
   "execution_count": 49,
   "id": "736a8948",
   "metadata": {},
   "outputs": [
    {
     "data": {
      "text/plain": [
       "True"
      ]
     },
     "execution_count": 49,
     "metadata": {},
     "output_type": "execute_result"
    }
   ],
   "source": [
    "\"ProductNo1_releaseYear\" in inventory\n"
   ]
  },
  {
   "cell_type": "code",
   "execution_count": 50,
   "id": "e36c8bdc",
   "metadata": {},
   "outputs": [
    {
     "data": {
      "text/plain": [
       "True"
      ]
     },
     "execution_count": 50,
     "metadata": {},
     "output_type": "execute_result"
    }
   ],
   "source": [
    "\"ProductNo2_releaseYear\" in inventory"
   ]
  },
  {
   "cell_type": "markdown",
   "id": "f6a83af0",
   "metadata": {},
   "source": [
    "## Task-8 Delete release year of both the products from the inventory\n"
   ]
  },
  {
   "cell_type": "code",
   "execution_count": 51,
   "id": "04ca5669",
   "metadata": {},
   "outputs": [],
   "source": [
    "del(inventory[\"ProductNo1_releaseYear\"])\n",
    "del(inventory[\"ProductNo2_releaseYear\"])"
   ]
  }
 ],
 "metadata": {
  "kernelspec": {
   "display_name": "Python 3 (ipykernel)",
   "language": "python",
   "name": "python3"
  },
  "language_info": {
   "codemirror_mode": {
    "name": "ipython",
    "version": 3
   },
   "file_extension": ".py",
   "mimetype": "text/x-python",
   "name": "python",
   "nbconvert_exporter": "python",
   "pygments_lexer": "ipython3",
   "version": "3.11.5"
  }
 },
 "nbformat": 4,
 "nbformat_minor": 5
}

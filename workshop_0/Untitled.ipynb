{
 "cells": [
  {
   "cell_type": "code",
   "execution_count": 14,
   "id": "3ac5b750",
   "metadata": {},
   "outputs": [
    {
     "name": "stdout",
     "output_type": "stream",
     "text": [
      "bms\n",
      "bruker\n",
      "energy\n",
      "keithley\n",
      "monomoto\n",
      "postprocessing\n",
      "triggers\n",
      "triggers_timestamp\n",
      "['bms', 'bruker', 'energy', 'keithley', 'monomoto', 'postprocessing', 'triggers', 'triggers_timestamp']\n"
     ]
    }
   ],
   "source": [
    "import h5py\n",
    "import numpy as np\n",
    "import os\n",
    "import sys\n",
    "import doctest\n",
    "\n",
    "\n",
    "def read_hd5_np(h5_name = 'Hf(SO4)2_XANES_2019-12-13_16-45.h5'):\n",
    "    file_txt = open(\"abc.txt\",'w')\n",
    "    \n",
    "    with h5py.File(h5_name, 'r') as h5_file:\n",
    "        for i in h5_file:\n",
    "            file_txt.write(i+'\\n')\n",
    "            print(i)\n",
    "    file_txt.close() \n",
    "    \n",
    "read_hd5_np()"
   ]
  },
  {
   "cell_type": "code",
   "execution_count": null,
   "id": "99eb0396",
   "metadata": {},
   "outputs": [],
   "source": []
  }
 ],
 "metadata": {
  "kernelspec": {
   "display_name": "Python 3 (ipykernel)",
   "language": "python",
   "name": "python3"
  },
  "language_info": {
   "codemirror_mode": {
    "name": "ipython",
    "version": 3
   },
   "file_extension": ".py",
   "mimetype": "text/x-python",
   "name": "python",
   "nbconvert_exporter": "python",
   "pygments_lexer": "ipython3",
   "version": "3.11.5"
  }
 },
 "nbformat": 4,
 "nbformat_minor": 5
}
